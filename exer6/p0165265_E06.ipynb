{
 "cells": [
  {
   "cell_type": "markdown",
   "metadata": {},
   "source": [
    "## 第六次练习"
   ]
  },
  {
   "cell_type": "markdown",
   "metadata": {},
   "source": [
    "+ 请务必交到exer6文件夹下，**谢绝交到master下**\n",
    "+ 请不要改动任何文件，拜托\n",
    "+ 请在12月4日前提交。"
   ]
  },
  {
   "cell_type": "markdown",
   "metadata": {},
   "source": [
    "请写一下姓名和学号：\n",
    "+ 姓名  马梓城\n",
    "+ 学号  0165265"
   ]
  },
  {
   "cell_type": "markdown",
   "metadata": {},
   "source": [
    "### 请建立一个数据框，列出你在双十一购买的至少五样物品。\n",
    "用它们的名称作为index的label，在列里列出这些物品（数据可以是虚拟的）的：\n",
    "+ 价格\n",
    "+ 购买的数量\n",
    "+ 收到的时间（类似1113即可，表示11月13日收到）\n",
    "+ 你的评价（从1到5，1表示很不好，5表示很好）"
   ]
  },
  {
   "cell_type": "code",
   "execution_count": 2,
   "metadata": {
    "collapsed": true
   },
   "outputs": [],
   "source": [
    "import pandas as pd"
   ]
  },
  {
   "cell_type": "code",
   "execution_count": 19,
   "metadata": {
    "collapsed": false
   },
   "outputs": [
    {
     "data": {
      "text/html": [
       "<div>\n",
       "<table border=\"1\" class=\"dataframe\">\n",
       "  <thead>\n",
       "    <tr style=\"text-align: right;\">\n",
       "      <th></th>\n",
       "      <th>COMMENT</th>\n",
       "      <th>NUMBER</th>\n",
       "      <th>PRICE</th>\n",
       "      <th>TIME_DILIVERY</th>\n",
       "    </tr>\n",
       "  </thead>\n",
       "  <tbody>\n",
       "    <tr>\n",
       "      <th>桂格燕麦</th>\n",
       "      <td>5</td>\n",
       "      <td>1</td>\n",
       "      <td>59.9</td>\n",
       "      <td>1113</td>\n",
       "    </tr>\n",
       "    <tr>\n",
       "      <th>休闲夹克</th>\n",
       "      <td>4</td>\n",
       "      <td>1</td>\n",
       "      <td>249.0</td>\n",
       "      <td>1114</td>\n",
       "    </tr>\n",
       "    <tr>\n",
       "      <th>立白洗衣液</th>\n",
       "      <td>5</td>\n",
       "      <td>1</td>\n",
       "      <td>69.0</td>\n",
       "      <td>1115</td>\n",
       "    </tr>\n",
       "    <tr>\n",
       "      <th>手机壳</th>\n",
       "      <td>5</td>\n",
       "      <td>1</td>\n",
       "      <td>9.9</td>\n",
       "      <td>1118</td>\n",
       "    </tr>\n",
       "    <tr>\n",
       "      <th>ADIDAS</th>\n",
       "      <td>4</td>\n",
       "      <td>1</td>\n",
       "      <td>480.0</td>\n",
       "      <td>1120</td>\n",
       "    </tr>\n",
       "    <tr>\n",
       "      <th>炒股的智慧</th>\n",
       "      <td>5</td>\n",
       "      <td>1</td>\n",
       "      <td>20.0</td>\n",
       "      <td>1115</td>\n",
       "    </tr>\n",
       "  </tbody>\n",
       "</table>\n",
       "</div>"
      ],
      "text/plain": [
       "        COMMENT  NUMBER  PRICE  TIME_DILIVERY\n",
       "桂格燕麦          5       1   59.9           1113\n",
       "休闲夹克          4       1  249.0           1114\n",
       "立白洗衣液         5       1   69.0           1115\n",
       "手机壳           5       1    9.9           1118\n",
       "ADIDAS        4       1  480.0           1120\n",
       "炒股的智慧         5       1   20.0           1115"
      ]
     },
     "execution_count": 19,
     "metadata": {},
     "output_type": "execute_result"
    }
   ],
   "source": [
    "data={ 'PRICE':[59.9,249,69,9.9,480,20],\n",
    "      'NUMBER':[1,1,1,1,1,1],\n",
    "      'TIME_DILIVERY':[1113,1114,1115,1118,1120,1115],\n",
    "      'COMMENT':[5,4,5,5,4,5]}\n",
    "STAFF=pd.DataFrame(data,index=['桂格燕麦','休闲夹克','立白洗衣液','手机壳','ADIDAS','炒股的智慧'])\n",
    "STAFF"
   ]
  },
  {
   "cell_type": "markdown",
   "metadata": {},
   "source": [
    "#### 用index的label读取某一个物品数据"
   ]
  },
  {
   "cell_type": "code",
   "execution_count": 15,
   "metadata": {
    "collapsed": false
   },
   "outputs": [
    {
     "data": {
      "text/plain": [
       "COMMENT             5.0\n",
       "NUMBER              1.0\n",
       "PRICE              59.9\n",
       "TIME_DILIVERY    1113.0\n",
       "Name: 桂格燕麦, dtype: float64"
      ]
     },
     "execution_count": 15,
     "metadata": {},
     "output_type": "execute_result"
    }
   ],
   "source": [
    "STAFF.loc['桂格燕麦']"
   ]
  },
  {
   "cell_type": "markdown",
   "metadata": {},
   "source": [
    "#### 选择价格>200的物品"
   ]
  },
  {
   "cell_type": "code",
   "execution_count": 18,
   "metadata": {
    "collapsed": false
   },
   "outputs": [
    {
     "data": {
      "text/html": [
       "<div>\n",
       "<table border=\"1\" class=\"dataframe\">\n",
       "  <thead>\n",
       "    <tr style=\"text-align: right;\">\n",
       "      <th></th>\n",
       "      <th>COMMENT</th>\n",
       "      <th>NUMBER</th>\n",
       "      <th>PRICE</th>\n",
       "      <th>TIME_DILIVERY</th>\n",
       "    </tr>\n",
       "  </thead>\n",
       "  <tbody>\n",
       "    <tr>\n",
       "      <th>休闲夹克</th>\n",
       "      <td>4</td>\n",
       "      <td>1</td>\n",
       "      <td>249.0</td>\n",
       "      <td>1114</td>\n",
       "    </tr>\n",
       "    <tr>\n",
       "      <th>ADIDAS</th>\n",
       "      <td>4</td>\n",
       "      <td>1</td>\n",
       "      <td>480.0</td>\n",
       "      <td>1120</td>\n",
       "    </tr>\n",
       "  </tbody>\n",
       "</table>\n",
       "</div>"
      ],
      "text/plain": [
       "        COMMENT  NUMBER  PRICE  TIME_DILIVERY\n",
       "休闲夹克          4       1  249.0           1114\n",
       "ADIDAS        4       1  480.0           1120"
      ]
     },
     "execution_count": 18,
     "metadata": {},
     "output_type": "execute_result"
    }
   ],
   "source": [
    "STAFF[STAFF['PRICE']> 200]"
   ]
  },
  {
   "cell_type": "markdown",
   "metadata": {},
   "source": [
    "#### 挑选其中和学习有关的物品，构成一个子集"
   ]
  },
  {
   "cell_type": "code",
   "execution_count": 23,
   "metadata": {
    "collapsed": false
   },
   "outputs": [
    {
     "data": {
      "text/html": [
       "<div>\n",
       "<table border=\"1\" class=\"dataframe\">\n",
       "  <thead>\n",
       "    <tr style=\"text-align: right;\">\n",
       "      <th></th>\n",
       "      <th>COMMENT</th>\n",
       "      <th>NUMBER</th>\n",
       "      <th>PRICE</th>\n",
       "      <th>TIME_DILIVERY</th>\n",
       "    </tr>\n",
       "  </thead>\n",
       "  <tbody>\n",
       "    <tr>\n",
       "      <th>炒股的智慧</th>\n",
       "      <td>5</td>\n",
       "      <td>1</td>\n",
       "      <td>20.0</td>\n",
       "      <td>1115</td>\n",
       "    </tr>\n",
       "  </tbody>\n",
       "</table>\n",
       "</div>"
      ],
      "text/plain": [
       "       COMMENT  NUMBER  PRICE  TIME_DILIVERY\n",
       "炒股的智慧        5       1   20.0           1115"
      ]
     },
     "execution_count": 23,
     "metadata": {},
     "output_type": "execute_result"
    }
   ],
   "source": [
    "staff_study={\n",
    "    'PRICE':STAFF['PRICE'][5:6],\n",
    "    'NUMBER':STAFF['NUMBER'][5:6],\n",
    "    'TIME_DILIVERY':STAFF['TIME_DILIVERY'][5:6],\n",
    "    'COMMENT':STAFF['COMMENT'][5:6]\n",
    "}\n",
    "pd.DataFrame(staff_study)"
   ]
  },
  {
   "cell_type": "markdown",
   "metadata": {},
   "source": [
    "#### 读取评价那列的数据"
   ]
  },
  {
   "cell_type": "code",
   "execution_count": 24,
   "metadata": {
    "collapsed": false
   },
   "outputs": [
    {
     "data": {
      "text/plain": [
       "桂格燕麦      5\n",
       "休闲夹克      4\n",
       "立白洗衣液     5\n",
       "手机壳       5\n",
       "ADIDAS    4\n",
       "炒股的智慧     5\n",
       "Name: COMMENT, dtype: int64"
      ]
     },
     "execution_count": 24,
     "metadata": {},
     "output_type": "execute_result"
    }
   ],
   "source": [
    "STAFF['COMMENT']"
   ]
  },
  {
   "cell_type": "markdown",
   "metadata": {},
   "source": [
    "#### 根据label对数据框重新排序，按照对你的迫切程度"
   ]
  },
  {
   "cell_type": "code",
   "execution_count": 31,
   "metadata": {
    "collapsed": false
   },
   "outputs": [
    {
     "data": {
      "text/html": [
       "<div>\n",
       "<table border=\"1\" class=\"dataframe\">\n",
       "  <thead>\n",
       "    <tr style=\"text-align: right;\">\n",
       "      <th></th>\n",
       "      <th>COMMENT</th>\n",
       "      <th>NUMBER</th>\n",
       "      <th>PRICE</th>\n",
       "      <th>TIME_DILIVERY</th>\n",
       "    </tr>\n",
       "  </thead>\n",
       "  <tbody>\n",
       "    <tr>\n",
       "      <th>ADIDAS</th>\n",
       "      <td>4</td>\n",
       "      <td>1</td>\n",
       "      <td>480.0</td>\n",
       "      <td>1120</td>\n",
       "    </tr>\n",
       "    <tr>\n",
       "      <th>休闲夹克</th>\n",
       "      <td>4</td>\n",
       "      <td>1</td>\n",
       "      <td>249.0</td>\n",
       "      <td>1114</td>\n",
       "    </tr>\n",
       "    <tr>\n",
       "      <th>炒股的智慧</th>\n",
       "      <td>5</td>\n",
       "      <td>1</td>\n",
       "      <td>20.0</td>\n",
       "      <td>1115</td>\n",
       "    </tr>\n",
       "    <tr>\n",
       "      <th>手机壳</th>\n",
       "      <td>5</td>\n",
       "      <td>1</td>\n",
       "      <td>9.9</td>\n",
       "      <td>1118</td>\n",
       "    </tr>\n",
       "    <tr>\n",
       "      <th>立白洗衣液</th>\n",
       "      <td>5</td>\n",
       "      <td>1</td>\n",
       "      <td>69.0</td>\n",
       "      <td>1115</td>\n",
       "    </tr>\n",
       "    <tr>\n",
       "      <th>桂格燕麦</th>\n",
       "      <td>5</td>\n",
       "      <td>1</td>\n",
       "      <td>59.9</td>\n",
       "      <td>1113</td>\n",
       "    </tr>\n",
       "  </tbody>\n",
       "</table>\n",
       "</div>"
      ],
      "text/plain": [
       "        COMMENT  NUMBER  PRICE  TIME_DILIVERY\n",
       "ADIDAS        4       1  480.0           1120\n",
       "休闲夹克          4       1  249.0           1114\n",
       "炒股的智慧         5       1   20.0           1115\n",
       "手机壳           5       1    9.9           1118\n",
       "立白洗衣液         5       1   69.0           1115\n",
       "桂格燕麦          5       1   59.9           1113"
      ]
     },
     "execution_count": 31,
     "metadata": {},
     "output_type": "execute_result"
    }
   ],
   "source": [
    "STAFF_RE = STAFF.reindex(['ADIDAS','休闲夹克','炒股的智慧','手机壳','立白洗衣液','桂格燕麦'])\n",
    "STAFF_RE"
   ]
  },
  {
   "cell_type": "markdown",
   "metadata": {},
   "source": [
    "#### 生成一个series，记录这些物品的快递费，然后加到价格上"
   ]
  },
  {
   "cell_type": "code",
   "execution_count": 32,
   "metadata": {
    "collapsed": false
   },
   "outputs": [
    {
     "data": {
      "text/html": [
       "<div>\n",
       "<table border=\"1\" class=\"dataframe\">\n",
       "  <thead>\n",
       "    <tr style=\"text-align: right;\">\n",
       "      <th></th>\n",
       "      <th>COMMENT</th>\n",
       "      <th>NUMBER</th>\n",
       "      <th>PRICE</th>\n",
       "      <th>TIME_DILIVERY</th>\n",
       "    </tr>\n",
       "  </thead>\n",
       "  <tbody>\n",
       "    <tr>\n",
       "      <th>桂格燕麦</th>\n",
       "      <td>5</td>\n",
       "      <td>1</td>\n",
       "      <td>59.9</td>\n",
       "      <td>1113</td>\n",
       "    </tr>\n",
       "    <tr>\n",
       "      <th>休闲夹克</th>\n",
       "      <td>4</td>\n",
       "      <td>1</td>\n",
       "      <td>249.0</td>\n",
       "      <td>1114</td>\n",
       "    </tr>\n",
       "    <tr>\n",
       "      <th>立白洗衣液</th>\n",
       "      <td>5</td>\n",
       "      <td>1</td>\n",
       "      <td>69.0</td>\n",
       "      <td>1115</td>\n",
       "    </tr>\n",
       "    <tr>\n",
       "      <th>手机壳</th>\n",
       "      <td>5</td>\n",
       "      <td>1</td>\n",
       "      <td>9.9</td>\n",
       "      <td>1118</td>\n",
       "    </tr>\n",
       "    <tr>\n",
       "      <th>ADIDAS</th>\n",
       "      <td>4</td>\n",
       "      <td>1</td>\n",
       "      <td>480.0</td>\n",
       "      <td>1120</td>\n",
       "    </tr>\n",
       "    <tr>\n",
       "      <th>炒股的智慧</th>\n",
       "      <td>5</td>\n",
       "      <td>1</td>\n",
       "      <td>28.0</td>\n",
       "      <td>1115</td>\n",
       "    </tr>\n",
       "  </tbody>\n",
       "</table>\n",
       "</div>"
      ],
      "text/plain": [
       "        COMMENT  NUMBER  PRICE  TIME_DILIVERY\n",
       "桂格燕麦          5       1   59.9           1113\n",
       "休闲夹克          4       1  249.0           1114\n",
       "立白洗衣液         5       1   69.0           1115\n",
       "手机壳           5       1    9.9           1118\n",
       "ADIDAS        4       1  480.0           1120\n",
       "炒股的智慧         5       1   28.0           1115"
      ]
     },
     "execution_count": 32,
     "metadata": {},
     "output_type": "execute_result"
    }
   ],
   "source": [
    "EXPRESS_FEE=pd.Series([0,0,0,0,0,8],index=['桂格燕麦','休闲夹克','立白洗衣液','手机壳','ADIDAS','炒股的智慧'])\n",
    "STAFF['PRICE']+= EXPRESS_FEE\n",
    "STAFF"
   ]
  },
  {
   "cell_type": "markdown",
   "metadata": {},
   "source": [
    "#### 按照价格从高到底排序"
   ]
  },
  {
   "cell_type": "code",
   "execution_count": 33,
   "metadata": {
    "collapsed": false
   },
   "outputs": [
    {
     "data": {
      "text/html": [
       "<div>\n",
       "<table border=\"1\" class=\"dataframe\">\n",
       "  <thead>\n",
       "    <tr style=\"text-align: right;\">\n",
       "      <th></th>\n",
       "      <th>COMMENT</th>\n",
       "      <th>NUMBER</th>\n",
       "      <th>PRICE</th>\n",
       "      <th>TIME_DILIVERY</th>\n",
       "    </tr>\n",
       "  </thead>\n",
       "  <tbody>\n",
       "    <tr>\n",
       "      <th>ADIDAS</th>\n",
       "      <td>4</td>\n",
       "      <td>1</td>\n",
       "      <td>480.0</td>\n",
       "      <td>1120</td>\n",
       "    </tr>\n",
       "    <tr>\n",
       "      <th>休闲夹克</th>\n",
       "      <td>4</td>\n",
       "      <td>1</td>\n",
       "      <td>249.0</td>\n",
       "      <td>1114</td>\n",
       "    </tr>\n",
       "    <tr>\n",
       "      <th>立白洗衣液</th>\n",
       "      <td>5</td>\n",
       "      <td>1</td>\n",
       "      <td>69.0</td>\n",
       "      <td>1115</td>\n",
       "    </tr>\n",
       "    <tr>\n",
       "      <th>桂格燕麦</th>\n",
       "      <td>5</td>\n",
       "      <td>1</td>\n",
       "      <td>59.9</td>\n",
       "      <td>1113</td>\n",
       "    </tr>\n",
       "    <tr>\n",
       "      <th>炒股的智慧</th>\n",
       "      <td>5</td>\n",
       "      <td>1</td>\n",
       "      <td>28.0</td>\n",
       "      <td>1115</td>\n",
       "    </tr>\n",
       "    <tr>\n",
       "      <th>手机壳</th>\n",
       "      <td>5</td>\n",
       "      <td>1</td>\n",
       "      <td>9.9</td>\n",
       "      <td>1118</td>\n",
       "    </tr>\n",
       "  </tbody>\n",
       "</table>\n",
       "</div>"
      ],
      "text/plain": [
       "        COMMENT  NUMBER  PRICE  TIME_DILIVERY\n",
       "ADIDAS        4       1  480.0           1120\n",
       "休闲夹克          4       1  249.0           1114\n",
       "立白洗衣液         5       1   69.0           1115\n",
       "桂格燕麦          5       1   59.9           1113\n",
       "炒股的智慧         5       1   28.0           1115\n",
       "手机壳           5       1    9.9           1118"
      ]
     },
     "execution_count": 33,
     "metadata": {},
     "output_type": "execute_result"
    }
   ],
   "source": [
    "STAFF.sort_values(by='PRICE',ascending=False)"
   ]
  },
  {
   "cell_type": "markdown",
   "metadata": {},
   "source": [
    "#### 按照收到的时间从低到高排序"
   ]
  },
  {
   "cell_type": "code",
   "execution_count": 35,
   "metadata": {
    "collapsed": false
   },
   "outputs": [
    {
     "data": {
      "text/html": [
       "<div>\n",
       "<table border=\"1\" class=\"dataframe\">\n",
       "  <thead>\n",
       "    <tr style=\"text-align: right;\">\n",
       "      <th></th>\n",
       "      <th>COMMENT</th>\n",
       "      <th>NUMBER</th>\n",
       "      <th>PRICE</th>\n",
       "      <th>TIME_DILIVERY</th>\n",
       "    </tr>\n",
       "  </thead>\n",
       "  <tbody>\n",
       "    <tr>\n",
       "      <th>桂格燕麦</th>\n",
       "      <td>5</td>\n",
       "      <td>1</td>\n",
       "      <td>59.9</td>\n",
       "      <td>1113</td>\n",
       "    </tr>\n",
       "    <tr>\n",
       "      <th>休闲夹克</th>\n",
       "      <td>4</td>\n",
       "      <td>1</td>\n",
       "      <td>249.0</td>\n",
       "      <td>1114</td>\n",
       "    </tr>\n",
       "    <tr>\n",
       "      <th>立白洗衣液</th>\n",
       "      <td>5</td>\n",
       "      <td>1</td>\n",
       "      <td>69.0</td>\n",
       "      <td>1115</td>\n",
       "    </tr>\n",
       "    <tr>\n",
       "      <th>炒股的智慧</th>\n",
       "      <td>5</td>\n",
       "      <td>1</td>\n",
       "      <td>28.0</td>\n",
       "      <td>1115</td>\n",
       "    </tr>\n",
       "    <tr>\n",
       "      <th>手机壳</th>\n",
       "      <td>5</td>\n",
       "      <td>1</td>\n",
       "      <td>9.9</td>\n",
       "      <td>1118</td>\n",
       "    </tr>\n",
       "    <tr>\n",
       "      <th>ADIDAS</th>\n",
       "      <td>4</td>\n",
       "      <td>1</td>\n",
       "      <td>480.0</td>\n",
       "      <td>1120</td>\n",
       "    </tr>\n",
       "  </tbody>\n",
       "</table>\n",
       "</div>"
      ],
      "text/plain": [
       "        COMMENT  NUMBER  PRICE  TIME_DILIVERY\n",
       "桂格燕麦          5       1   59.9           1113\n",
       "休闲夹克          4       1  249.0           1114\n",
       "立白洗衣液         5       1   69.0           1115\n",
       "炒股的智慧         5       1   28.0           1115\n",
       "手机壳           5       1    9.9           1118\n",
       "ADIDAS        4       1  480.0           1120"
      ]
     },
     "execution_count": 35,
     "metadata": {},
     "output_type": "execute_result"
    }
   ],
   "source": [
    "STAFF.sort_values(by='TIME_DILIVERY')"
   ]
  },
  {
   "cell_type": "markdown",
   "metadata": {},
   "source": [
    "#### 得到各样物品评价的排名"
   ]
  },
  {
   "cell_type": "code",
   "execution_count": 36,
   "metadata": {
    "collapsed": false
   },
   "outputs": [
    {
     "data": {
      "text/html": [
       "<div>\n",
       "<table border=\"1\" class=\"dataframe\">\n",
       "  <thead>\n",
       "    <tr style=\"text-align: right;\">\n",
       "      <th></th>\n",
       "      <th>COMMENT</th>\n",
       "      <th>NUMBER</th>\n",
       "      <th>PRICE</th>\n",
       "      <th>TIME_DILIVERY</th>\n",
       "      <th>COMMENT_RANK</th>\n",
       "    </tr>\n",
       "  </thead>\n",
       "  <tbody>\n",
       "    <tr>\n",
       "      <th>桂格燕麦</th>\n",
       "      <td>5</td>\n",
       "      <td>1</td>\n",
       "      <td>59.9</td>\n",
       "      <td>1113</td>\n",
       "      <td>1</td>\n",
       "    </tr>\n",
       "    <tr>\n",
       "      <th>立白洗衣液</th>\n",
       "      <td>5</td>\n",
       "      <td>1</td>\n",
       "      <td>69.0</td>\n",
       "      <td>1115</td>\n",
       "      <td>2</td>\n",
       "    </tr>\n",
       "    <tr>\n",
       "      <th>手机壳</th>\n",
       "      <td>5</td>\n",
       "      <td>1</td>\n",
       "      <td>9.9</td>\n",
       "      <td>1118</td>\n",
       "      <td>3</td>\n",
       "    </tr>\n",
       "    <tr>\n",
       "      <th>炒股的智慧</th>\n",
       "      <td>5</td>\n",
       "      <td>1</td>\n",
       "      <td>28.0</td>\n",
       "      <td>1115</td>\n",
       "      <td>4</td>\n",
       "    </tr>\n",
       "    <tr>\n",
       "      <th>休闲夹克</th>\n",
       "      <td>4</td>\n",
       "      <td>1</td>\n",
       "      <td>249.0</td>\n",
       "      <td>1114</td>\n",
       "      <td>5</td>\n",
       "    </tr>\n",
       "    <tr>\n",
       "      <th>ADIDAS</th>\n",
       "      <td>4</td>\n",
       "      <td>1</td>\n",
       "      <td>480.0</td>\n",
       "      <td>1120</td>\n",
       "      <td>6</td>\n",
       "    </tr>\n",
       "  </tbody>\n",
       "</table>\n",
       "</div>"
      ],
      "text/plain": [
       "        COMMENT  NUMBER  PRICE  TIME_DILIVERY  COMMENT_RANK\n",
       "桂格燕麦          5       1   59.9           1113             1\n",
       "立白洗衣液         5       1   69.0           1115             2\n",
       "手机壳           5       1    9.9           1118             3\n",
       "炒股的智慧         5       1   28.0           1115             4\n",
       "休闲夹克          4       1  249.0           1114             5\n",
       "ADIDAS        4       1  480.0           1120             6"
      ]
     },
     "execution_count": 36,
     "metadata": {},
     "output_type": "execute_result"
    }
   ],
   "source": [
    "STAFF2=STAFF.sort_values(by='COMMENT',ascending=False)\n",
    "STAFF2['COMMENT_RANK']=[1,2,3,4,5,6]\n",
    "STAFF2"
   ]
  },
  {
   "cell_type": "markdown",
   "metadata": {},
   "source": [
    "#### 计算一下这些物品的总花费、最大值、最小值和平均值"
   ]
  },
  {
   "cell_type": "code",
   "execution_count": 39,
   "metadata": {
    "collapsed": false
   },
   "outputs": [
    {
     "data": {
      "text/plain": [
       "895.8"
      ]
     },
     "execution_count": 39,
     "metadata": {},
     "output_type": "execute_result"
    }
   ],
   "source": [
    "float(sum(STAFF['PRICE']))\n"
   ]
  },
  {
   "cell_type": "code",
   "execution_count": 40,
   "metadata": {
    "collapsed": false
   },
   "outputs": [
    {
     "data": {
      "text/plain": [
       "480.0"
      ]
     },
     "execution_count": 40,
     "metadata": {},
     "output_type": "execute_result"
    }
   ],
   "source": [
    "float(max(STAFF['PRICE']))"
   ]
  },
  {
   "cell_type": "code",
   "execution_count": 41,
   "metadata": {
    "collapsed": false
   },
   "outputs": [
    {
     "data": {
      "text/plain": [
       "9.9"
      ]
     },
     "execution_count": 41,
     "metadata": {},
     "output_type": "execute_result"
    }
   ],
   "source": [
    "float(min(STAFF['PRICE']))"
   ]
  },
  {
   "cell_type": "code",
   "execution_count": 42,
   "metadata": {
    "collapsed": false
   },
   "outputs": [
    {
     "data": {
      "text/plain": [
       "149.29999999999998"
      ]
     },
     "execution_count": 42,
     "metadata": {},
     "output_type": "execute_result"
    }
   ],
   "source": [
    "import numpy as np\n",
    "np.mean(STAFF['PRICE'])"
   ]
  }
 ],
 "metadata": {
  "kernelspec": {
   "display_name": "Python 3",
   "language": "python",
   "name": "python3"
  },
  "language_info": {
   "codemirror_mode": {
    "name": "ipython",
    "version": 3
   },
   "file_extension": ".py",
   "mimetype": "text/x-python",
   "name": "python",
   "nbconvert_exporter": "python",
   "pygments_lexer": "ipython3",
   "version": "3.6.0"
  },
  "toc": {
   "base_numbering": 1,
   "nav_menu": {},
   "number_sections": true,
   "sideBar": true,
   "skip_h1_title": false,
   "title_cell": "Table of Contents",
   "title_sidebar": "Contents",
   "toc_cell": false,
   "toc_position": {},
   "toc_section_display": true,
   "toc_window_display": false
  }
 },
 "nbformat": 4,
 "nbformat_minor": 2
}
