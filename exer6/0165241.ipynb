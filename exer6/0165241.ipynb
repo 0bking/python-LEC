{
 "cells": [
  {
   "cell_type": "markdown",
   "metadata": {},
   "source": [
    "## 第六次练习"
   ]
  },
  {
   "cell_type": "markdown",
   "metadata": {},
   "source": [
    "+ 请务必交到exer6文件夹下，**谢绝交到master下**\n",
    "+ 请不要改动任何文件，拜托\n",
    "+ 请在12月4日前提交。"
   ]
  },
  {
   "cell_type": "markdown",
   "metadata": {},
   "source": [
    "请写一下姓名和学号：\n",
    "+ 姓名 黄德辉\n",
    "+ 学号 0165241"
   ]
  },
  {
   "cell_type": "code",
   "execution_count": 1,
   "metadata": {},
   "outputs": [],
   "source": [
    "import pandas as pd"
   ]
  },
  {
   "cell_type": "markdown",
   "metadata": {},
   "source": [
    "### 请建立一个数据框，列出你在双十一购买的至少五样物品。\n",
    "用它们的名称作为index的label，在列里列出这些物品（数据可以是虚拟的）的：\n",
    "+ 价格\n",
    "+ 购买的数量\n",
    "+ 收到的时间（类似1113即可，表示11月13日收到）\n",
    "+ 你的评价（从1到5，1表示很不好，5表示很好）"
   ]
  },
  {
   "cell_type": "code",
   "execution_count": 2,
   "metadata": {},
   "outputs": [
    {
     "data": {
      "text/html": [
       "<div>\n",
       "<style scoped>\n",
       "    .dataframe tbody tr th:only-of-type {\n",
       "        vertical-align: middle;\n",
       "    }\n",
       "\n",
       "    .dataframe tbody tr th {\n",
       "        vertical-align: top;\n",
       "    }\n",
       "\n",
       "    .dataframe thead th {\n",
       "        text-align: right;\n",
       "    }\n",
       "</style>\n",
       "<table border=\"1\" class=\"dataframe\">\n",
       "  <thead>\n",
       "    <tr style=\"text-align: right;\">\n",
       "      <th></th>\n",
       "      <th>价格</th>\n",
       "      <th>数量</th>\n",
       "      <th>到货时间</th>\n",
       "      <th>评价</th>\n",
       "    </tr>\n",
       "  </thead>\n",
       "  <tbody>\n",
       "    <tr>\n",
       "      <th>追风筝的人</th>\n",
       "      <td>24.8</td>\n",
       "      <td>1</td>\n",
       "      <td>1116</td>\n",
       "      <td>5</td>\n",
       "    </tr>\n",
       "    <tr>\n",
       "      <th>三体十倍价典藏版</th>\n",
       "      <td>558.0</td>\n",
       "      <td>1</td>\n",
       "      <td>1112</td>\n",
       "      <td>5</td>\n",
       "    </tr>\n",
       "    <tr>\n",
       "      <th>围城</th>\n",
       "      <td>27.3</td>\n",
       "      <td>1</td>\n",
       "      <td>1113</td>\n",
       "      <td>5</td>\n",
       "    </tr>\n",
       "    <tr>\n",
       "      <th>苏东坡传</th>\n",
       "      <td>32.5</td>\n",
       "      <td>1</td>\n",
       "      <td>1117</td>\n",
       "      <td>4</td>\n",
       "    </tr>\n",
       "    <tr>\n",
       "      <th>用来玩的国粹炫彩缝线本</th>\n",
       "      <td>23.7</td>\n",
       "      <td>3</td>\n",
       "      <td>1113</td>\n",
       "      <td>5</td>\n",
       "    </tr>\n",
       "  </tbody>\n",
       "</table>\n",
       "</div>"
      ],
      "text/plain": [
       "                价格  数量  到货时间  评价\n",
       "追风筝的人         24.8   1  1116   5\n",
       "三体十倍价典藏版     558.0   1  1112   5\n",
       "围城            27.3   1  1113   5\n",
       "苏东坡传          32.5   1  1117   4\n",
       "用来玩的国粹炫彩缝线本   23.7   3  1113   5"
      ]
     },
     "execution_count": 2,
     "metadata": {},
     "output_type": "execute_result"
    }
   ],
   "source": [
    "data = {'价格': [24.8, 558, 27.3, 32.5, 23.7],\n",
    "        '数量': [1, 1, 1, 1, 3],\n",
    "        '到货时间': [1116, 1112, 1113, 1117, 1113],\n",
    "        '评价': [5, 5, 5, 4, 5]}\n",
    "books = pd.DataFrame(data, index = ['追风筝的人', \"三体十倍价典藏版\", '围城', '苏东坡传', '用来玩的国粹炫彩缝线本'])\n",
    "books"
   ]
  },
  {
   "cell_type": "markdown",
   "metadata": {},
   "source": [
    "#### 用index的label读取某一个物品数据"
   ]
  },
  {
   "cell_type": "code",
   "execution_count": 3,
   "metadata": {},
   "outputs": [
    {
     "data": {
      "text/plain": [
       "价格        27.3\n",
       "数量         1.0\n",
       "到货时间    1113.0\n",
       "评价         5.0\n",
       "Name: 围城, dtype: float64"
      ]
     },
     "execution_count": 3,
     "metadata": {},
     "output_type": "execute_result"
    }
   ],
   "source": [
    "books.loc['围城']"
   ]
  },
  {
   "cell_type": "markdown",
   "metadata": {},
   "source": [
    "#### 选择价格>200的物品"
   ]
  },
  {
   "cell_type": "code",
   "execution_count": 4,
   "metadata": {},
   "outputs": [
    {
     "data": {
      "text/html": [
       "<div>\n",
       "<style scoped>\n",
       "    .dataframe tbody tr th:only-of-type {\n",
       "        vertical-align: middle;\n",
       "    }\n",
       "\n",
       "    .dataframe tbody tr th {\n",
       "        vertical-align: top;\n",
       "    }\n",
       "\n",
       "    .dataframe thead th {\n",
       "        text-align: right;\n",
       "    }\n",
       "</style>\n",
       "<table border=\"1\" class=\"dataframe\">\n",
       "  <thead>\n",
       "    <tr style=\"text-align: right;\">\n",
       "      <th></th>\n",
       "      <th>价格</th>\n",
       "      <th>数量</th>\n",
       "      <th>到货时间</th>\n",
       "      <th>评价</th>\n",
       "    </tr>\n",
       "  </thead>\n",
       "  <tbody>\n",
       "    <tr>\n",
       "      <th>三体十倍价典藏版</th>\n",
       "      <td>558.0</td>\n",
       "      <td>1</td>\n",
       "      <td>1112</td>\n",
       "      <td>5</td>\n",
       "    </tr>\n",
       "  </tbody>\n",
       "</table>\n",
       "</div>"
      ],
      "text/plain": [
       "             价格  数量  到货时间  评价\n",
       "三体十倍价典藏版  558.0   1  1112   5"
      ]
     },
     "execution_count": 4,
     "metadata": {},
     "output_type": "execute_result"
    }
   ],
   "source": [
    "books[books['价格'] > 200]"
   ]
  },
  {
   "cell_type": "markdown",
   "metadata": {},
   "source": [
    "#### 挑选其中和学习有关的物品，构成一个子集"
   ]
  },
  {
   "cell_type": "code",
   "execution_count": 5,
   "metadata": {},
   "outputs": [
    {
     "data": {
      "text/html": [
       "<div>\n",
       "<style scoped>\n",
       "    .dataframe tbody tr th:only-of-type {\n",
       "        vertical-align: middle;\n",
       "    }\n",
       "\n",
       "    .dataframe tbody tr th {\n",
       "        vertical-align: top;\n",
       "    }\n",
       "\n",
       "    .dataframe thead th {\n",
       "        text-align: right;\n",
       "    }\n",
       "</style>\n",
       "<table border=\"1\" class=\"dataframe\">\n",
       "  <thead>\n",
       "    <tr style=\"text-align: right;\">\n",
       "      <th></th>\n",
       "      <th>价格</th>\n",
       "      <th>数量</th>\n",
       "      <th>到货时间</th>\n",
       "      <th>评价</th>\n",
       "    </tr>\n",
       "  </thead>\n",
       "  <tbody>\n",
       "    <tr>\n",
       "      <th>追风筝的人</th>\n",
       "      <td>24.8</td>\n",
       "      <td>1</td>\n",
       "      <td>1116</td>\n",
       "      <td>5</td>\n",
       "    </tr>\n",
       "    <tr>\n",
       "      <th>三体十倍价典藏版</th>\n",
       "      <td>558.0</td>\n",
       "      <td>1</td>\n",
       "      <td>1112</td>\n",
       "      <td>5</td>\n",
       "    </tr>\n",
       "    <tr>\n",
       "      <th>围城</th>\n",
       "      <td>27.3</td>\n",
       "      <td>1</td>\n",
       "      <td>1113</td>\n",
       "      <td>5</td>\n",
       "    </tr>\n",
       "    <tr>\n",
       "      <th>苏东坡传</th>\n",
       "      <td>32.5</td>\n",
       "      <td>1</td>\n",
       "      <td>1117</td>\n",
       "      <td>4</td>\n",
       "    </tr>\n",
       "  </tbody>\n",
       "</table>\n",
       "</div>"
      ],
      "text/plain": [
       "             价格  数量  到货时间  评价\n",
       "追风筝的人      24.8   1  1116   5\n",
       "三体十倍价典藏版  558.0   1  1112   5\n",
       "围城         27.3   1  1113   5\n",
       "苏东坡传       32.5   1  1117   4"
      ]
     },
     "execution_count": 5,
     "metadata": {},
     "output_type": "execute_result"
    }
   ],
   "source": [
    "for_study = {'价格': books['价格'][:-1],\n",
    "              '数量': books['数量'][0:4],\n",
    "              '到货时间': books['到货时间'][:-1],\n",
    "              '评价': books['评价'][:-1],    \n",
    "}\n",
    "pd.DataFrame(for_study)"
   ]
  },
  {
   "cell_type": "markdown",
   "metadata": {},
   "source": [
    "#### 读取评价那列的数据"
   ]
  },
  {
   "cell_type": "code",
   "execution_count": 6,
   "metadata": {},
   "outputs": [
    {
     "data": {
      "text/plain": [
       "追风筝的人          5\n",
       "三体十倍价典藏版       5\n",
       "围城             5\n",
       "苏东坡传           4\n",
       "用来玩的国粹炫彩缝线本    5\n",
       "Name: 评价, dtype: int64"
      ]
     },
     "execution_count": 6,
     "metadata": {},
     "output_type": "execute_result"
    }
   ],
   "source": [
    "books['评价']"
   ]
  },
  {
   "cell_type": "markdown",
   "metadata": {},
   "source": [
    "#### 根据label对数据框重新排序，按照对你的迫切程度"
   ]
  },
  {
   "cell_type": "code",
   "execution_count": 7,
   "metadata": {},
   "outputs": [
    {
     "data": {
      "text/html": [
       "<div>\n",
       "<style scoped>\n",
       "    .dataframe tbody tr th:only-of-type {\n",
       "        vertical-align: middle;\n",
       "    }\n",
       "\n",
       "    .dataframe tbody tr th {\n",
       "        vertical-align: top;\n",
       "    }\n",
       "\n",
       "    .dataframe thead th {\n",
       "        text-align: right;\n",
       "    }\n",
       "</style>\n",
       "<table border=\"1\" class=\"dataframe\">\n",
       "  <thead>\n",
       "    <tr style=\"text-align: right;\">\n",
       "      <th></th>\n",
       "      <th>价格</th>\n",
       "      <th>数量</th>\n",
       "      <th>到货时间</th>\n",
       "      <th>评价</th>\n",
       "    </tr>\n",
       "  </thead>\n",
       "  <tbody>\n",
       "    <tr>\n",
       "      <th>围城</th>\n",
       "      <td>27.3</td>\n",
       "      <td>1</td>\n",
       "      <td>1113</td>\n",
       "      <td>5</td>\n",
       "    </tr>\n",
       "    <tr>\n",
       "      <th>三体十倍价典藏版</th>\n",
       "      <td>558.0</td>\n",
       "      <td>1</td>\n",
       "      <td>1112</td>\n",
       "      <td>5</td>\n",
       "    </tr>\n",
       "    <tr>\n",
       "      <th>用来玩的国粹炫彩缝线本</th>\n",
       "      <td>23.7</td>\n",
       "      <td>3</td>\n",
       "      <td>1113</td>\n",
       "      <td>5</td>\n",
       "    </tr>\n",
       "    <tr>\n",
       "      <th>苏东坡传</th>\n",
       "      <td>32.5</td>\n",
       "      <td>1</td>\n",
       "      <td>1117</td>\n",
       "      <td>4</td>\n",
       "    </tr>\n",
       "    <tr>\n",
       "      <th>追风筝的人</th>\n",
       "      <td>24.8</td>\n",
       "      <td>1</td>\n",
       "      <td>1116</td>\n",
       "      <td>5</td>\n",
       "    </tr>\n",
       "  </tbody>\n",
       "</table>\n",
       "</div>"
      ],
      "text/plain": [
       "                价格  数量  到货时间  评价\n",
       "围城            27.3   1  1113   5\n",
       "三体十倍价典藏版     558.0   1  1112   5\n",
       "用来玩的国粹炫彩缝线本   23.7   3  1113   5\n",
       "苏东坡传          32.5   1  1117   4\n",
       "追风筝的人         24.8   1  1116   5"
      ]
     },
     "execution_count": 7,
     "metadata": {},
     "output_type": "execute_result"
    }
   ],
   "source": [
    "books_resorted = books.reindex(['围城', '三体十倍价典藏版', '用来玩的国粹炫彩缝线本', '苏东坡传', '追风筝的人'])\n",
    "books_resorted"
   ]
  },
  {
   "cell_type": "markdown",
   "metadata": {},
   "source": [
    "#### 生成一个series，记录这些物品的快递费，然后加到价格上"
   ]
  },
  {
   "cell_type": "code",
   "execution_count": 8,
   "metadata": {},
   "outputs": [
    {
     "data": {
      "text/html": [
       "<div>\n",
       "<style scoped>\n",
       "    .dataframe tbody tr th:only-of-type {\n",
       "        vertical-align: middle;\n",
       "    }\n",
       "\n",
       "    .dataframe tbody tr th {\n",
       "        vertical-align: top;\n",
       "    }\n",
       "\n",
       "    .dataframe thead th {\n",
       "        text-align: right;\n",
       "    }\n",
       "</style>\n",
       "<table border=\"1\" class=\"dataframe\">\n",
       "  <thead>\n",
       "    <tr style=\"text-align: right;\">\n",
       "      <th></th>\n",
       "      <th>价格</th>\n",
       "      <th>数量</th>\n",
       "      <th>到货时间</th>\n",
       "      <th>评价</th>\n",
       "    </tr>\n",
       "  </thead>\n",
       "  <tbody>\n",
       "    <tr>\n",
       "      <th>追风筝的人</th>\n",
       "      <td>24.8</td>\n",
       "      <td>1</td>\n",
       "      <td>1116</td>\n",
       "      <td>5</td>\n",
       "    </tr>\n",
       "    <tr>\n",
       "      <th>三体十倍价典藏版</th>\n",
       "      <td>558.0</td>\n",
       "      <td>1</td>\n",
       "      <td>1112</td>\n",
       "      <td>5</td>\n",
       "    </tr>\n",
       "    <tr>\n",
       "      <th>围城</th>\n",
       "      <td>27.3</td>\n",
       "      <td>1</td>\n",
       "      <td>1113</td>\n",
       "      <td>5</td>\n",
       "    </tr>\n",
       "    <tr>\n",
       "      <th>苏东坡传</th>\n",
       "      <td>32.5</td>\n",
       "      <td>1</td>\n",
       "      <td>1117</td>\n",
       "      <td>4</td>\n",
       "    </tr>\n",
       "    <tr>\n",
       "      <th>用来玩的国粹炫彩缝线本</th>\n",
       "      <td>35.7</td>\n",
       "      <td>3</td>\n",
       "      <td>1113</td>\n",
       "      <td>5</td>\n",
       "    </tr>\n",
       "  </tbody>\n",
       "</table>\n",
       "</div>"
      ],
      "text/plain": [
       "                价格  数量  到货时间  评价\n",
       "追风筝的人         24.8   1  1116   5\n",
       "三体十倍价典藏版     558.0   1  1112   5\n",
       "围城            27.3   1  1113   5\n",
       "苏东坡传          32.5   1  1117   4\n",
       "用来玩的国粹炫彩缝线本   35.7   3  1113   5"
      ]
     },
     "execution_count": 8,
     "metadata": {},
     "output_type": "execute_result"
    }
   ],
   "source": [
    "express_fee = pd.Series([0, 0, 0, 0, 12], index = ['追风筝的人', \"三体十倍价典藏版\", '围城', '苏东坡传', '用来玩的国粹炫彩缝线本'])\n",
    "books['价格'] += express_fee\n",
    "books"
   ]
  },
  {
   "cell_type": "markdown",
   "metadata": {},
   "source": [
    "#### 按照价格从高到底排序"
   ]
  },
  {
   "cell_type": "code",
   "execution_count": 9,
   "metadata": {},
   "outputs": [
    {
     "data": {
      "text/html": [
       "<div>\n",
       "<style scoped>\n",
       "    .dataframe tbody tr th:only-of-type {\n",
       "        vertical-align: middle;\n",
       "    }\n",
       "\n",
       "    .dataframe tbody tr th {\n",
       "        vertical-align: top;\n",
       "    }\n",
       "\n",
       "    .dataframe thead th {\n",
       "        text-align: right;\n",
       "    }\n",
       "</style>\n",
       "<table border=\"1\" class=\"dataframe\">\n",
       "  <thead>\n",
       "    <tr style=\"text-align: right;\">\n",
       "      <th></th>\n",
       "      <th>价格</th>\n",
       "      <th>数量</th>\n",
       "      <th>到货时间</th>\n",
       "      <th>评价</th>\n",
       "    </tr>\n",
       "  </thead>\n",
       "  <tbody>\n",
       "    <tr>\n",
       "      <th>三体十倍价典藏版</th>\n",
       "      <td>558.0</td>\n",
       "      <td>1</td>\n",
       "      <td>1112</td>\n",
       "      <td>5</td>\n",
       "    </tr>\n",
       "    <tr>\n",
       "      <th>用来玩的国粹炫彩缝线本</th>\n",
       "      <td>35.7</td>\n",
       "      <td>3</td>\n",
       "      <td>1113</td>\n",
       "      <td>5</td>\n",
       "    </tr>\n",
       "    <tr>\n",
       "      <th>苏东坡传</th>\n",
       "      <td>32.5</td>\n",
       "      <td>1</td>\n",
       "      <td>1117</td>\n",
       "      <td>4</td>\n",
       "    </tr>\n",
       "    <tr>\n",
       "      <th>围城</th>\n",
       "      <td>27.3</td>\n",
       "      <td>1</td>\n",
       "      <td>1113</td>\n",
       "      <td>5</td>\n",
       "    </tr>\n",
       "    <tr>\n",
       "      <th>追风筝的人</th>\n",
       "      <td>24.8</td>\n",
       "      <td>1</td>\n",
       "      <td>1116</td>\n",
       "      <td>5</td>\n",
       "    </tr>\n",
       "  </tbody>\n",
       "</table>\n",
       "</div>"
      ],
      "text/plain": [
       "                价格  数量  到货时间  评价\n",
       "三体十倍价典藏版     558.0   1  1112   5\n",
       "用来玩的国粹炫彩缝线本   35.7   3  1113   5\n",
       "苏东坡传          32.5   1  1117   4\n",
       "围城            27.3   1  1113   5\n",
       "追风筝的人         24.8   1  1116   5"
      ]
     },
     "execution_count": 9,
     "metadata": {},
     "output_type": "execute_result"
    }
   ],
   "source": [
    "books.sort_values(by = '价格', ascending = False)"
   ]
  },
  {
   "cell_type": "markdown",
   "metadata": {},
   "source": [
    "#### 按照收到的时间从低到高排序"
   ]
  },
  {
   "cell_type": "code",
   "execution_count": 10,
   "metadata": {},
   "outputs": [
    {
     "data": {
      "text/html": [
       "<div>\n",
       "<style scoped>\n",
       "    .dataframe tbody tr th:only-of-type {\n",
       "        vertical-align: middle;\n",
       "    }\n",
       "\n",
       "    .dataframe tbody tr th {\n",
       "        vertical-align: top;\n",
       "    }\n",
       "\n",
       "    .dataframe thead th {\n",
       "        text-align: right;\n",
       "    }\n",
       "</style>\n",
       "<table border=\"1\" class=\"dataframe\">\n",
       "  <thead>\n",
       "    <tr style=\"text-align: right;\">\n",
       "      <th></th>\n",
       "      <th>价格</th>\n",
       "      <th>数量</th>\n",
       "      <th>到货时间</th>\n",
       "      <th>评价</th>\n",
       "    </tr>\n",
       "  </thead>\n",
       "  <tbody>\n",
       "    <tr>\n",
       "      <th>三体十倍价典藏版</th>\n",
       "      <td>558.0</td>\n",
       "      <td>1</td>\n",
       "      <td>1112</td>\n",
       "      <td>5</td>\n",
       "    </tr>\n",
       "    <tr>\n",
       "      <th>围城</th>\n",
       "      <td>27.3</td>\n",
       "      <td>1</td>\n",
       "      <td>1113</td>\n",
       "      <td>5</td>\n",
       "    </tr>\n",
       "    <tr>\n",
       "      <th>用来玩的国粹炫彩缝线本</th>\n",
       "      <td>35.7</td>\n",
       "      <td>3</td>\n",
       "      <td>1113</td>\n",
       "      <td>5</td>\n",
       "    </tr>\n",
       "    <tr>\n",
       "      <th>追风筝的人</th>\n",
       "      <td>24.8</td>\n",
       "      <td>1</td>\n",
       "      <td>1116</td>\n",
       "      <td>5</td>\n",
       "    </tr>\n",
       "    <tr>\n",
       "      <th>苏东坡传</th>\n",
       "      <td>32.5</td>\n",
       "      <td>1</td>\n",
       "      <td>1117</td>\n",
       "      <td>4</td>\n",
       "    </tr>\n",
       "  </tbody>\n",
       "</table>\n",
       "</div>"
      ],
      "text/plain": [
       "                价格  数量  到货时间  评价\n",
       "三体十倍价典藏版     558.0   1  1112   5\n",
       "围城            27.3   1  1113   5\n",
       "用来玩的国粹炫彩缝线本   35.7   3  1113   5\n",
       "追风筝的人         24.8   1  1116   5\n",
       "苏东坡传          32.5   1  1117   4"
      ]
     },
     "execution_count": 10,
     "metadata": {},
     "output_type": "execute_result"
    }
   ],
   "source": [
    "books.sort_values(by = '到货时间')"
   ]
  },
  {
   "cell_type": "markdown",
   "metadata": {},
   "source": [
    "#### 得到各样物品评价的排名"
   ]
  },
  {
   "cell_type": "code",
   "execution_count": 11,
   "metadata": {},
   "outputs": [
    {
     "data": {
      "text/html": [
       "<div>\n",
       "<style scoped>\n",
       "    .dataframe tbody tr th:only-of-type {\n",
       "        vertical-align: middle;\n",
       "    }\n",
       "\n",
       "    .dataframe tbody tr th {\n",
       "        vertical-align: top;\n",
       "    }\n",
       "\n",
       "    .dataframe thead th {\n",
       "        text-align: right;\n",
       "    }\n",
       "</style>\n",
       "<table border=\"1\" class=\"dataframe\">\n",
       "  <thead>\n",
       "    <tr style=\"text-align: right;\">\n",
       "      <th></th>\n",
       "      <th>价格</th>\n",
       "      <th>数量</th>\n",
       "      <th>到货时间</th>\n",
       "      <th>评价</th>\n",
       "      <th>评价排名</th>\n",
       "    </tr>\n",
       "  </thead>\n",
       "  <tbody>\n",
       "    <tr>\n",
       "      <th>追风筝的人</th>\n",
       "      <td>24.8</td>\n",
       "      <td>1</td>\n",
       "      <td>1116</td>\n",
       "      <td>5</td>\n",
       "      <td>1</td>\n",
       "    </tr>\n",
       "    <tr>\n",
       "      <th>三体十倍价典藏版</th>\n",
       "      <td>558.0</td>\n",
       "      <td>1</td>\n",
       "      <td>1112</td>\n",
       "      <td>5</td>\n",
       "      <td>2</td>\n",
       "    </tr>\n",
       "    <tr>\n",
       "      <th>围城</th>\n",
       "      <td>27.3</td>\n",
       "      <td>1</td>\n",
       "      <td>1113</td>\n",
       "      <td>5</td>\n",
       "      <td>3</td>\n",
       "    </tr>\n",
       "    <tr>\n",
       "      <th>用来玩的国粹炫彩缝线本</th>\n",
       "      <td>35.7</td>\n",
       "      <td>3</td>\n",
       "      <td>1113</td>\n",
       "      <td>5</td>\n",
       "      <td>4</td>\n",
       "    </tr>\n",
       "    <tr>\n",
       "      <th>苏东坡传</th>\n",
       "      <td>32.5</td>\n",
       "      <td>1</td>\n",
       "      <td>1117</td>\n",
       "      <td>4</td>\n",
       "      <td>5</td>\n",
       "    </tr>\n",
       "  </tbody>\n",
       "</table>\n",
       "</div>"
      ],
      "text/plain": [
       "                价格  数量  到货时间  评价  评价排名\n",
       "追风筝的人         24.8   1  1116   5     1\n",
       "三体十倍价典藏版     558.0   1  1112   5     2\n",
       "围城            27.3   1  1113   5     3\n",
       "用来玩的国粹炫彩缝线本   35.7   3  1113   5     4\n",
       "苏东坡传          32.5   1  1117   4     5"
      ]
     },
     "execution_count": 11,
     "metadata": {},
     "output_type": "execute_result"
    }
   ],
   "source": [
    "books2 = books.sort_values(by = '评价', ascending = False)\n",
    "books2['评价排名'] = [1,2,3,4,5]\n",
    "books2"
   ]
  },
  {
   "cell_type": "markdown",
   "metadata": {},
   "source": [
    "#### 计算一下这些物品的总花费、最大值、最小值和平均值"
   ]
  },
  {
   "cell_type": "code",
   "execution_count": 12,
   "metadata": {},
   "outputs": [
    {
     "name": "stdout",
     "output_type": "stream",
     "text": [
      "总花费：678.3\n",
      "最大值：558.0\n",
      "最小值：24.8\n",
      "平均值：135.66\n"
     ]
    }
   ],
   "source": [
    "total_price = float(books.sum()[:1])\n",
    "max_price = max(list(books['价格']))\n",
    "min_price = float(books.sort_values(by = '价格')[:1]['价格'])\n",
    "mean_price = float(books.mean()[:1])\n",
    "print('总花费：' + str(total_price) + '\\n最大值：' + str(max_price) + '\\n最小值：' + str(min_price) + '\\n平均值：' + str(mean_price))"
   ]
  }
 ],
 "metadata": {
  "kernelspec": {
   "display_name": "Python 3",
   "language": "python",
   "name": "python3"
  },
  "language_info": {
   "codemirror_mode": {
    "name": "ipython",
    "version": 3
   },
   "file_extension": ".py",
   "mimetype": "text/x-python",
   "name": "python",
   "nbconvert_exporter": "python",
   "pygments_lexer": "ipython3",
   "version": "3.6.7"
  },
  "toc": {
   "base_numbering": 1,
   "nav_menu": {},
   "number_sections": true,
   "sideBar": true,
   "skip_h1_title": false,
   "title_cell": "Table of Contents",
   "title_sidebar": "Contents",
   "toc_cell": false,
   "toc_position": {},
   "toc_section_display": true,
   "toc_window_display": false
  }
 },
 "nbformat": 4,
 "nbformat_minor": 2
}
