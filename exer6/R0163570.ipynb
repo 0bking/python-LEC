{
 "cells": [
  {
   "cell_type": "markdown",
   "metadata": {},
   "source": [
    "## 第六次练习"
   ]
  },
  {
   "cell_type": "markdown",
   "metadata": {},
   "source": [
    "+ 请务必交到exer6文件夹下，**谢绝交到master下**\n",
    "+ 请不要改动任何文件，拜托\n",
    "+ 请在12月4日前提交。"
   ]
  },
  {
   "cell_type": "markdown",
   "metadata": {},
   "source": [
    "请写一下姓名和学号：\n",
    "+ 姓名  章建强\n",
    "+ 学号  0163570"
   ]
  },
  {
   "cell_type": "markdown",
   "metadata": {},
   "source": [
    "### 请建立一个数据框，列出你在双十一购买的至少五样物品。\n",
    "用它们的名称作为index的label，在列里列出这些物品（数据可以是虚拟的）的：\n",
    "+ 价格\n",
    "+ 购买的数量\n",
    "+ 收到的时间（类似1113即可，表示11月13日收到）\n",
    "+ 你的评价（从1到5，1表示很不好，5表示很好）"
   ]
  },
  {
   "cell_type": "code",
   "execution_count": 11,
   "metadata": {
    "collapsed": false
   },
   "outputs": [
    {
     "data": {
      "text/html": [
       "<div>\n",
       "<table border=\"1\" class=\"dataframe\">\n",
       "  <thead>\n",
       "    <tr style=\"text-align: right;\">\n",
       "      <th></th>\n",
       "      <th>价格</th>\n",
       "      <th>数量</th>\n",
       "      <th>时间</th>\n",
       "      <th>评价</th>\n",
       "    </tr>\n",
       "  </thead>\n",
       "  <tbody>\n",
       "    <tr>\n",
       "      <th>大衣</th>\n",
       "      <td>288.00</td>\n",
       "      <td>2</td>\n",
       "      <td>1113</td>\n",
       "      <td>5</td>\n",
       "    </tr>\n",
       "    <tr>\n",
       "      <th>R语言实战</th>\n",
       "      <td>58.75</td>\n",
       "      <td>1</td>\n",
       "      <td>1115</td>\n",
       "      <td>4</td>\n",
       "    </tr>\n",
       "    <tr>\n",
       "      <th>鞋</th>\n",
       "      <td>26.00</td>\n",
       "      <td>2</td>\n",
       "      <td>1115</td>\n",
       "      <td>5</td>\n",
       "    </tr>\n",
       "    <tr>\n",
       "      <th>咖啡</th>\n",
       "      <td>21.00</td>\n",
       "      <td>2</td>\n",
       "      <td>1116</td>\n",
       "      <td>4</td>\n",
       "    </tr>\n",
       "    <tr>\n",
       "      <th>网球拍</th>\n",
       "      <td>125.00</td>\n",
       "      <td>2</td>\n",
       "      <td>1117</td>\n",
       "      <td>4</td>\n",
       "    </tr>\n",
       "  </tbody>\n",
       "</table>\n",
       "</div>"
      ],
      "text/plain": [
       "           价格  数量    时间  评价\n",
       "大衣     288.00   2  1113   5\n",
       "R语言实战   58.75   1  1115   4\n",
       "鞋       26.00   2  1115   5\n",
       "咖啡      21.00   2  1116   4\n",
       "网球拍    125.00   2  1117   4"
      ]
     },
     "execution_count": 11,
     "metadata": {},
     "output_type": "execute_result"
    }
   ],
   "source": [
    "import pandas as pd\n",
    "from pandas import Series, DataFrame\n",
    "data ={'价格':[288,58.75,26,21,125],\n",
    "       '数量':[2,1,2,2,2],\n",
    "       '时间':[1113,1115,1115,1116,1117],\n",
    "       '评价':[5,4,5,4,4] \n",
    "       }\n",
    "frame=pd.DataFrame(data)\n",
    "frame=pd.DataFrame(data, index=['大衣','R语言实战','鞋','咖啡','网球拍'])\n",
    "frame"
   ]
  },
  {
   "cell_type": "markdown",
   "metadata": {},
   "source": [
    "#### 用index的label读取某一个物品数据"
   ]
  },
  {
   "cell_type": "code",
   "execution_count": 12,
   "metadata": {
    "collapsed": false
   },
   "outputs": [
    {
     "data": {
      "text/plain": [
       "价格     125.0\n",
       "数量       2.0\n",
       "时间    1117.0\n",
       "评价       4.0\n",
       "Name: 网球拍, dtype: float64"
      ]
     },
     "execution_count": 12,
     "metadata": {},
     "output_type": "execute_result"
    }
   ],
   "source": [
    "frame.loc['网球拍']"
   ]
  },
  {
   "cell_type": "markdown",
   "metadata": {},
   "source": [
    "#### 选择价格>200的物品"
   ]
  },
  {
   "cell_type": "code",
   "execution_count": 13,
   "metadata": {
    "collapsed": false
   },
   "outputs": [
    {
     "data": {
      "text/html": [
       "<div>\n",
       "<table border=\"1\" class=\"dataframe\">\n",
       "  <thead>\n",
       "    <tr style=\"text-align: right;\">\n",
       "      <th></th>\n",
       "      <th>价格</th>\n",
       "      <th>数量</th>\n",
       "      <th>时间</th>\n",
       "      <th>评价</th>\n",
       "    </tr>\n",
       "  </thead>\n",
       "  <tbody>\n",
       "    <tr>\n",
       "      <th>大衣</th>\n",
       "      <td>288.0</td>\n",
       "      <td>2</td>\n",
       "      <td>1113</td>\n",
       "      <td>5</td>\n",
       "    </tr>\n",
       "  </tbody>\n",
       "</table>\n",
       "</div>"
      ],
      "text/plain": [
       "       价格  数量    时间  评价\n",
       "大衣  288.0   2  1113   5"
      ]
     },
     "execution_count": 13,
     "metadata": {},
     "output_type": "execute_result"
    }
   ],
   "source": [
    "frame[frame['价格'] > 200]"
   ]
  },
  {
   "cell_type": "markdown",
   "metadata": {},
   "source": [
    "#### 挑选其中和学习有关的物品，构成一个子集"
   ]
  },
  {
   "cell_type": "code",
   "execution_count": 16,
   "metadata": {
    "collapsed": false
   },
   "outputs": [
    {
     "data": {
      "text/html": [
       "<div>\n",
       "<table border=\"1\" class=\"dataframe\">\n",
       "  <thead>\n",
       "    <tr style=\"text-align: right;\">\n",
       "      <th></th>\n",
       "      <th>价格</th>\n",
       "      <th>数量</th>\n",
       "      <th>时间</th>\n",
       "      <th>评价</th>\n",
       "    </tr>\n",
       "  </thead>\n",
       "  <tbody>\n",
       "    <tr>\n",
       "      <th>R语言实战</th>\n",
       "      <td>58.75</td>\n",
       "      <td>1</td>\n",
       "      <td>1115</td>\n",
       "      <td>4</td>\n",
       "    </tr>\n",
       "  </tbody>\n",
       "</table>\n",
       "</div>"
      ],
      "text/plain": [
       "          价格  数量    时间  评价\n",
       "R语言实战  58.75   1  1115   4"
      ]
     },
     "execution_count": 16,
     "metadata": {},
     "output_type": "execute_result"
    }
   ],
   "source": [
    "study = frame.loc[['R语言实战']]\n",
    "study"
   ]
  },
  {
   "cell_type": "markdown",
   "metadata": {},
   "source": [
    "#### 读取评价那列的数据"
   ]
  },
  {
   "cell_type": "code",
   "execution_count": 17,
   "metadata": {
    "collapsed": false
   },
   "outputs": [
    {
     "data": {
      "text/plain": [
       "大衣       5\n",
       "R语言实战    4\n",
       "鞋        5\n",
       "咖啡       4\n",
       "网球拍      4\n",
       "Name: 评价, dtype: int64"
      ]
     },
     "execution_count": 17,
     "metadata": {},
     "output_type": "execute_result"
    }
   ],
   "source": [
    "frame['评价']"
   ]
  },
  {
   "cell_type": "markdown",
   "metadata": {},
   "source": [
    "#### 根据label对数据框重新排序，按照对你的迫切程度"
   ]
  },
  {
   "cell_type": "code",
   "execution_count": 23,
   "metadata": {
    "collapsed": false,
    "scrolled": false
   },
   "outputs": [
    {
     "data": {
      "text/html": [
       "<div>\n",
       "<table border=\"1\" class=\"dataframe\">\n",
       "  <thead>\n",
       "    <tr style=\"text-align: right;\">\n",
       "      <th></th>\n",
       "      <th>价格</th>\n",
       "      <th>数量</th>\n",
       "      <th>时间</th>\n",
       "      <th>评价</th>\n",
       "    </tr>\n",
       "  </thead>\n",
       "  <tbody>\n",
       "    <tr>\n",
       "      <th>R语言实战</th>\n",
       "      <td>58.75</td>\n",
       "      <td>1</td>\n",
       "      <td>1115</td>\n",
       "      <td>4</td>\n",
       "    </tr>\n",
       "    <tr>\n",
       "      <th>大衣</th>\n",
       "      <td>288.00</td>\n",
       "      <td>2</td>\n",
       "      <td>1113</td>\n",
       "      <td>5</td>\n",
       "    </tr>\n",
       "    <tr>\n",
       "      <th>鞋</th>\n",
       "      <td>26.00</td>\n",
       "      <td>2</td>\n",
       "      <td>1115</td>\n",
       "      <td>5</td>\n",
       "    </tr>\n",
       "    <tr>\n",
       "      <th>网球拍</th>\n",
       "      <td>125.00</td>\n",
       "      <td>2</td>\n",
       "      <td>1117</td>\n",
       "      <td>4</td>\n",
       "    </tr>\n",
       "    <tr>\n",
       "      <th>咖啡</th>\n",
       "      <td>21.00</td>\n",
       "      <td>2</td>\n",
       "      <td>1116</td>\n",
       "      <td>4</td>\n",
       "    </tr>\n",
       "  </tbody>\n",
       "</table>\n",
       "</div>"
      ],
      "text/plain": [
       "           价格  数量    时间  评价\n",
       "R语言实战   58.75   1  1115   4\n",
       "大衣     288.00   2  1113   5\n",
       "鞋       26.00   2  1115   5\n",
       "网球拍    125.00   2  1117   4\n",
       "咖啡      21.00   2  1116   4"
      ]
     },
     "execution_count": 23,
     "metadata": {},
     "output_type": "execute_result"
    }
   ],
   "source": [
    "pd.DataFrame(frame,index=['R语言实战','大衣','鞋','网球拍','咖啡'])"
   ]
  },
  {
   "cell_type": "markdown",
   "metadata": {},
   "source": [
    "#### 生成一个series，记录这些物品的快递费，然后加到价格上"
   ]
  },
  {
   "cell_type": "code",
   "execution_count": 25,
   "metadata": {
    "collapsed": false
   },
   "outputs": [
    {
     "data": {
      "text/html": [
       "<div>\n",
       "<table border=\"1\" class=\"dataframe\">\n",
       "  <thead>\n",
       "    <tr style=\"text-align: right;\">\n",
       "      <th></th>\n",
       "      <th>价格</th>\n",
       "      <th>数量</th>\n",
       "      <th>时间</th>\n",
       "      <th>评价</th>\n",
       "    </tr>\n",
       "  </thead>\n",
       "  <tbody>\n",
       "    <tr>\n",
       "      <th>大衣</th>\n",
       "      <td>303.00</td>\n",
       "      <td>2</td>\n",
       "      <td>1113</td>\n",
       "      <td>5</td>\n",
       "    </tr>\n",
       "    <tr>\n",
       "      <th>R语言实战</th>\n",
       "      <td>69.75</td>\n",
       "      <td>1</td>\n",
       "      <td>1115</td>\n",
       "      <td>4</td>\n",
       "    </tr>\n",
       "    <tr>\n",
       "      <th>鞋</th>\n",
       "      <td>46.00</td>\n",
       "      <td>2</td>\n",
       "      <td>1115</td>\n",
       "      <td>5</td>\n",
       "    </tr>\n",
       "    <tr>\n",
       "      <th>咖啡</th>\n",
       "      <td>32.00</td>\n",
       "      <td>2</td>\n",
       "      <td>1116</td>\n",
       "      <td>4</td>\n",
       "    </tr>\n",
       "    <tr>\n",
       "      <th>网球拍</th>\n",
       "      <td>136.00</td>\n",
       "      <td>2</td>\n",
       "      <td>1117</td>\n",
       "      <td>4</td>\n",
       "    </tr>\n",
       "  </tbody>\n",
       "</table>\n",
       "</div>"
      ],
      "text/plain": [
       "           价格  数量    时间  评价\n",
       "大衣     303.00   2  1113   5\n",
       "R语言实战   69.75   1  1115   4\n",
       "鞋       46.00   2  1115   5\n",
       "咖啡      32.00   2  1116   4\n",
       "网球拍    136.00   2  1117   4"
      ]
     },
     "execution_count": 25,
     "metadata": {},
     "output_type": "execute_result"
    }
   ],
   "source": [
    "transport_fee = pd.Series([10,5,10,5,8],index=['大衣','R语言实战','鞋','咖啡','网球拍'])\n",
    "\n",
    "frame['价格'] = transport_fee + frame['价格']\n",
    "frame\n"
   ]
  },
  {
   "cell_type": "markdown",
   "metadata": {},
   "source": [
    "#### 按照价格从高到底排序"
   ]
  },
  {
   "cell_type": "code",
   "execution_count": 26,
   "metadata": {
    "collapsed": false
   },
   "outputs": [
    {
     "data": {
      "text/html": [
       "<div>\n",
       "<table border=\"1\" class=\"dataframe\">\n",
       "  <thead>\n",
       "    <tr style=\"text-align: right;\">\n",
       "      <th></th>\n",
       "      <th>价格</th>\n",
       "      <th>数量</th>\n",
       "      <th>时间</th>\n",
       "      <th>评价</th>\n",
       "    </tr>\n",
       "  </thead>\n",
       "  <tbody>\n",
       "    <tr>\n",
       "      <th>大衣</th>\n",
       "      <td>303.00</td>\n",
       "      <td>2</td>\n",
       "      <td>1113</td>\n",
       "      <td>5</td>\n",
       "    </tr>\n",
       "    <tr>\n",
       "      <th>网球拍</th>\n",
       "      <td>136.00</td>\n",
       "      <td>2</td>\n",
       "      <td>1117</td>\n",
       "      <td>4</td>\n",
       "    </tr>\n",
       "    <tr>\n",
       "      <th>R语言实战</th>\n",
       "      <td>69.75</td>\n",
       "      <td>1</td>\n",
       "      <td>1115</td>\n",
       "      <td>4</td>\n",
       "    </tr>\n",
       "    <tr>\n",
       "      <th>鞋</th>\n",
       "      <td>46.00</td>\n",
       "      <td>2</td>\n",
       "      <td>1115</td>\n",
       "      <td>5</td>\n",
       "    </tr>\n",
       "    <tr>\n",
       "      <th>咖啡</th>\n",
       "      <td>32.00</td>\n",
       "      <td>2</td>\n",
       "      <td>1116</td>\n",
       "      <td>4</td>\n",
       "    </tr>\n",
       "  </tbody>\n",
       "</table>\n",
       "</div>"
      ],
      "text/plain": [
       "           价格  数量    时间  评价\n",
       "大衣     303.00   2  1113   5\n",
       "网球拍    136.00   2  1117   4\n",
       "R语言实战   69.75   1  1115   4\n",
       "鞋       46.00   2  1115   5\n",
       "咖啡      32.00   2  1116   4"
      ]
     },
     "execution_count": 26,
     "metadata": {},
     "output_type": "execute_result"
    }
   ],
   "source": [
    "frame.sort_values(by='价格',ascending=False)"
   ]
  },
  {
   "cell_type": "markdown",
   "metadata": {},
   "source": [
    "#### 按照收到的时间从低到高排序"
   ]
  },
  {
   "cell_type": "code",
   "execution_count": 27,
   "metadata": {
    "collapsed": false
   },
   "outputs": [
    {
     "data": {
      "text/html": [
       "<div>\n",
       "<table border=\"1\" class=\"dataframe\">\n",
       "  <thead>\n",
       "    <tr style=\"text-align: right;\">\n",
       "      <th></th>\n",
       "      <th>价格</th>\n",
       "      <th>数量</th>\n",
       "      <th>时间</th>\n",
       "      <th>评价</th>\n",
       "    </tr>\n",
       "  </thead>\n",
       "  <tbody>\n",
       "    <tr>\n",
       "      <th>大衣</th>\n",
       "      <td>303.00</td>\n",
       "      <td>2</td>\n",
       "      <td>1113</td>\n",
       "      <td>5</td>\n",
       "    </tr>\n",
       "    <tr>\n",
       "      <th>R语言实战</th>\n",
       "      <td>69.75</td>\n",
       "      <td>1</td>\n",
       "      <td>1115</td>\n",
       "      <td>4</td>\n",
       "    </tr>\n",
       "    <tr>\n",
       "      <th>鞋</th>\n",
       "      <td>46.00</td>\n",
       "      <td>2</td>\n",
       "      <td>1115</td>\n",
       "      <td>5</td>\n",
       "    </tr>\n",
       "    <tr>\n",
       "      <th>咖啡</th>\n",
       "      <td>32.00</td>\n",
       "      <td>2</td>\n",
       "      <td>1116</td>\n",
       "      <td>4</td>\n",
       "    </tr>\n",
       "    <tr>\n",
       "      <th>网球拍</th>\n",
       "      <td>136.00</td>\n",
       "      <td>2</td>\n",
       "      <td>1117</td>\n",
       "      <td>4</td>\n",
       "    </tr>\n",
       "  </tbody>\n",
       "</table>\n",
       "</div>"
      ],
      "text/plain": [
       "           价格  数量    时间  评价\n",
       "大衣     303.00   2  1113   5\n",
       "R语言实战   69.75   1  1115   4\n",
       "鞋       46.00   2  1115   5\n",
       "咖啡      32.00   2  1116   4\n",
       "网球拍    136.00   2  1117   4"
      ]
     },
     "execution_count": 27,
     "metadata": {},
     "output_type": "execute_result"
    }
   ],
   "source": [
    "frame.sort_values(by='时间')"
   ]
  },
  {
   "cell_type": "markdown",
   "metadata": {},
   "source": [
    "#### 得到各样物品评价的排名"
   ]
  },
  {
   "cell_type": "code",
   "execution_count": 29,
   "metadata": {
    "collapsed": false
   },
   "outputs": [
    {
     "data": {
      "text/plain": [
       "大衣       4.0\n",
       "R语言实战    1.0\n",
       "鞋        5.0\n",
       "咖啡       2.0\n",
       "网球拍      3.0\n",
       "Name: 评价, dtype: float64"
      ]
     },
     "execution_count": 29,
     "metadata": {},
     "output_type": "execute_result"
    }
   ],
   "source": [
    "frame['评价'].rank(method='first') "
   ]
  },
  {
   "cell_type": "markdown",
   "metadata": {},
   "source": [
    "#### 计算一下这些物品的总花费、最大值、最小值和平均值"
   ]
  },
  {
   "cell_type": "code",
   "execution_count": 34,
   "metadata": {
    "collapsed": false
   },
   "outputs": [
    {
     "data": {
      "text/html": [
       "<div>\n",
       "<table border=\"1\" class=\"dataframe\">\n",
       "  <thead>\n",
       "    <tr style=\"text-align: right;\">\n",
       "      <th></th>\n",
       "      <th>价格</th>\n",
       "      <th>数量</th>\n",
       "      <th>时间</th>\n",
       "      <th>评价</th>\n",
       "      <th>总花费</th>\n",
       "    </tr>\n",
       "  </thead>\n",
       "  <tbody>\n",
       "    <tr>\n",
       "      <th>大衣</th>\n",
       "      <td>303.00</td>\n",
       "      <td>2</td>\n",
       "      <td>1113</td>\n",
       "      <td>5</td>\n",
       "      <td>606.00</td>\n",
       "    </tr>\n",
       "    <tr>\n",
       "      <th>R语言实战</th>\n",
       "      <td>69.75</td>\n",
       "      <td>1</td>\n",
       "      <td>1115</td>\n",
       "      <td>4</td>\n",
       "      <td>69.75</td>\n",
       "    </tr>\n",
       "    <tr>\n",
       "      <th>鞋</th>\n",
       "      <td>46.00</td>\n",
       "      <td>2</td>\n",
       "      <td>1115</td>\n",
       "      <td>5</td>\n",
       "      <td>92.00</td>\n",
       "    </tr>\n",
       "    <tr>\n",
       "      <th>咖啡</th>\n",
       "      <td>32.00</td>\n",
       "      <td>2</td>\n",
       "      <td>1116</td>\n",
       "      <td>4</td>\n",
       "      <td>64.00</td>\n",
       "    </tr>\n",
       "    <tr>\n",
       "      <th>网球拍</th>\n",
       "      <td>136.00</td>\n",
       "      <td>2</td>\n",
       "      <td>1117</td>\n",
       "      <td>4</td>\n",
       "      <td>272.00</td>\n",
       "    </tr>\n",
       "  </tbody>\n",
       "</table>\n",
       "</div>"
      ],
      "text/plain": [
       "           价格  数量    时间  评价     总花费\n",
       "大衣     303.00   2  1113   5  606.00\n",
       "R语言实战   69.75   1  1115   4   69.75\n",
       "鞋       46.00   2  1115   5   92.00\n",
       "咖啡      32.00   2  1116   4   64.00\n",
       "网球拍    136.00   2  1117   4  272.00"
      ]
     },
     "execution_count": 34,
     "metadata": {},
     "output_type": "execute_result"
    }
   ],
   "source": [
    "frame['总花费']=frame['价格']*frame['数量']\n",
    "frame"
   ]
  },
  {
   "cell_type": "code",
   "execution_count": 41,
   "metadata": {
    "collapsed": false
   },
   "outputs": [
    {
     "data": {
      "text/plain": [
       "1103.75"
      ]
     },
     "execution_count": 41,
     "metadata": {},
     "output_type": "execute_result"
    }
   ],
   "source": [
    "#花费总额\n",
    "df=pd.DataFrame(frame)\n",
    "df['总花费'].sum()"
   ]
  },
  {
   "cell_type": "code",
   "execution_count": 42,
   "metadata": {
    "collapsed": false
   },
   "outputs": [
    {
     "data": {
      "text/plain": [
       "606.0"
      ]
     },
     "execution_count": 42,
     "metadata": {},
     "output_type": "execute_result"
    }
   ],
   "source": [
    "#最大值\n",
    "df['总花费'].max()"
   ]
  },
  {
   "cell_type": "code",
   "execution_count": 43,
   "metadata": {
    "collapsed": false
   },
   "outputs": [
    {
     "data": {
      "text/plain": [
       "64.0"
      ]
     },
     "execution_count": 43,
     "metadata": {},
     "output_type": "execute_result"
    }
   ],
   "source": [
    "#最小值\n",
    "df['总花费'].min()"
   ]
  },
  {
   "cell_type": "code",
   "execution_count": 44,
   "metadata": {
    "collapsed": false
   },
   "outputs": [
    {
     "data": {
      "text/plain": [
       "220.75"
      ]
     },
     "execution_count": 44,
     "metadata": {},
     "output_type": "execute_result"
    }
   ],
   "source": [
    "#平均值\n",
    "df['总花费'].mean()"
   ]
  },
  {
   "cell_type": "code",
   "execution_count": null,
   "metadata": {
    "collapsed": true
   },
   "outputs": [],
   "source": []
  }
 ],
 "metadata": {
  "kernelspec": {
   "display_name": "Python 3",
   "language": "python",
   "name": "python3"
  },
  "language_info": {
   "codemirror_mode": {
    "name": "ipython",
    "version": 3
   },
   "file_extension": ".py",
   "mimetype": "text/x-python",
   "name": "python",
   "nbconvert_exporter": "python",
   "pygments_lexer": "ipython3",
   "version": "3.6.0"
  },
  "toc": {
   "base_numbering": 1,
   "nav_menu": {},
   "number_sections": true,
   "sideBar": true,
   "skip_h1_title": false,
   "title_cell": "Table of Contents",
   "title_sidebar": "Contents",
   "toc_cell": false,
   "toc_position": {},
   "toc_section_display": true,
   "toc_window_display": false
  }
 },
 "nbformat": 4,
 "nbformat_minor": 2
}
