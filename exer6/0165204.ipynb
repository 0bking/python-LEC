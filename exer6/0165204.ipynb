{
 "cells": [
  {
   "cell_type": "markdown",
   "metadata": {},
   "source": [
    "## 第六次练习"
   ]
  },
  {
   "cell_type": "markdown",
   "metadata": {},
   "source": [
    "+ 请务必交到exer6文件夹下，**谢绝交到master下**\n",
    "+ 请不要改动任何文件，拜托\n",
    "+ 请在12月4日前提交。"
   ]
  },
  {
   "cell_type": "markdown",
   "metadata": {},
   "source": [
    "请写一下姓名和学号：\n",
    "+ 姓名 廖明可\n",
    "+ 学号 0165204"
   ]
  },
  {
   "cell_type": "markdown",
   "metadata": {},
   "source": [
    "### 请建立一个数据框，列出你在双十一购买的至少五样物品。\n",
    "用它们的名称作为index的label，在列里列出这些物品（数据可以是虚拟的）的：\n",
    "+ 价格\n",
    "+ 购买的数量\n",
    "+ 收到的时间（类似1113即可，表示11月13日收到）\n",
    "+ 你的评价（从1到5，1表示很不好，5表示很好）"
   ]
  },
  {
   "cell_type": "code",
   "execution_count": 24,
   "metadata": {
    "collapsed": false
   },
   "outputs": [
    {
     "data": {
      "text/html": [
       "<div>\n",
       "<table border=\"1\" class=\"dataframe\">\n",
       "  <thead>\n",
       "    <tr style=\"text-align: right;\">\n",
       "      <th></th>\n",
       "      <th>price</th>\n",
       "      <th>number</th>\n",
       "      <th>receiving date</th>\n",
       "      <th>evaluation</th>\n",
       "    </tr>\n",
       "  </thead>\n",
       "  <tbody>\n",
       "    <tr>\n",
       "      <th>高数辅导书</th>\n",
       "      <td>22.4</td>\n",
       "      <td>1</td>\n",
       "      <td>1115</td>\n",
       "      <td>5</td>\n",
       "    </tr>\n",
       "    <tr>\n",
       "      <th>百雀羚面膜</th>\n",
       "      <td>73.5</td>\n",
       "      <td>2</td>\n",
       "      <td>1117</td>\n",
       "      <td>4</td>\n",
       "    </tr>\n",
       "    <tr>\n",
       "      <th>elta洗面奶</th>\n",
       "      <td>234.0</td>\n",
       "      <td>1</td>\n",
       "      <td>1119</td>\n",
       "      <td>5</td>\n",
       "    </tr>\n",
       "    <tr>\n",
       "      <th>德运奶粉</th>\n",
       "      <td>50.8</td>\n",
       "      <td>1</td>\n",
       "      <td>1115</td>\n",
       "      <td>5</td>\n",
       "    </tr>\n",
       "    <tr>\n",
       "      <th>钙奶饼干</th>\n",
       "      <td>26.9</td>\n",
       "      <td>1</td>\n",
       "      <td>1116</td>\n",
       "      <td>5</td>\n",
       "    </tr>\n",
       "  </tbody>\n",
       "</table>\n",
       "</div>"
      ],
      "text/plain": [
       "         price  number  receiving date  evaluation\n",
       "高数辅导书     22.4       1            1115           5\n",
       "百雀羚面膜     73.5       2            1117           4\n",
       "elta洗面奶  234.0       1            1119           5\n",
       "德运奶粉      50.8       1            1115           5\n",
       "钙奶饼干      26.9       1            1116           5"
      ]
     },
     "execution_count": 24,
     "metadata": {},
     "output_type": "execute_result"
    }
   ],
   "source": [
    "import pandas as pd\n",
    "from pandas import DataFrame\n",
    "\n",
    "data = {'price': [22.4, 73.5, 234, 50.8, 26.9], \n",
    "        'number': [1, 2, 1, 1, 1], \n",
    "        'receiving date': [1115, 1117, 1119, 1115, 1116],\n",
    "        'evaluation': [5, 4, 5, 5, 5]}\n",
    "\n",
    "frame = pd.DataFrame(data, columns=['price', 'number', 'receiving date', 'evaluation'],\n",
    "                     index=['高数辅导书', '百雀羚面膜', 'elta洗面奶', '德运奶粉', '钙奶饼干'])\n",
    "\n",
    "frame"
   ]
  },
  {
   "cell_type": "markdown",
   "metadata": {},
   "source": [
    "#### 用index的label读取某一个物品数据"
   ]
  },
  {
   "cell_type": "code",
   "execution_count": 25,
   "metadata": {
    "collapsed": false
   },
   "outputs": [
    {
     "data": {
      "text/plain": [
       "price               26.9\n",
       "number               1.0\n",
       "receiving date    1116.0\n",
       "evaluation           5.0\n",
       "Name: 钙奶饼干, dtype: float64"
      ]
     },
     "execution_count": 25,
     "metadata": {},
     "output_type": "execute_result"
    }
   ],
   "source": [
    "frame.loc['钙奶饼干']"
   ]
  },
  {
   "cell_type": "markdown",
   "metadata": {},
   "source": [
    "#### 选择价格>200的物品"
   ]
  },
  {
   "cell_type": "code",
   "execution_count": 26,
   "metadata": {
    "collapsed": false
   },
   "outputs": [
    {
     "data": {
      "text/plain": [
       "elta洗面奶    234.0\n",
       "dtype: float64"
      ]
     },
     "execution_count": 26,
     "metadata": {},
     "output_type": "execute_result"
    }
   ],
   "source": [
    "obj = pd.Series([22.4, 73.5, 234, 50.8, 26.9],\n",
    "                index=['高数辅导书', '百雀羚面膜', 'elta洗面奶', '德运奶粉', '钙奶饼干'])\n",
    "obj[obj > 200]"
   ]
  },
  {
   "cell_type": "markdown",
   "metadata": {},
   "source": [
    "#### 挑选其中和学习有关的物品，构成一个子集"
   ]
  },
  {
   "cell_type": "code",
   "execution_count": 27,
   "metadata": {
    "collapsed": false
   },
   "outputs": [
    {
     "data": {
      "text/html": [
       "<div>\n",
       "<table border=\"1\" class=\"dataframe\">\n",
       "  <thead>\n",
       "    <tr style=\"text-align: right;\">\n",
       "      <th></th>\n",
       "      <th>evaluation</th>\n",
       "      <th>number</th>\n",
       "      <th>price</th>\n",
       "      <th>receiving date</th>\n",
       "    </tr>\n",
       "  </thead>\n",
       "  <tbody>\n",
       "    <tr>\n",
       "      <th>高数辅导书</th>\n",
       "      <td>5</td>\n",
       "      <td>1</td>\n",
       "      <td>22.4</td>\n",
       "      <td>1115</td>\n",
       "    </tr>\n",
       "  </tbody>\n",
       "</table>\n",
       "</div>"
      ],
      "text/plain": [
       "       evaluation  number  price  receiving date\n",
       "高数辅导书           5       1   22.4            1115"
      ]
     },
     "execution_count": 27,
     "metadata": {},
     "output_type": "execute_result"
    }
   ],
   "source": [
    "study = {'price': frame['price'][:1],\n",
    "         'number': frame['number'][:1],\n",
    "         'receiving date': frame['receiving date'][:1],\n",
    "         'evaluation': frame['evaluation'][:1]}\n",
    "pd.DataFrame(study)"
   ]
  },
  {
   "cell_type": "markdown",
   "metadata": {},
   "source": [
    "#### 读取评价那列的数据"
   ]
  },
  {
   "cell_type": "code",
   "execution_count": 28,
   "metadata": {
    "collapsed": false
   },
   "outputs": [
    {
     "data": {
      "text/plain": [
       "高数辅导书      5\n",
       "百雀羚面膜      4\n",
       "elta洗面奶    5\n",
       "德运奶粉       5\n",
       "钙奶饼干       5\n",
       "Name: evaluation, dtype: int64"
      ]
     },
     "execution_count": 28,
     "metadata": {},
     "output_type": "execute_result"
    }
   ],
   "source": [
    "frame['evaluation']"
   ]
  },
  {
   "cell_type": "markdown",
   "metadata": {},
   "source": [
    "#### 根据label对数据框重新排序，按照对你的迫切程度"
   ]
  },
  {
   "cell_type": "code",
   "execution_count": 29,
   "metadata": {
    "collapsed": false
   },
   "outputs": [
    {
     "data": {
      "text/html": [
       "<div>\n",
       "<table border=\"1\" class=\"dataframe\">\n",
       "  <thead>\n",
       "    <tr style=\"text-align: right;\">\n",
       "      <th></th>\n",
       "      <th>price</th>\n",
       "      <th>number</th>\n",
       "      <th>receiving date</th>\n",
       "      <th>evaluation</th>\n",
       "    </tr>\n",
       "  </thead>\n",
       "  <tbody>\n",
       "    <tr>\n",
       "      <th>德运奶粉</th>\n",
       "      <td>22.4</td>\n",
       "      <td>1</td>\n",
       "      <td>1115</td>\n",
       "      <td>5</td>\n",
       "    </tr>\n",
       "    <tr>\n",
       "      <th>高数辅导书</th>\n",
       "      <td>73.5</td>\n",
       "      <td>2</td>\n",
       "      <td>1117</td>\n",
       "      <td>4</td>\n",
       "    </tr>\n",
       "    <tr>\n",
       "      <th>elta洗面奶</th>\n",
       "      <td>234.0</td>\n",
       "      <td>1</td>\n",
       "      <td>1119</td>\n",
       "      <td>5</td>\n",
       "    </tr>\n",
       "    <tr>\n",
       "      <th>钙奶饼干</th>\n",
       "      <td>50.8</td>\n",
       "      <td>1</td>\n",
       "      <td>1115</td>\n",
       "      <td>5</td>\n",
       "    </tr>\n",
       "    <tr>\n",
       "      <th>百雀羚面膜</th>\n",
       "      <td>26.9</td>\n",
       "      <td>1</td>\n",
       "      <td>1116</td>\n",
       "      <td>5</td>\n",
       "    </tr>\n",
       "  </tbody>\n",
       "</table>\n",
       "</div>"
      ],
      "text/plain": [
       "         price  number  receiving date  evaluation\n",
       "德运奶粉      22.4       1            1115           5\n",
       "高数辅导书     73.5       2            1117           4\n",
       "elta洗面奶  234.0       1            1119           5\n",
       "钙奶饼干      50.8       1            1115           5\n",
       "百雀羚面膜     26.9       1            1116           5"
      ]
     },
     "execution_count": 29,
     "metadata": {},
     "output_type": "execute_result"
    }
   ],
   "source": [
    "frame2 = pd.DataFrame(data, columns=['price', 'number', 'receiving date', 'evaluation'],\n",
    "                      index=['德运奶粉', '高数辅导书', 'elta洗面奶', '钙奶饼干', '百雀羚面膜'])\n",
    "frame2"
   ]
  },
  {
   "cell_type": "markdown",
   "metadata": {},
   "source": [
    "#### 生成一个series，记录这些物品的快递费，然后加到价格上"
   ]
  },
  {
   "cell_type": "code",
   "execution_count": 30,
   "metadata": {
    "collapsed": false
   },
   "outputs": [
    {
     "data": {
      "text/plain": [
       "高数辅导书       22.4\n",
       "百雀羚面膜       73.5\n",
       "elta洗面奶    234.0\n",
       "德运奶粉        50.8\n",
       "钙奶饼干        26.9\n",
       "dtype: float64"
      ]
     },
     "execution_count": 30,
     "metadata": {},
     "output_type": "execute_result"
    }
   ],
   "source": [
    "s1 = pd.Series([22.4, 73.5, 234, 50.8, 26.9], index=['高数辅导书', '百雀羚面膜', 'elta洗面奶', '德运奶粉', '钙奶饼干'])\n",
    "s1\n",
    "\n",
    "s2 = pd.Series([0, 0, 0, 0, 0], index=['高数辅导书', '百雀羚面膜', 'elta洗面奶', '德运奶粉', '钙奶饼干'])\n",
    "s2\n",
    "\n",
    "s1 + s2"
   ]
  },
  {
   "cell_type": "markdown",
   "metadata": {},
   "source": [
    "#### 按照价格从高到低排序"
   ]
  },
  {
   "cell_type": "code",
   "execution_count": 31,
   "metadata": {
    "collapsed": false
   },
   "outputs": [
    {
     "data": {
      "text/html": [
       "<div>\n",
       "<table border=\"1\" class=\"dataframe\">\n",
       "  <thead>\n",
       "    <tr style=\"text-align: right;\">\n",
       "      <th></th>\n",
       "      <th>price</th>\n",
       "      <th>number</th>\n",
       "      <th>receiving date</th>\n",
       "      <th>evaluation</th>\n",
       "    </tr>\n",
       "  </thead>\n",
       "  <tbody>\n",
       "    <tr>\n",
       "      <th>elta洗面奶</th>\n",
       "      <td>234.0</td>\n",
       "      <td>1</td>\n",
       "      <td>1119</td>\n",
       "      <td>5</td>\n",
       "    </tr>\n",
       "    <tr>\n",
       "      <th>百雀羚面膜</th>\n",
       "      <td>73.5</td>\n",
       "      <td>2</td>\n",
       "      <td>1117</td>\n",
       "      <td>4</td>\n",
       "    </tr>\n",
       "    <tr>\n",
       "      <th>德运奶粉</th>\n",
       "      <td>50.8</td>\n",
       "      <td>1</td>\n",
       "      <td>1115</td>\n",
       "      <td>5</td>\n",
       "    </tr>\n",
       "    <tr>\n",
       "      <th>钙奶饼干</th>\n",
       "      <td>26.9</td>\n",
       "      <td>1</td>\n",
       "      <td>1116</td>\n",
       "      <td>5</td>\n",
       "    </tr>\n",
       "    <tr>\n",
       "      <th>高数辅导书</th>\n",
       "      <td>22.4</td>\n",
       "      <td>1</td>\n",
       "      <td>1115</td>\n",
       "      <td>5</td>\n",
       "    </tr>\n",
       "  </tbody>\n",
       "</table>\n",
       "</div>"
      ],
      "text/plain": [
       "         price  number  receiving date  evaluation\n",
       "elta洗面奶  234.0       1            1119           5\n",
       "百雀羚面膜     73.5       2            1117           4\n",
       "德运奶粉      50.8       1            1115           5\n",
       "钙奶饼干      26.9       1            1116           5\n",
       "高数辅导书     22.4       1            1115           5"
      ]
     },
     "execution_count": 31,
     "metadata": {},
     "output_type": "execute_result"
    }
   ],
   "source": [
    "frame.sort_values(by='price', ascending=False)"
   ]
  },
  {
   "cell_type": "markdown",
   "metadata": {},
   "source": [
    "#### 按照收到的时间从低到高排序"
   ]
  },
  {
   "cell_type": "code",
   "execution_count": 32,
   "metadata": {
    "collapsed": false
   },
   "outputs": [
    {
     "data": {
      "text/html": [
       "<div>\n",
       "<table border=\"1\" class=\"dataframe\">\n",
       "  <thead>\n",
       "    <tr style=\"text-align: right;\">\n",
       "      <th></th>\n",
       "      <th>price</th>\n",
       "      <th>number</th>\n",
       "      <th>receiving date</th>\n",
       "      <th>evaluation</th>\n",
       "    </tr>\n",
       "  </thead>\n",
       "  <tbody>\n",
       "    <tr>\n",
       "      <th>高数辅导书</th>\n",
       "      <td>22.4</td>\n",
       "      <td>1</td>\n",
       "      <td>1115</td>\n",
       "      <td>5</td>\n",
       "    </tr>\n",
       "    <tr>\n",
       "      <th>德运奶粉</th>\n",
       "      <td>50.8</td>\n",
       "      <td>1</td>\n",
       "      <td>1115</td>\n",
       "      <td>5</td>\n",
       "    </tr>\n",
       "    <tr>\n",
       "      <th>钙奶饼干</th>\n",
       "      <td>26.9</td>\n",
       "      <td>1</td>\n",
       "      <td>1116</td>\n",
       "      <td>5</td>\n",
       "    </tr>\n",
       "    <tr>\n",
       "      <th>百雀羚面膜</th>\n",
       "      <td>73.5</td>\n",
       "      <td>2</td>\n",
       "      <td>1117</td>\n",
       "      <td>4</td>\n",
       "    </tr>\n",
       "    <tr>\n",
       "      <th>elta洗面奶</th>\n",
       "      <td>234.0</td>\n",
       "      <td>1</td>\n",
       "      <td>1119</td>\n",
       "      <td>5</td>\n",
       "    </tr>\n",
       "  </tbody>\n",
       "</table>\n",
       "</div>"
      ],
      "text/plain": [
       "         price  number  receiving date  evaluation\n",
       "高数辅导书     22.4       1            1115           5\n",
       "德运奶粉      50.8       1            1115           5\n",
       "钙奶饼干      26.9       1            1116           5\n",
       "百雀羚面膜     73.5       2            1117           4\n",
       "elta洗面奶  234.0       1            1119           5"
      ]
     },
     "execution_count": 32,
     "metadata": {},
     "output_type": "execute_result"
    }
   ],
   "source": [
    "frame.sort_values(by='receiving date', ascending=True)"
   ]
  },
  {
   "cell_type": "markdown",
   "metadata": {},
   "source": [
    "#### 得到各样物品评价的排名"
   ]
  },
  {
   "cell_type": "code",
   "execution_count": 35,
   "metadata": {
    "collapsed": false
   },
   "outputs": [
    {
     "data": {
      "text/html": [
       "<div>\n",
       "<table border=\"1\" class=\"dataframe\">\n",
       "  <thead>\n",
       "    <tr style=\"text-align: right;\">\n",
       "      <th></th>\n",
       "      <th>evaluation</th>\n",
       "    </tr>\n",
       "  </thead>\n",
       "  <tbody>\n",
       "    <tr>\n",
       "      <th>高数辅导书</th>\n",
       "      <td>2.0</td>\n",
       "    </tr>\n",
       "    <tr>\n",
       "      <th>百雀羚面膜</th>\n",
       "      <td>1.0</td>\n",
       "    </tr>\n",
       "    <tr>\n",
       "      <th>elta洗面奶</th>\n",
       "      <td>3.0</td>\n",
       "    </tr>\n",
       "    <tr>\n",
       "      <th>德运奶粉</th>\n",
       "      <td>4.0</td>\n",
       "    </tr>\n",
       "    <tr>\n",
       "      <th>钙奶饼干</th>\n",
       "      <td>5.0</td>\n",
       "    </tr>\n",
       "  </tbody>\n",
       "</table>\n",
       "</div>"
      ],
      "text/plain": [
       "         evaluation\n",
       "高数辅导书           2.0\n",
       "百雀羚面膜           1.0\n",
       "elta洗面奶         3.0\n",
       "德运奶粉            4.0\n",
       "钙奶饼干            5.0"
      ]
     },
     "execution_count": 35,
     "metadata": {},
     "output_type": "execute_result"
    }
   ],
   "source": [
    "data = {'evaluation': [5, 4, 5, 5, 5]}\n",
    "\n",
    "frame3 = pd.DataFrame(data, index=['高数辅导书', '百雀羚面膜', 'elta洗面奶', '德运奶粉', '钙奶饼干'])\n",
    "\n",
    "frame3.rank(method='first')"
   ]
  },
  {
   "cell_type": "markdown",
   "metadata": {},
   "source": [
    "#### 计算一下这些物品的总花费、最大值、最小值和平均值"
   ]
  },
  {
   "cell_type": "code",
   "execution_count": 40,
   "metadata": {
    "collapsed": false
   },
   "outputs": [
    {
     "data": {
      "text/plain": [
       "price    407.6\n",
       "dtype: float64"
      ]
     },
     "execution_count": 40,
     "metadata": {},
     "output_type": "execute_result"
    }
   ],
   "source": [
    "data = {'price': [22.4, 73.5, 234, 50.8, 26.9]}\n",
    "\n",
    "frame4 = pd.DataFrame(data, index=['高数辅导书', '百雀羚面膜', 'elta洗面奶', '德运奶粉', '钙奶饼干'])\n",
    "\n",
    "frame4.sum()"
   ]
  },
  {
   "cell_type": "code",
   "execution_count": 44,
   "metadata": {
    "collapsed": false
   },
   "outputs": [
    {
     "data": {
      "text/plain": [
       "price    22.4\n",
       "dtype: float64"
      ]
     },
     "execution_count": 44,
     "metadata": {},
     "output_type": "execute_result"
    }
   ],
   "source": [
    "frame4.min()"
   ]
  },
  {
   "cell_type": "code",
   "execution_count": 45,
   "metadata": {
    "collapsed": false
   },
   "outputs": [
    {
     "data": {
      "text/plain": [
       "price    234.0\n",
       "dtype: float64"
      ]
     },
     "execution_count": 45,
     "metadata": {},
     "output_type": "execute_result"
    }
   ],
   "source": [
    "frame4.max()"
   ]
  },
  {
   "cell_type": "code",
   "execution_count": 46,
   "metadata": {
    "collapsed": false
   },
   "outputs": [
    {
     "data": {
      "text/plain": [
       "price    81.52\n",
       "dtype: float64"
      ]
     },
     "execution_count": 46,
     "metadata": {},
     "output_type": "execute_result"
    }
   ],
   "source": [
    "frame4.mean()"
   ]
  }
 ],
 "metadata": {
  "kernelspec": {
   "display_name": "Python 3",
   "language": "python",
   "name": "python3"
  },
  "language_info": {
   "codemirror_mode": {
    "name": "ipython",
    "version": 3
   },
   "file_extension": ".py",
   "mimetype": "text/x-python",
   "name": "python",
   "nbconvert_exporter": "python",
   "pygments_lexer": "ipython3",
   "version": "3.6.0"
  },
  "toc": {
   "base_numbering": 1,
   "nav_menu": {},
   "number_sections": true,
   "sideBar": true,
   "skip_h1_title": false,
   "title_cell": "Table of Contents",
   "title_sidebar": "Contents",
   "toc_cell": false,
   "toc_position": {},
   "toc_section_display": true,
   "toc_window_display": false
  }
 },
 "nbformat": 4,
 "nbformat_minor": 2
}
