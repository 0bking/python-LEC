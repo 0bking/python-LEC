{
 "cells": [
  {
   "cell_type": "markdown",
   "metadata": {},
   "source": [
    "## 第五次练习"
   ]
  },
  {
   "cell_type": "markdown",
   "metadata": {},
   "source": [
    "+ 请务必交到exer5文件夹下，**谢绝交到master下**\n",
    "+ 请不要改动任何文件，拜托\n",
    "+ 请在11月7日前提交。"
   ]
  },
  {
   "cell_type": "markdown",
   "metadata": {},
   "source": [
    "请写一下姓名和学号：\n",
    "+ 姓名  王惠民\n",
    "+ 学号  0165192"
   ]
  },
  {
   "cell_type": "markdown",
   "metadata": {},
   "source": [
    "#### 题目一、贫困户模型\n",
    "+ 创建一个类，包含贫困户的义务教育保障、住房安全、饮水安全、肉蛋奶豆的四个属性\n",
    "+ 包含一个是否贫困的预测，如果四个属性有两个以上没有保障（>2)则输出为贫困户\n",
    "+ 对贫困户，采取相应措施（输入参数）对其进行帮扶，使其脱贫\n",
    "+ 至少生成三个实例\n"
   ]
  },
  {
   "cell_type": "code",
   "execution_count": 1,
   "metadata": {
    "collapsed": false
   },
   "outputs": [],
   "source": [
    "class poorstate(object):\n",
    "    def __init__(self,x1,x2,x3,x4): \n",
    "        self.educ = x1\n",
    "        self.house = x2\n",
    "        self.water = x3\n",
    "        self.food = x4\n",
    "    \n",
    "    def poor(self):\n",
    "        count = self.educ + self.house + self.water + self.food\n",
    "        count = int(count)\n",
    "        if count < 2:\n",
    "            print(\"是贫困户\")\n",
    "        else:\n",
    "            print(\"不是贫困户\")\n",
    "        \n",
    "        \n",
    "    def educ_assistant(self,school):\n",
    "        if school > 3:\n",
    "            self.educ = 1\n",
    "        else:\n",
    "            self.educ = self.educ\n",
    "            \n",
    "    def house_assistant(self,year):\n",
    "        if year > 30:\n",
    "            self.house = 1\n",
    "        else:\n",
    "            self.house = self.house\n",
    "    \n",
    "    def water_assistant(self,purified):\n",
    "        if purified > 10:\n",
    "            self.water = 1\n",
    "        else:\n",
    "            self.water = self.water\n",
    "            \n",
    "    def food_support(self,kind):\n",
    "        if kind > 4:\n",
    "            self.food = 1\n",
    "        else:\n",
    "            self.food = self.food"
   ]
  },
  {
   "cell_type": "code",
   "execution_count": 5,
   "metadata": {
    "collapsed": false
   },
   "outputs": [
    {
     "name": "stdout",
     "output_type": "stream",
     "text": [
      "是贫困户\n",
      "帮助贫困户脱贫\n",
      "不是贫困户\n",
      "\n",
      "\n",
      "不是贫困户\n",
      "帮助贫困户脱贫\n",
      "\n",
      "\n",
      "是贫困户\n",
      "帮助贫困户脱贫\n",
      "不是贫困户\n"
     ]
    }
   ],
   "source": [
    "villager1 = poorstate(0,1,0,0)\n",
    "villager1.poor()\n",
    "print(\"帮助贫困户脱贫\")\n",
    "villager1.educ_assistant(school = 6)\n",
    "villager1.poor()\n",
    "print('\\n')   \n",
    "villager2 = poorstate(0,1,1,0)\n",
    "villager2.poor()\n",
    "print(\"帮助贫困户脱贫\")\n",
    "print('\\n') \n",
    "villager3 = poorstate(0,0,0,1)\n",
    "villager3.poor()\n",
    "print(\"帮助贫困户脱贫\")\n",
    "villager3.water_assistant(purified = 15)\n",
    "villager3.poor()\n",
    "    \n",
    "       "
   ]
  },
  {
   "cell_type": "markdown",
   "metadata": {},
   "source": [
    "#### 题目二: 学生信息\n",
    "+ 创建一个类，包含姓名、分数、睡眠时间三个属性\n",
    "+ 包含一个胖瘦的预测，如果分数>90，且睡眠时间少于6小时，输出“BMI可能偏大”，否则输出“体重正常”\n",
    "+ 为使得标准（90分、6小时）可以调整，标准应设为输入的参数\n",
    "+ 至少生成三个实例"
   ]
  },
  {
   "cell_type": "code",
   "execution_count": 11,
   "metadata": {
    "collapsed": true
   },
   "outputs": [],
   "source": [
    "class Student(object):\n",
    " \n",
    "  def __init__(self, name, score,sleep_time):\n",
    "    self.name = name\n",
    "    self.score = score\n",
    "    self.sleep_time = sleep_time\n",
    "  \n",
    "  def predict(self,score_std,sleep_time_std):\n",
    "        if (self.score > score_std) and (self.sleep_time < sleep_time_std):\n",
    "            print(\"BMI可能偏大\")\n",
    "        else:\n",
    "            print(\"体重正常\")\n"
   ]
  },
  {
   "cell_type": "code",
   "execution_count": 19,
   "metadata": {
    "collapsed": false
   },
   "outputs": [
    {
     "name": "stdout",
     "output_type": "stream",
     "text": [
      "体重正常\n",
      "体重正常\n",
      "体重正常\n"
     ]
    }
   ],
   "source": [
    "stu_1 = Student(\"张辰馨\",59,15)\n",
    "stu_1.predict(90,6)\n",
    "\n",
    "stu_2 = Student(\"姚迈\",88,10)\n",
    "stu_2.predict(90,6)\n",
    "\n",
    "stu_3 = Student(\"文华虎\",85,8)\n",
    "stu_3.predict(90,6)\n",
    "\n"
   ]
  },
  {
   "cell_type": "markdown",
   "metadata": {},
   "source": [
    "#### 题目三：“跑步社”成员类\n",
    "+ 创建一个“跑步社”成员类，以学生信息类为父类\n",
    "+ 添加一个属性为跑步\n",
    "+ 如果跑步时间大于30分钟，如果之前预测为“BMI可能偏大”，则输出为“趋向正常”\n",
    "+ 至少生成三个实例"
   ]
  },
  {
   "cell_type": "code",
   "execution_count": 23,
   "metadata": {
    "collapsed": false
   },
   "outputs": [
    {
     "name": "stdout",
     "output_type": "stream",
     "text": [
      "体重正常\n",
      "\n",
      "\n",
      "体重正常\n",
      "\n",
      "\n",
      "体重正常\n"
     ]
    }
   ],
   "source": [
    "class run_society(Student):\n",
    "    \n",
    "    def __init__(self, name, score,sleep_time,run_time):\n",
    "        super().__init__(name, score,sleep_time)                    \n",
    "        self.run_time = run_time\n",
    "    \n",
    "    def predict(self,score_std,sleep_time_std):\n",
    "        if (self.score > score_std) and (self.sleep_time < sleep_time_std) :\n",
    "            print(\"BMI可能偏大\")\n",
    "            if self.run_time > 30:\n",
    "                print(\"趋向正常\")\n",
    "        else:\n",
    "            print(\"体重正常\")\n",
    "            \n",
    "stu_1 = run_society(\"张辰睿\",59,9,50) \n",
    "stu_1.predict(90,6)\n",
    "print(\"\\n\")\n",
    "stu_2 = run_society(\"姚迈\",88,10,40)\n",
    "stu_2.predict(90,6)\n",
    "print(\"\\n\")\n",
    "stu_2 = run_society(\"文华虎\",85,8,10)\n",
    "stu_2.predict(90,6)"
   ]
  },
  {
   "cell_type": "code",
   "execution_count": null,
   "metadata": {
    "collapsed": true
   },
   "outputs": [],
   "source": []
  }
 ],
 "metadata": {
  "kernelspec": {
   "display_name": "Python 3",
   "language": "python",
   "name": "python3"
  },
  "language_info": {
   "codemirror_mode": {
    "name": "ipython",
    "version": 3
   },
   "file_extension": ".py",
   "mimetype": "text/x-python",
   "name": "python",
   "nbconvert_exporter": "python",
   "pygments_lexer": "ipython3",
   "version": "3.6.0"
  }
 },
 "nbformat": 4,
 "nbformat_minor": 2
}
