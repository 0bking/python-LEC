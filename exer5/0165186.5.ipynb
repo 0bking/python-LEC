{
 "cells": [
  {
   "cell_type": "markdown",
   "metadata": {},
   "source": [
    "## 第五次练习"
   ]
  },
  {
   "cell_type": "markdown",
   "metadata": {},
   "source": [
    "+ 请务必交到exer5文件夹下，**谢绝交到master下**\n",
    "+ 请不要改动任何文件，拜托\n",
    "+ 请在11月7日前提交。"
   ]
  },
  {
   "cell_type": "markdown",
   "metadata": {},
   "source": [
    "请写一下姓名和学号：\n",
    "+ 姓名  姚迈f\n",
    "+ 学号 0165186"
   ]
  },
  {
   "cell_type": "markdown",
   "metadata": {},
   "source": [
    "#### 题目一、贫困户模型\n",
    "+ 创建一个类，包含贫困户的义务教育保障、住房安全、饮水安全、肉蛋奶豆的四个属性\n",
    "+ 包含一个是否贫困的预测，如果四个属性有两个以上没有保障（>2)则输出为贫困户\n",
    "+ 对贫困户，采取相应措施（输入参数）对其进行帮扶，使其脱贫\n",
    "+ 至少生成三个实例\n"
   ]
  },
  {
   "cell_type": "code",
   "execution_count": 52,
   "metadata": {
    "collapsed": false
   },
   "outputs": [
    {
     "name": "stdout",
     "output_type": "stream",
     "text": [
      "该户是贫困户\n",
      "需要教育扶贫\n",
      "需要帮扶住房安全\n",
      "需要提供安全用水\n",
      "需要提供肉蛋奶豆\n",
      "\n",
      "\n",
      "该户是贫困户\n",
      "需要教育扶贫\n",
      "需要帮扶住房安全\n",
      "需要提供肉蛋奶豆\n",
      "\n",
      "\n",
      "该户不是贫困户\n"
     ]
    }
   ],
   "source": [
    "class Family(object):\n",
    "    def __init__(self,a,b,c,d):\n",
    "        self.edu=a\n",
    "        self.home=b\n",
    "        self.water=c\n",
    "        self.food=d\n",
    "    def poor(self):\n",
    "        sum=0\n",
    "        if self.edu:\n",
    "            sum+=1\n",
    "        if self.home:\n",
    "            sum+=1\n",
    "        if self.water:\n",
    "            sum+=1\n",
    "        if self.food:\n",
    "            sum+=1\n",
    "        if sum<2:\n",
    "            print(\"该户是贫困户\")\n",
    "        else:\n",
    "            print(\"该户不是贫困户\")\n",
    "        if sum<2:\n",
    "            if self.edu==False:\n",
    "                print(\"需要教育扶贫\")\n",
    "            if self.home==False:\n",
    "                print(\"需要帮扶住房安全\")\n",
    "            if self.water==False:\n",
    "                print(\"需要提供安全用水\")\n",
    "            if self.food==False:\n",
    "                print(\"需要提供肉蛋奶豆\")\n",
    "family_1=Family(False,False,False,False)\n",
    "family_1.poor()\n",
    "print('\\n')\n",
    "family_2=Family(False,False,True,False)\n",
    "family_2.poor()\n",
    "print('\\n')\n",
    "family_3=Family(True,True,True,False)\n",
    "family_3.poor()"
   ]
  },
  {
   "cell_type": "markdown",
   "metadata": {},
   "source": [
    "#### 题目二: 学生信息\n",
    "+ 创建一个类，包含姓名、分数、睡眠时间三个属性\n",
    "+ 包含一个胖瘦的预测，如果分数>90，且睡眠时间少于6小时，输出“BMI可能偏大”，否则输出“体重正常”\n",
    "+ 为使得标准（90分、6小时）可以调整，标准应设为输入的参数\n",
    "+ 至少生成三个实例"
   ]
  },
  {
   "cell_type": "code",
   "execution_count": 2,
   "metadata": {
    "collapsed": false
   },
   "outputs": [
    {
     "name": "stdout",
     "output_type": "stream",
     "text": [
      "体重正常\n",
      "体重正常\n",
      "BMI可能偏大\n"
     ]
    }
   ],
   "source": [
    "class Student():\n",
    "    def __init__(self,name,score,sleep):\n",
    "        self.name=name\n",
    "        self.score=score\n",
    "        self.sleep=sleep\n",
    "    def get_std(self,x1,x2):\n",
    "        if self.score>=x1 and self.sleep<x2:\n",
    "            print(\"BMI可能偏大\")\n",
    "        else:\n",
    "            print(\"体重正常\")\n",
    "people_1=Student('ym',98,8)\n",
    "people_1.get_std(85,7)\n",
    "people_2=Student('jim',85,9)\n",
    "people_2.get_std(88,7)\n",
    "people_3=Student('smm',88,5)\n",
    "people_3.get_std(88,6)"
   ]
  },
  {
   "cell_type": "markdown",
   "metadata": {},
   "source": [
    "#### 题目三：“跑步社”成员类\n",
    "+ 创建一个“跑步社”成员类，以学生信息类为父类\n",
    "+ 添加一个属性为跑步\n",
    "+ 如果跑步时间大于30分钟，如果之前预测为“BMI可能偏大”，则输出为“趋向正常”\n",
    "+ 至少生成三个实例"
   ]
  },
  {
   "cell_type": "code",
   "execution_count": 12,
   "metadata": {
    "collapsed": false
   },
   "outputs": [
    {
     "name": "stdout",
     "output_type": "stream",
     "text": [
      "体重正常\n",
      "体重正常\n",
      "体重正常\n"
     ]
    }
   ],
   "source": [
    "class Running(Student):\n",
    "    def __init__(self,name,score,sleep,run):\n",
    "        super().__init__(name,score,sleep)\n",
    "        self.run=run\n",
    "    def get_std(self,x1,x2):\n",
    "        if self.score>=x1 and self.sleep<x2:\n",
    "            if run>30:\n",
    "                print(\"趋向正常\")\n",
    "            else:\n",
    "                print(\"BMI可能偏大\")\n",
    "        else:\n",
    "            print(\"体重正常\")\n",
    "peo_1=Running('tom',88,7,25)\n",
    "peo_1.get_std(90,6)\n",
    "peo_2=Running(\"tank\",88,6,18)\n",
    "peo_2.get_std(91,4)\n",
    "peo_3=Running('smith',85,6,22)\n",
    "peo_3.get_std(86,7)\n",
    "    "
   ]
  },
  {
   "cell_type": "code",
   "execution_count": null,
   "metadata": {
    "collapsed": true
   },
   "outputs": [],
   "source": []
  }
 ],
 "metadata": {
  "kernelspec": {
   "display_name": "Python 3",
   "language": "python",
   "name": "python3"
  },
  "language_info": {
   "codemirror_mode": {
    "name": "ipython",
    "version": 3
   },
   "file_extension": ".py",
   "mimetype": "text/x-python",
   "name": "python",
   "nbconvert_exporter": "python",
   "pygments_lexer": "ipython3",
   "version": "3.6.0"
  }
 },
 "nbformat": 4,
 "nbformat_minor": 2
}
