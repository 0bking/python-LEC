{
 "cells": [
  {
   "cell_type": "markdown",
   "metadata": {},
   "source": [
    "## 第五次练习"
   ]
  },
  {
   "cell_type": "markdown",
   "metadata": {},
   "source": [
    "+ 请务必交到exer5文件夹下，**谢绝交到master下**\n",
    "+ 请不要改动任何文件，拜托\n",
    "+ 请在11月7日前提交。"
   ]
  },
  {
   "cell_type": "markdown",
   "metadata": {},
   "source": [
    "请写一下姓名和学号：\n",
    "+ 姓名      马梓城\n",
    "+ 学号      0165265"
   ]
  },
  {
   "cell_type": "markdown",
   "metadata": {},
   "source": [
    "#### 题目一、贫困户模型\n",
    "+ 创建一个类，包含贫困户的义务教育保障、住房安全、饮水安全、肉蛋奶豆的四个属性\n",
    "+ 包含一个是否贫困的预测，如果四个属性有两个以上没有保障（>2)则输出为贫困户\n",
    "+ 对贫困户，采取相应措施（输入参数）对其进行帮扶，使其脱贫\n",
    "+ 至少生成三个实例\n"
   ]
  },
  {
   "cell_type": "code",
   "execution_count": 30,
   "metadata": {
    "collapsed": false
   },
   "outputs": [
    {
     "name": "stdout",
     "output_type": "stream",
     "text": [
      "\n",
      "Zhangsan为非贫困户\n",
      "\n",
      "Lisi为贫困户\n",
      "扶贫措施：\n",
      "加大教育扶持。\n",
      "完善社区水利系统。\n",
      "提供营养补助。\n",
      "\n",
      "Wangwu为贫困户\n",
      "扶贫措施：\n",
      "加大教育扶持。\n",
      "提供住房补助。\n",
      "完善社区水利系统。\n",
      "提供营养补助。\n"
     ]
    }
   ],
   "source": [
    "class condition(object):\n",
    "    def __init__(self,x1,x2,x3,x4,x5):\n",
    "        self.identity = x1\n",
    "        self.edu = x2\n",
    "        self.house = x3\n",
    "        self.water = x4\n",
    "        self.food = x5\n",
    "        \n",
    "    def if_poor(self):\n",
    "        count = 0\n",
    "        if self.edu == False:\n",
    "            count += 1\n",
    "        if self.house == False:\n",
    "            count += 1\n",
    "        if self.water == False:\n",
    "            count += 1\n",
    "        if self.food == False:\n",
    "            count += 1\n",
    "        if count > 2:\n",
    "            print(\"\\n%s为贫困户\" % self.identity)\n",
    "            print(\"扶贫措施：\")\n",
    "            self.solution()\n",
    "        else:\n",
    "            print(\"\\n%s为非贫困户\" % self.identity)\n",
    "            \n",
    "    def solution(self):\n",
    "        if self.edu == False:\n",
    "            print(\"加大教育扶持。\")\n",
    "        if self.house == False:\n",
    "            print(\"提供住房补助。\")\n",
    "        if self.water == False:\n",
    "            print(\"完善社区水利系统。\")\n",
    "        if self.food == False:\n",
    "            print(\"提供营养补助。\")\n",
    "            \n",
    "yixieren = []\n",
    "yixieren.append(condition('Zhangsan', True, True,False, False))\n",
    "yixieren.append(condition('Lisi', False, True, False, False))\n",
    "yixieren.append(condition('Wangwu', False, False, False, False))\n",
    "for index, someone in enumerate(yixieren):\n",
    "    someone.if_poor()"
   ]
  },
  {
   "cell_type": "markdown",
   "metadata": {},
   "source": [
    "#### 题目二: 学生信息\n",
    "+ 创建一个类，包含姓名、分数、睡眠时间三个属性\n",
    "+ 包含一个胖瘦的预测，如果分数>90，且睡眠时间少于6小时，输出“BMI可能偏大”，否则输出“体重正常”\n",
    "+ 为使得标准（90分、6小时）可以调整，标准应设为输入的参数\n",
    "+ 至少生成三个实例"
   ]
  },
  {
   "cell_type": "code",
   "execution_count": 28,
   "metadata": {
    "collapsed": false
   },
   "outputs": [
    {
     "name": "stdout",
     "output_type": "stream",
     "text": [
      "体重正常\n",
      "BMI可能偏大\n",
      "体重正常\n"
     ]
    }
   ],
   "source": [
    "class student(object):\n",
    " \n",
    "  def __init__(self, name, score, time_sleep):\n",
    "    self.name = name\n",
    "    self.score = score\n",
    "    self.time_sleep= time_sleep\n",
    "  \n",
    "  def get_standard(self,s0,t0):\n",
    "    if self.score >= s0 and self.time_sleep<t0:\n",
    "        print(\"BMI可能偏大\")\n",
    "    else:\n",
    "        print(\"体重正常\")\n",
    "\n",
    "stu_1=student('Zhangsan',86,8)\n",
    "stu_1.get_standard(80,8)\n",
    "\n",
    "stu_2=student('Lisi',92,5)\n",
    "stu_2.get_standard(85,7)\n",
    "\n",
    "stu_3=student('Wangwu',84,7)\n",
    "stu_3.get_standard(90,6)"
   ]
  },
  {
   "cell_type": "markdown",
   "metadata": {},
   "source": [
    "#### 题目三：“跑步社”成员类\n",
    "+ 创建一个“跑步社”成员类，以学生信息类为父类\n",
    "+ 添加一个属性为跑步\n",
    "+ 如果跑步时间大于30分钟，如果之前预测为“BMI可能偏大”，则输出为“趋向正常”\n",
    "+ 至少生成三个实例"
   ]
  },
  {
   "cell_type": "code",
   "execution_count": 29,
   "metadata": {
    "collapsed": false
   },
   "outputs": [
    {
     "name": "stdout",
     "output_type": "stream",
     "text": [
      "\n",
      "Zhangsan同学的BMI趋向正常！\n",
      "\n",
      "Lisi同学的BMI可能偏大！\n",
      "\n",
      "Wangwu同学的体重正常！\n"
     ]
    }
   ],
   "source": [
    "class student(object):\n",
    "    def __init__(self,name,score,time_sleep):\n",
    "        self.name = name\n",
    "        self.score = score\n",
    "        self.time_sleep = time_sleep\n",
    "        \n",
    "    def BMI(self):\n",
    "        if self.score > 90 and self.time_sleep < 6:\n",
    "            print(\"\\n%s的BMI可能偏大！\" % self.name)\n",
    "        else:\n",
    "            print(\"\\n%s的BMI趋向正常！\" % self.name)\n",
    "\n",
    "class running_ins(student):\n",
    "    def __init__(self,name,score,time_sleep,time_run):\n",
    "        super().__init__(name,score,time_sleep)\n",
    "        self.time_run = time_run\n",
    "        \n",
    "    def BMI_2(self):\n",
    "        if self.score > 90 and self.time_sleep < 6:\n",
    "            if self.time_run > 30:\n",
    "                print(\"\\n%s同学的BMI趋向正常！\" % self.name)\n",
    "            else:\n",
    "                print(\"\\n%s同学的BMI可能偏大！\" % self.name)\n",
    "        else:\n",
    "            print(\"\\n%s同学的体重正常！\" % self.name)\n",
    "                  \n",
    "students = []\n",
    "students.append(running_ins(\"Zhangsan\", 94, 5, 31))\n",
    "students.append(running_ins(\"Lisi\", 91, 5, 21))\n",
    "students.append(running_ins(\"Wangwu\", 95, 7, 30))\n",
    "for index, student in enumerate(students):\n",
    "    student.BMI_2()"
   ]
  }
 ],
 "metadata": {
  "kernelspec": {
   "display_name": "Python 3",
   "language": "python",
   "name": "python3"
  },
  "language_info": {
   "codemirror_mode": {
    "name": "ipython",
    "version": 3
   },
   "file_extension": ".py",
   "mimetype": "text/x-python",
   "name": "python",
   "nbconvert_exporter": "python",
   "pygments_lexer": "ipython3",
   "version": "3.6.0"
  }
 },
 "nbformat": 4,
 "nbformat_minor": 2
}
