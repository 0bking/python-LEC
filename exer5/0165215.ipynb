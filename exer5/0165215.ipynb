{
 "cells": [
  {
   "cell_type": "markdown",
   "metadata": {},
   "source": [
    "## 第五次练习"
   ]
  },
  {
   "cell_type": "markdown",
   "metadata": {},
   "source": [
    "+ 请务必交到exer5文件夹下，**谢绝交到master下**\n",
    "+ 请不要改动任何文件，拜托\n",
    "+ 请在11月7日前提交。"
   ]
  },
  {
   "cell_type": "markdown",
   "metadata": {},
   "source": [
    "请写一下姓名和学号：\n",
    "+ 姓名  徐子诚\n",
    "+ 学号  0165215"
   ]
  },
  {
   "cell_type": "markdown",
   "metadata": {},
   "source": [
    "#### 题目一、贫困户模型\n",
    "+ 创建一个类，包含贫困户的义务教育保障、住房安全、饮水安全、肉蛋奶豆的四个属性\n",
    "+ 包含一个是否贫困的预测，如果四个属性有两个以上没有保障（>2)则输出为贫困户\n",
    "+ 对贫困户，采取相应措施（输入参数）对其进行帮扶，使其脱贫\n",
    "+ 至少生成三个实例\n"
   ]
  },
  {
   "cell_type": "code",
   "execution_count": 7,
   "metadata": {
    "collapsed": false
   },
   "outputs": [
    {
     "name": "stdout",
     "output_type": "stream",
     "text": [
      "\n",
      "\t贫困户\n",
      "\n",
      "\t不是贫困户\n"
     ]
    }
   ],
   "source": [
    "class poor_man(object):\n",
    "    def __init__(self,educate,living,water,food):\n",
    "        self.educate=educate\n",
    "        self.living=living\n",
    "        self.water=water\n",
    "        self.food=food\n",
    "        \n",
    "    def assess_poor(man):\n",
    "        sums=0\n",
    "        if man.educate==False:\n",
    "            sums=sums+1\n",
    "        if man.living==False:\n",
    "            sums=sums+1\n",
    "        if man.water==False:\n",
    "            sums=sums+1\n",
    "        if man.food==False:\n",
    "            sums=sums+1\n",
    "        if sums>2:\n",
    "            print('\\n\\t贫困户')\n",
    "        else:\n",
    "            print('\\n\\t不是贫困户')\n",
    "            \n",
    "    def help_poor(man,a,b,c,d):\n",
    "        man.educate=a\n",
    "        man.living=b\n",
    "        man.water=c\n",
    "        man.food=d\n",
    "        \n",
    "A=poor_man(True,False,False,False)\n",
    "B=poor_man(False,True,True,False)\n",
    "C=poor_man(True,True,True,False)\n",
    "\n",
    "A.assess_poor()\n",
    "\n",
    "A.help_poor(True,True,True,False)\n",
    "A.assess_poor()"
   ]
  },
  {
   "cell_type": "markdown",
   "metadata": {},
   "source": [
    "#### 题目二: 学生信息\n",
    "+ 创建一个类，包含姓名、分数、睡眠时间三个属性\n",
    "+ 包含一个胖瘦的预测，如果分数>90，且睡眠时间少于6小时，输出“BMI可能偏大”，否则输出“体重正常”\n",
    "+ 为使得标准（90分、6小时）可以调整，标准应设为输入的参数\n",
    "+ 至少生成三个实例"
   ]
  },
  {
   "cell_type": "code",
   "execution_count": 15,
   "metadata": {
    "collapsed": false
   },
   "outputs": [
    {
     "name": "stdout",
     "output_type": "stream",
     "text": [
      "\n",
      "\tBMI可能偏大\n",
      "\n",
      "\t体重正常\n"
     ]
    }
   ],
   "source": [
    "class student(object):\n",
    "    def __init__(self,names,grade,sleep_time):\n",
    "        self.name=names\n",
    "        self.grade=grade\n",
    "        self.sleep_time=sleep_time\n",
    "        \n",
    "    def obesity(self):\n",
    "        if self.grade>90 and self.sleep_time<6:\n",
    "            print('\\n\\tBMI可能偏大')\n",
    "        else:\n",
    "            print('\\n\\t体重正常')\n",
    "            \n",
    "student_A=student('Mike',92,5)\n",
    "student_B=student('Jack',77,8)\n",
    "student_C=student('Katty',99,10)\n",
    "\n",
    "student_A.obesity()\n",
    "student_B.obesity()"
   ]
  },
  {
   "cell_type": "markdown",
   "metadata": {},
   "source": [
    "#### 题目三：“跑步社”成员类\n",
    "+ 创建一个“跑步社”成员类，以学生信息类为父类\n",
    "+ 添加一个属性为跑步\n",
    "+ 如果跑步时间大于30分钟，如果之前预测为“BMI可能偏大”，则输出为“趋向正常”\n",
    "+ 至少生成三个实例"
   ]
  },
  {
   "cell_type": "code",
   "execution_count": 21,
   "metadata": {
    "collapsed": false
   },
   "outputs": [
    {
     "name": "stdout",
     "output_type": "stream",
     "text": [
      "\n",
      "\tBMI可能偏大\n",
      "\t趋向正常\n",
      "\n",
      "\tBMI可能偏大\n",
      "\n",
      "\t体重正常\n"
     ]
    }
   ],
   "source": [
    "class running_society(student):\n",
    "    \n",
    "    def __init__(self,names,grade,sleep_time,running_times):\n",
    "        super().__init__(names,grade,sleep_time)\n",
    "        self.running_times=running_times\n",
    "        \n",
    "    def obesity(self):\n",
    "        if self.grade>90 and self.sleep_time<6:\n",
    "            print('\\n\\tBMI可能偏大')\n",
    "            if self.running_times>30:\n",
    "                print('\\t趋向正常')\n",
    "        else:\n",
    "            print('\\n\\t体重正常')    \n",
    "            \n",
    "student_A=running_society('Mike',92,5,40)\n",
    "student_B=running_society('Jack',92,5,29)\n",
    "student_C=running_society('Katty',99,10,10)\n",
    "\n",
    "student_A.obesity()\n",
    "student_B.obesity()\n",
    "student_C.obesity()"
   ]
  }
 ],
 "metadata": {
  "kernelspec": {
   "display_name": "Python 3",
   "language": "python",
   "name": "python3"
  },
  "language_info": {
   "codemirror_mode": {
    "name": "ipython",
    "version": 3
   },
   "file_extension": ".py",
   "mimetype": "text/x-python",
   "name": "python",
   "nbconvert_exporter": "python",
   "pygments_lexer": "ipython3",
   "version": "3.6.0"
  }
 },
 "nbformat": 4,
 "nbformat_minor": 2
}
