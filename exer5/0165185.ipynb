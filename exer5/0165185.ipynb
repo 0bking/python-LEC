{
 "cells": [
  {
   "cell_type": "markdown",
   "metadata": {},
   "source": [
    "## 第五次练习"
   ]
  },
  {
   "cell_type": "markdown",
   "metadata": {},
   "source": [
    "+ 请务必交到exer5文件夹下，**谢绝交到master下**\n",
    "+ 请不要改动任何文件，拜托\n",
    "+ 请在11月7日前提交。"
   ]
  },
  {
   "cell_type": "markdown",
   "metadata": {},
   "source": [
    "请写一下姓名和学号：\n",
    "+ 姓名  陆曼\n",
    "+ 学号  0165185"
   ]
  },
  {
   "cell_type": "markdown",
   "metadata": {},
   "source": [
    "#### 题目一、贫困户模型\n",
    "+ 创建一个类，包含贫困户的义务教育保障、住房安全、饮水安全、肉蛋奶豆的四个属性\n",
    "+ 包含一个是否贫困的预测，如果四个属性有两个以上没有保障（>2)则输出为贫困户\n",
    "+ 对贫困户，采取相应措施（输入参数）对其进行帮扶，使其脱贫\n",
    "+ 至少生成三个实例\n"
   ]
  },
  {
   "cell_type": "code",
   "execution_count": 21,
   "metadata": {
    "collapsed": false
   },
   "outputs": [
    {
     "name": "stdout",
     "output_type": "stream",
     "text": [
      "该户是贫困户\n",
      "需要提供教育扶贫\n",
      "需要提供住房服务\n",
      "需要提供安全用水\n",
      "需要提供肉蛋奶豆\n",
      "\n",
      "该户是贫困户\n",
      "需要提供住房服务\n",
      "需要提供安全用水\n",
      "需要提供肉蛋奶豆\n",
      "\n",
      "该户不是贫困户\n"
     ]
    }
   ],
   "source": [
    "class Home(object):\n",
    "    def __init__(self,x1,x2,x3,x4):\n",
    "        self.edu=x1\n",
    "        self.house=x2\n",
    "        self.water=x3\n",
    "        self.food=x4\n",
    "    def pinkun(self):\n",
    "        sum=0\n",
    "        if self.edu:\n",
    "            sum=sum+1\n",
    "        if self.house:\n",
    "            sum=sum+1\n",
    "        if self.water:\n",
    "            sum=sum+1\n",
    "        if self.food:\n",
    "            sum=sum+1\n",
    "        if sum<2:\n",
    "            print(\"该户是贫困户\")\n",
    "        else:\n",
    "            print(\"该户不是贫困户\")\n",
    "        if sum<2:\n",
    "            if self.edu==False:\n",
    "                print(\"需要提供教育扶贫\")\n",
    "            if self.house==False:\n",
    "                print(\"需要提供住房服务\")\n",
    "            if self.water==False:\n",
    "                print(\"需要提供安全用水\")\n",
    "            if self.food==False:\n",
    "                print(\"需要提供肉蛋奶豆\\n\")\n",
    "laowangjia=Home(False,False,False,False)\n",
    "laowangjia.pinkun()\n",
    "laowangjia=Home(True,False,False,False)\n",
    "laowangjia.pinkun()\n",
    "laowangjia=Home(True,True,False,False)\n",
    "laowangjia.pinkun()\n"
   ]
  },
  {
   "cell_type": "markdown",
   "metadata": {},
   "source": [
    "#### 题目二: 学生信息\n",
    "+ 创建一个类，包含姓名、分数、睡眠时间三个属性\n",
    "+ 包含一个胖瘦的预测，如果分数>90，且睡眠时间少于6小时，输出“BMI可能偏大”，否则输出“体重正常”\n",
    "+ 为使得标准（90分、6小时）可以调整，标准应设为输入的参数\n",
    "+ 至少生成三个实例"
   ]
  },
  {
   "cell_type": "code",
   "execution_count": 30,
   "metadata": {
    "collapsed": false
   },
   "outputs": [
    {
     "name": "stdout",
     "output_type": "stream",
     "text": [
      "BMI可能偏大\n",
      "\n",
      "体重正常\n",
      "\n",
      "体重正常\n",
      "\n"
     ]
    }
   ],
   "source": [
    "class Student(object):\n",
    " \n",
    "  def __init__(self, name, score,slptime):\n",
    "    self.name = name\n",
    "    self.score = score\n",
    "    self.slptime = slptime\n",
    "  \n",
    "  def infor(self):\n",
    "        if self.score>=90 and self.slptime<6:\n",
    "            print(\"BMI可能偏大\\n\")\n",
    "        else:\n",
    "            print(\"体重正常\\n\")\n",
    "xiaoming=Student('xiaoming',95,5)\n",
    "xiaoming.infor()\n",
    "xiaolv=Student('xiaolv',89,7)\n",
    "xiaolv.infor()\n",
    "xiaohong=Student('xiaohong',99,8)\n",
    "xiaohong.infor()"
   ]
  },
  {
   "cell_type": "markdown",
   "metadata": {},
   "source": [
    "#### 题目三：“跑步社”成员类\n",
    "+ 创建一个“跑步社”成员类，以学生信息类为父类\n",
    "+ 添加一个属性为跑步\n",
    "+ 如果跑步时间大于30分钟，如果之前预测为“BMI可能偏大”，则输出为“趋向正常”\n",
    "+ 至少生成三个实例"
   ]
  },
  {
   "cell_type": "code",
   "execution_count": 45,
   "metadata": {
    "collapsed": false
   },
   "outputs": [
    {
     "name": "stdout",
     "output_type": "stream",
     "text": [
      "趋向正常\n",
      "\n",
      "体重正常\n",
      "\n",
      "体重正常\n",
      "\n"
     ]
    }
   ],
   "source": [
    "class Run(Student):   \n",
    "    def __init__(self,name, score,slptime,runtime):\n",
    "        super().__init__(name, score,slptime)\n",
    "        self.runtime=runtime  \n",
    "    def infor(self):\n",
    "        if self.score>90 and self.slptime<6:\n",
    "            if self.runtime>30:\n",
    "                print('趋向正常\\n')\n",
    "            else:\n",
    "                print('BMI可能偏大\\n')\n",
    "        else:\n",
    "            print('体重正常\\n')     \n",
    "            \n",
    "xiaoming=Run('xiaoming',95,5,33)\n",
    "xiaoming.infor()\n",
    "xiaolv=Run('xiaolv',89,7,20)\n",
    "xiaolv.infor()\n",
    "xiaohong=Run('xiaohong',99,8,33)\n",
    "xiaohong.infor()"
   ]
  },
  {
   "cell_type": "code",
   "execution_count": null,
   "metadata": {
    "collapsed": true
   },
   "outputs": [],
   "source": []
  }
 ],
 "metadata": {
  "kernelspec": {
   "display_name": "Python 3",
   "language": "python",
   "name": "python3"
  },
  "language_info": {
   "codemirror_mode": {
    "name": "ipython",
    "version": 3
   },
   "file_extension": ".py",
   "mimetype": "text/x-python",
   "name": "python",
   "nbconvert_exporter": "python",
   "pygments_lexer": "ipython3",
   "version": "3.6.0"
  }
 },
 "nbformat": 4,
 "nbformat_minor": 2
}
