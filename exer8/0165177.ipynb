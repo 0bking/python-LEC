{
 "cells": [
  {
   "cell_type": "markdown",
   "metadata": {},
   "source": [
    "## 课程论文"
   ]
  },
  {
   "cell_type": "markdown",
   "metadata": {},
   "source": [
    " 请务必交到exer8文件夹下，**谢绝交到master下**\n",
    "+ 请不要改动任何文件，拜托\n",
    "+ 请于12月30日前先在github上提交\n",
    "+ 请在元旦后提交纸质版，将本页面文件先打印为pdf格式，再去打印店付印\n",
    "+ 请将论文模板和本页面文件一起装订，前者放上面，本页面文件放下面\n",
    "+ 纸质版提交时间和地点请留意微信群通知"
   ]
  },
  {
   "cell_type": "markdown",
   "metadata": {},
   "source": [
    "请写一下姓名和学号：\n",
    "+ 姓名  李志伟\n",
    "+ 学号  0165177"
   ]
  },
  {
   "cell_type": "markdown",
   "metadata": {},
   "source": [
    "### 样本均值分布的统计试验"
   ]
  },
  {
   "cell_type": "markdown",
   "metadata": {},
   "source": [
    "+ 请将CEPS.csv数据读入python\n",
    "+ 请从中随机抽取1000个数据\n",
    "+ 请根据问卷从数据中挑选两个连续型变量（likert量表可以近似看作连续变量）\n",
    "+ 计算这两个连续变量的均值\n",
    "+ 重复随机抽取—计算均值这个过程30次，得到两个变量30个样本均值\n",
    "+ 绘制这30个样本均值的直方图\n",
    "+ 计算均值的均值和标准误"
   ]
  },
  {
   "cell_type": "code",
   "execution_count": 1,
   "metadata": {},
   "outputs": [],
   "source": [
    "import csv\n",
    "import random\n",
    "import matplotlib.pyplot as plt\n",
    "import numpy as np\n",
    "import pandas as pd"
   ]
  },
  {
   "cell_type": "code",
   "execution_count": 2,
   "metadata": {},
   "outputs": [],
   "source": [
    "from matplotlib.ticker import MultipleLocator, FormatStrFormatter\n",
    "plt.rcParams['font.sans-serif']=['SimHei'] #用来正常显示中文标签\n",
    "plt.rcParams['axes.unicode_minus']=False #用来正常显示负号"
   ]
  },
  {
   "cell_type": "code",
   "execution_count": 3,
   "metadata": {},
   "outputs": [
    {
     "name": "stderr",
     "output_type": "stream",
     "text": [
      "C:\\Users\\27824\\Anaconda3\\lib\\site-packages\\IPython\\core\\interactiveshell.py:2785: DtypeWarning: Columns (20,22,23,25,28,29,39,49,74,124,125,126,127,128,129,130,131,138,140,141,147,160,161,162,165,170,174,175,176,177,179,180,181,182,183,184,188,191,194,195,196,199,221,222,223,224,251,252,254,289,290,294,295,296) have mixed types. Specify dtype option on import or set low_memory=False.\n",
      "  interactivity=interactivity, compiler=compiler, result=result)\n"
     ]
    },
    {
     "name": "stdout",
     "output_type": "stream",
     "text": [
      "[11.146845915201654, 10.915025906735751, 11.48041237113402, 11.273846153846154, 11.558307533539733, 11.206185567010309, 11.595701125895598, 11.164102564102564, 11.48360655737705, 10.259565667011376, 11.029804727646454, 10.531762295081966, 10.605997931747673, 11.3585291113381, 10.364572605561277, 11.29296066252588, 11.088174273858922, 11.617768595041323, 10.701646090534979, 11.403526970954356, 10.317901234567902, 10.375776397515528, 10.37321063394683, 11.455578512396695, 10.965732087227414, 10.893551688843399, 10.312631578947368, 11.561855670103093, 10.33230452674897, 11.07415036045314]\n",
      "[1578.1286549178628, 1674.3920219381866, 1603.089077908232, 1561.824429943379, 1640.7182384172104, 1643.4208687811795, 1601.9892793302047, 1566.9292112927571, 1533.0778582017942, 1567.1761460092237, 1601.3668256604792, 1570.8649338112511, 1616.3887774438876, 1645.1612981069575, 1657.6300839032265, 1607.2625147936028, 1635.708691628643, 1576.3790296365416, 1602.9519995701178, 1620.5918019362025, 1661.5401778162275, 1570.0554641186584, 1553.0919140579763, 1654.9156029007663, 1627.2174042358097, 1597.6680954979058, 1612.1770772351726, 1646.432274682744, 1628.7221139782264, 1591.9173950093177]\n"
     ]
    }
   ],
   "source": [
    "sentinels = {'sweight': [' '], 'c19':[' ']}\n",
    "df = pd.read_csv('CEPS.csv',encoding='gb2312', na_values=sentinels)\n",
    "\n",
    "\n",
    "blank_1 = []\n",
    "blank_2 = []\n",
    "for i in range(0,30):\n",
    "    sple=df.sample(n=1000)      #抽取1000个样本\n",
    "\n",
    "    dfg= pd.DataFrame({\n",
    "        'x1': sple.c19,\n",
    "        'x2': sple.sweight,\n",
    "    })\n",
    "    dfg=dfg.dropna(axis=0,how='any')#删除缺失值\n",
    "    \n",
    "    b=dfg[\"x1\"].tolist()\n",
    "    w=np.mean(b)\n",
    "    blank_1.append(w)       # c19的30个均值\n",
    "    \n",
    "    r=dfg['x2'].tolist()\n",
    "    q=np.mean(r)\n",
    "    blank_2.append(q)     # sweight的30个均值\n",
    "print(blank_1)\n",
    "print(blank_2)"
   ]
  },
  {
   "cell_type": "code",
   "execution_count": 4,
   "metadata": {},
   "outputs": [
    {
     "name": "stderr",
     "output_type": "stream",
     "text": [
      "C:\\Users\\27824\\Anaconda3\\lib\\site-packages\\matplotlib\\axes\\_axes.py:6462: UserWarning: The 'normed' kwarg is deprecated, and has been replaced by the 'density' kwarg.\n",
      "  warnings.warn(\"The 'normed' kwarg is deprecated, and has been \"\n"
     ]
    },
    {
     "data": {
      "image/png": "[encoded data removed]",
      "text/plain": [
       "<Figure size 432x288 with 1 Axes>"
      ]
     },
     "metadata": {},
     "output_type": "display_data"
    }
   ],
   "source": [
    "plt.hist(blank_1, bins=40, normed=0, facecolor=\"blue\", edgecolor=\"black\", alpha=0.7)\n",
    "# 显示横轴标签\n",
    "plt.xlabel(\"c19的均值\")\n",
    "# 显示纵轴标签\n",
    "plt.ylabel(\"频数\")\n",
    "\n",
    "plt.title(\"c19的30个样本均值的直方图\")\n",
    "plt.show()"
   ]
  },
  {
   "cell_type": "code",
   "execution_count": 5,
   "metadata": {},
   "outputs": [
    {
     "name": "stderr",
     "output_type": "stream",
     "text": [
      "C:\\Users\\27824\\Anaconda3\\lib\\site-packages\\matplotlib\\axes\\_axes.py:6462: UserWarning: The 'normed' kwarg is deprecated, and has been replaced by the 'density' kwarg.\n",
      "  warnings.warn(\"The 'normed' kwarg is deprecated, and has been \"\n"
     ]
    },
    {
     "data": {
      "image/png": "[encoded data removed]",
      "text/plain": [
       "<Figure size 432x288 with 1 Axes>"
      ]
     },
     "metadata": {},
     "output_type": "display_data"
    }
   ],
   "source": [
    "plt.hist(blank_2, bins=40, normed=0, facecolor=\"blue\", edgecolor=\"black\", alpha=0.7)\n",
    "# 显示横轴标签\n",
    "plt.xlabel(\"sweight的均值\")\n",
    "# 显示纵轴标签\n",
    "plt.ylabel(\"频数\")\n",
    "\n",
    "plt.title(\"sweight的30个样本均值的直方图\")\n",
    "plt.show()"
   ]
  },
  {
   "cell_type": "code",
   "execution_count": 6,
   "metadata": {},
   "outputs": [
    {
     "name": "stdout",
     "output_type": "stream",
     "text": [
      "变量c19的均值是： 10.991367843896516\n",
      "变量c19的方差是： 0.20641814363647695\n",
      "变量sweight的均值是： 1608.2929754254585\n",
      "变量sweight的方差是： 1275.0845369548138\n"
     ]
    }
   ],
   "source": [
    "#计算均值和方差\n",
    "sum = 0.0\n",
    "for value in blank_1:\n",
    "    sum += value\n",
    "mean_mean_1 = sum / 30\n",
    "var1_mean = np.var(blank_1)\n",
    "\n",
    "sum = 0.0\n",
    "for value in blank_2:\n",
    "    sum += value\n",
    "mean_mean_2 = sum / 30\n",
    "var2_mean = np.var(blank_2)\n",
    "\n",
    "print(\"变量c19的均值是：\", mean_mean_1)\n",
    "print(\"变量c19的方差是：\", var1_mean)\n",
    "\n",
    "print(\"变量sweight的均值是：\", mean_mean_2)\n",
    "print(\"变量sweight的方差是：\", var2_mean)\n",
    "\n"
   ]
  },
  {
   "cell_type": "markdown",
   "metadata": {},
   "source": [
    "### 回归分析"
   ]
  },
  {
   "cell_type": "markdown",
   "metadata": {},
   "source": [
    "+ 请从CEPS.csv数据里挑选若干变量建立回归方程，要求至少三个自变量\n",
    "    + 如，学生的学业成绩受认知水平、家庭收入的影响\n",
    "    + 考虑因变量和自变量间的实质关系，变量间关系应该是有意义\n",
    "    + 选择自变量时，注意变量的类型，如果是分类变量，需要进行编码\n",
    "+ 请报告回归方程的结果，需要包括：\n",
    "    + 模型拟合指标\n",
    "    + 模型的显著性检验结果\n",
    "    + 变量的系数\n",
    "    + 各系数的显著性检验结果\n",
    "    + 对模型结果的解释\n",
    "    "
   ]
  },
  {
   "cell_type": "code",
   "execution_count": 7,
   "metadata": {},
   "outputs": [],
   "source": [
    "%matplotlib inline\n",
    "import csv\n",
    "import matplotlib.pyplot as plt\n",
    "from itertools import islice\n",
    "import statsmodels.api as sm\n",
    "import statsmodels.formula.api as smf\n",
    "import pandas as pd\n",
    "import numpy as np"
   ]
  },
  {
   "cell_type": "code",
   "execution_count": 8,
   "metadata": {},
   "outputs": [
    {
     "name": "stdout",
     "output_type": "stream",
     "text": [
      "                            OLS Regression Results                            \n",
      "==============================================================================\n",
      "Dep. Variable:                      y   R-squared:                       0.862\n",
      "Model:                            OLS   Adj. R-squared:                  0.862\n",
      "Method:                 Least Squares   F-statistic:                     1506.\n",
      "Date:                Mon, 31 Dec 2018   Prob (F-statistic):               0.00\n",
      "Time:                        00:39:34   Log-Likelihood:                -1539.6\n",
      "No. Observations:                 967   AIC:                             3087.\n",
      "Df Residuals:                     963   BIC:                             3107.\n",
      "Df Model:                           4                                         \n",
      "Covariance Type:            nonrobust                                         \n",
      "==============================================================================\n",
      "                 coef    std err          t      P>|t|      [0.025      0.975]\n",
      "------------------------------------------------------------------------------\n",
      "x1             0.0694      0.027      2.593      0.010       0.017       0.122\n",
      "x2             0.0778      0.026      2.971      0.003       0.026       0.129\n",
      "x3             0.1848      0.034      5.361      0.000       0.117       0.252\n",
      "x4             0.7074      0.044     16.054      0.000       0.621       0.794\n",
      "==============================================================================\n",
      "Omnibus:                       21.503   Durbin-Watson:                   1.957\n",
      "Prob(Omnibus):                  0.000   Jarque-Bera (JB):               12.770\n",
      "Skew:                          -0.109   Prob(JB):                      0.00169\n",
      "Kurtosis:                       2.481   Cond. No.                         9.60\n",
      "==============================================================================\n",
      "\n",
      "Warnings:\n",
      "[1] Standard Errors assume that the covariance matrix of the errors is correctly specified.\n"
     ]
    },
    {
     "name": "stderr",
     "output_type": "stream",
     "text": [
      "C:\\Users\\27824\\Anaconda3\\lib\\site-packages\\IPython\\core\\interactiveshell.py:2785: DtypeWarning: Columns (20,22,23,25,28,29,39,49,124,125,126,127,128,129,130,131,138,141,147,160,161,162,165,170,174,175,176,177,179,180,181,182,183,184,188,191,195,196,199,221,222,223,224,251,252,254,289,290,294,295,296) have mixed types. Specify dtype option on import or set low_memory=False.\n",
      "  interactivity=interactivity, compiler=compiler, result=result)\n"
     ]
    }
   ],
   "source": [
    "#自变量：b06:母亲的教育水平  b07：父亲的教育水平   b12：家中藏书 b2301：对待作业考试的严厉程度\n",
    "#因变量：c12：目前成绩所处水平\n",
    "\n",
    "\n",
    "sentinels = {'c12': [' '], 'b06': [' '], 'b07': [' '] ,'b12': [' '],'b2301':[' ']}\n",
    "df = pd.read_csv('CEPS.csv',encoding='gb2312', na_values=sentinels)\n",
    "dfg = df.sample(n=1000)\n",
    "\n",
    "sple = pd.DataFrame({\n",
    "    'y': dfg.c12,\n",
    "    'x1': dfg.b06,\n",
    "    'x2': dfg.b07,\n",
    "    'x3': dfg.b12,\n",
    "    'x4': dfg.b2301\n",
    "})\n",
    "sple=sple.dropna(axis=0,how='any')#删除缺失值\n",
    "\n",
    "\n",
    "model_x = ['x1','x2','x3','x4']\n",
    "x = sple.loc[ :,model_x].values\n",
    "#构建因变量\n",
    "y = sple['y'].values\n",
    "\n",
    "\n",
    "\n",
    "model = sm.OLS(y, x) \n",
    "#拟合ols回归\n",
    "results = model.fit()\n",
    "results.params\n",
    "\n",
    "#输出结果\n",
    "print(results.summary())\n",
    "\n",
    "\n"
   ]
  },
  {
   "cell_type": "markdown",
   "metadata": {},
   "source": [
    "#1.模型拟合指标： 决定系数R-squared=0.862>0.8，说明模型的拟合效果较好。\n",
    "#2.模型的显著性检验结果:该模型的P值为小于0.05,所以在该模型中自变量有显著线性关系作用.\n",
    "#3、变量的系数： x1的系数为:0.0694, \n",
    "           x2的系数为:0.0778,\n",
    "           x3的系数为：0.1848, \n",
    "           x4的系数为：0.7074\n",
    "#4、各系数的显著性检验结果： 全部 p值<0.05，说明这4个自变量的效果都是显著的。\n",
    "#5、对模型结果的解释： 与现实生活经验相符，父母对孩子的作业考试的态度与孩子最后的学习成绩息息相关，而家中的氛围也有一定的关系。"
   ]
  },
  {
   "cell_type": "code",
   "execution_count": null,
   "metadata": {},
   "outputs": [],
   "source": []
  }
 ],
 "metadata": {
  "kernelspec": {
   "display_name": "Python 3",
   "language": "python",
   "name": "python3"
  },
  "language_info": {
   "codemirror_mode": {
    "name": "ipython",
    "version": 3
   },
   "file_extension": ".py",
   "mimetype": "text/x-python",
   "name": "python",
   "nbconvert_exporter": "python",
   "pygments_lexer": "ipython3",
   "version": "3.6.5"
  },
  "toc": {
   "base_numbering": 1,
   "nav_menu": {},
   "number_sections": true,
   "sideBar": true,
   "skip_h1_title": false,
   "title_cell": "Table of Contents",
   "title_sidebar": "Contents",
   "toc_cell": false,
   "toc_position": {},
   "toc_section_display": true,
   "toc_window_display": false
  }
 },
 "nbformat": 4,
 "nbformat_minor": 2
}
