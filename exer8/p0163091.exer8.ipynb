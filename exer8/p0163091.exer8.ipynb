{
 "cells": [
  {
   "cell_type": "code",
   "execution_count": 3,
   "metadata": {},
   "outputs": [
    {
     "name": "stderr",
     "output_type": "stream",
     "text": [
      "D:\\Anaconde2\\lib\\site-packages\\IPython\\core\\interactiveshell.py:2785: DtypeWarning: Columns (20,22,23,25,28,29,39,49,74,124,125,126,127,128,129,130,131,138,140,141,147,160,161,162,165,170,174,175,176,177,179,180,181,182,183,184,188,191,194,195,196,199,221,222,223,224,251,252,254,289,290,294,295,296) have mixed types. Specify dtype option on import or set low_memory=False.\n",
      "  interactivity=interactivity, compiler=compiler, result=result)\n"
     ]
    },
    {
     "name": "stdout",
     "output_type": "stream",
     "text": [
      "tr_chn    float64\n",
      "tr_mat    float64\n",
      "dtype: object\n",
      "tr_chn    82.781893\n",
      "tr_mat    77.407503\n",
      "dtype: float64\n",
      "[82.78189300411523, 82.86847492323439, 83.23223480947478, 84.26578411405295, 83.50205761316873, 82.55184804928132, 83.43319630010278, 83.15392456676861, 83.76332288401254, 82.87226847034339, 82.8774358974359, 83.61048879837067, 83.89054470709146, 84.021494370522, 82.85219164118247, 83.281217750258, 82.7774358974359, 81.77602040816326, 83.84378211716341, 83.43288934426229, 82.30020597322348, 82.86974358974359, 83.07668711656441, 83.1726618705036, 83.20712809917356, 82.9448717948718, 82.48899692937565, 82.56108829568788, 82.48309426229508, 83.29836233367452] [77.40750256937308, 77.90736949846469, 78.1742268041237, 79.02551020408163, 77.97687564234327, 78.78483606557377, 79.7934224049332, 77.88277268093782, 78.9592050209205, 76.85989583333334, 78.72997946611909, 78.57602040816326, 78.91064049586777, 79.24155578300922, 78.91530612244898, 78.33402275077559, 78.01846153846154, 75.84422880490297, 78.94393004115226, 78.49589743589743, 78.01337448559671, 78.72620266120778, 77.5159137577002, 79.17351129363449, 76.91847265221878, 78.56748466257669, 78.03435897435898, 77.50513874614595, 78.05936540429887, 80.01076923076923]\n",
      "     mean_chn   mean_mat\n",
      "0   82.781893  77.407503\n",
      "1   82.868475  77.907369\n",
      "2   83.232235  78.174227\n",
      "3   84.265784  79.025510\n",
      "4   83.502058  77.976876\n",
      "5   82.551848  78.784836\n",
      "6   83.433196  79.793422\n",
      "7   83.153925  77.882773\n",
      "8   83.763323  78.959205\n",
      "9   82.872268  76.859896\n",
      "10  82.877436  78.729979\n",
      "11  83.610489  78.576020\n",
      "12  83.890545  78.910640\n",
      "13  84.021494  79.241556\n",
      "14  82.852192  78.915306\n",
      "15  83.281218  78.334023\n",
      "16  82.777436  78.018462\n",
      "17  81.776020  75.844229\n",
      "18  83.843782  78.943930\n",
      "19  83.432889  78.495897\n",
      "20  82.300206  78.013374\n",
      "21  82.869744  78.726203\n",
      "22  83.076687  77.515914\n",
      "23  83.172662  79.173511\n",
      "24  83.207128  76.918473\n",
      "25  82.944872  78.567485\n",
      "26  82.488997  78.034359\n",
      "27  82.561088  77.505139\n",
      "28  82.483094  78.059365\n",
      "29  83.298362  80.010769\n",
      "        mean_chn   mean_mat\n",
      "count  30.000000  30.000000\n",
      "mean   83.106378  78.310208\n",
      "std     0.551338   0.881108\n",
      "min    81.776020  75.844229\n",
      "25%    82.799468  77.924746\n",
      "50%    83.115306  78.414960\n",
      "75%    83.433120  78.914140\n",
      "max    84.265784  80.010769\n"
     ]
    },
    {
     "data": {
      "image/png": "[encoded data removed]",
      "text/plain": [
       "<Figure size 432x288 with 1 Axes>"
      ]
     },
     "metadata": {},
     "output_type": "display_data"
    }
   ],
   "source": [
    "import pandas as pd\n",
    "import numpy as np\n",
    "import matplotlib.pyplot as plt\n",
    "import statsmodels.api as sm\n",
    "import statsmodels.formula.api as smf\n",
    "from pandas.core.frame import DataFrame\n",
    "ceps = pd.read_csv('CEPS.csv',encoding='gb2312')#读取CEPS\n",
    "#选取两个连续变量：未标准化的语文成绩和数学成绩\n",
    "ceps[['tr_chn','tr_mat']]= ceps[['tr_chn','tr_mat']].apply(pd.to_numeric,errors='coerce')#将object类型转换为数值型\n",
    "data = ceps.sample(n=1000,random_state=1)#随机抽取1000行,random_state是随机种子\n",
    "df = data[['tr_chn','tr_mat']]\n",
    "print(df.dtypes)#可以看到两个变量均转换为了float类型\n",
    "print(df.mean())#在随机抽取的1000个样本中，语文成绩均值82.781893，数学成绩均值77.407503\n",
    "\n",
    "a = []\n",
    "b = []\n",
    "for i in range(30):\n",
    "    data1 = ceps.sample(n=1000, random_state=1+i)\n",
    "    df1 = data1[['tr_chn']]\n",
    "    df2 = data1[['tr_mat']]\n",
    "    a.append(df1.mean()[-1])\n",
    "    b.append(df2.mean()[-1])\n",
    "print(a,b)#a,b中保存了两个变量的均值\n",
    "\n",
    "c = {\"mean_chn\" : a,\"mean_mat\" : b}\n",
    "data_mean=DataFrame(c)\n",
    "data_mean[['mean_chn','mean_mat']]= data_mean[['mean_chn','mean_mat']].apply(pd.to_numeric,errors='coerce')\n",
    "print(data_mean)\n",
    "print(data_mean.describe())#均值的均值和标准误结果\n",
    "plt.hist(a, bins='auto')\n",
    "#plt.hist(b, bins='auto')#分开运行得到两张直方图\n",
    "plt.show()"
   ]
  },
  {
   "cell_type": "code",
   "execution_count": 6,
   "metadata": {},
   "outputs": [
    {
     "name": "stdout",
     "output_type": "stream",
     "text": [
      "                            OLS Regression Results                            \n",
      "==============================================================================\n",
      "Dep. Variable:                 tr_mat   R-squared:                       0.225\n",
      "Model:                            OLS   Adj. R-squared:                  0.224\n",
      "Method:                 Least Squares   F-statistic:                     196.6\n",
      "Date:                Tue, 01 Jan 2019   Prob (F-statistic):               0.00\n",
      "Time:                        21:09:56   Log-Likelihood:                -90160.\n",
      "No. Observations:               18990   AIC:                         1.804e+05\n",
      "Df Residuals:                   18961   BIC:                         1.806e+05\n",
      "Df Model:                          28                                         \n",
      "Covariance Type:            nonrobust                                         \n",
      "==============================================================================\n",
      "                 coef    std err          t      P>|t|      [0.025      0.975]\n",
      "------------------------------------------------------------------------------\n",
      "Intercept     28.6703      1.778     16.121      0.000      25.184      32.156\n",
      "b18a[T.0]     -0.9856      4.170     -0.236      0.813      -9.159       7.188\n",
      "b18a[T.1]      2.2481      5.643      0.398      0.690      -8.812      13.308\n",
      "b18a[T.10]     6.9545      1.909      3.643      0.000       3.213      10.696\n",
      "b18a[T.11]    -0.4568      3.057     -0.149      0.881      -6.449       5.535\n",
      "b18a[T.12]     0.4524      3.139      0.144      0.885      -5.699       6.604\n",
      "b18a[T.13]   -10.9275      8.243     -1.326      0.185     -27.084       5.229\n",
      "b18a[T.14]   -11.0507     10.022     -1.103      0.270     -30.695       8.593\n",
      "b18a[T.15]   -17.4772     12.607     -1.386      0.166     -42.187       7.233\n",
      "b18a[T.16]    -8.8755     12.607     -0.704      0.481     -33.586      15.835\n",
      "b18a[T.17]     9.5500     27.980      0.341      0.733     -45.293      64.393\n",
      "b18a[T.18]   -18.8091      9.466     -1.987      0.047     -37.363      -0.256\n",
      "b18a[T.19]    -7.6703     16.216     -0.473      0.636     -39.455      24.114\n",
      "b18a[T.2]     -4.9253      5.463     -0.902      0.367     -15.633       5.782\n",
      "b18a[T.20]    14.4577      9.468      1.527      0.127      -4.100      33.016\n",
      "b18a[T.21]    -1.3379      8.243     -0.162      0.871     -17.494      14.818\n",
      "b18a[T.22]    13.0563      6.987      1.869      0.062      -0.639      26.752\n",
      "b18a[T.23]    12.5657     10.695      1.175      0.240      -8.397      33.529\n",
      "b18a[T.24]    -3.5798      8.996     -0.398      0.691     -21.213      14.054\n",
      "b18a[T.3]      3.3170      6.071      0.546      0.585      -8.583      15.217\n",
      "b18a[T.4]      8.3989      3.367      2.494      0.013       1.799      14.999\n",
      "b18a[T.41]    -9.3572     27.980     -0.334      0.738     -64.200      45.486\n",
      "b18a[T.5]     13.0395      2.121      6.147      0.000       8.882      17.197\n",
      "b18a[T.6]     18.3507      1.817     10.102      0.000      14.790      21.911\n",
      "b18a[T.7]     19.0790      1.776     10.742      0.000      15.598      22.560\n",
      "b18a[T.8]     15.8978      1.752      9.072      0.000      12.463      19.333\n",
      "b18a[T.9]     10.6811      1.786      5.980      0.000       7.180      14.182\n",
      "stcog          3.6696      0.055     67.313      0.000       3.563       3.776\n",
      "stsex         -3.5767      0.407     -8.785      0.000      -4.375      -2.779\n",
      "==============================================================================\n",
      "Omnibus:                      245.450   Durbin-Watson:                   1.093\n",
      "Prob(Omnibus):                  0.000   Jarque-Bera (JB):              422.453\n",
      "Skew:                           0.080   Prob(JB):                     1.84e-92\n",
      "Kurtosis:                       3.713   Cond. No.                     1.48e+03\n",
      "==============================================================================\n",
      "\n",
      "Warnings:\n",
      "[1] Standard Errors assume that the covariance matrix of the errors is correctly specified.\n",
      "[2] The condition number is large, 1.48e+03. This might indicate that there are\n",
      "strong multicollinearity or other numerical problems.\n"
     ]
    }
   ],
   "source": [
    "est=smf.ols(formula='tr_mat ~ stcog + stsex + b18a ',data=ceps).fit()\n",
    "print(est.summary())"
   ]
  },
  {
   "cell_type": "code",
   "execution_count": null,
   "metadata": {},
   "outputs": [],
   "source": []
  }
 ],
 "metadata": {
  "kernelspec": {
   "display_name": "Python 3",
   "language": "python",
   "name": "python3"
  },
  "language_info": {
   "codemirror_mode": {
    "name": "ipython",
    "version": 3
   },
   "file_extension": ".py",
   "mimetype": "text/x-python",
   "name": "python",
   "nbconvert_exporter": "python",
   "pygments_lexer": "ipython3",
   "version": "3.6.5"
  }
 },
 "nbformat": 4,
 "nbformat_minor": 2
}
