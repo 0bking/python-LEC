{
 "cells": [
  {
   "cell_type": "markdown",
   "metadata": {},
   "source": [
    "## 课程论文"
   ]
  },
  {
   "cell_type": "markdown",
   "metadata": {},
   "source": [
    " 请务必交到exer8文件夹下，**谢绝交到master下**\n",
    "+ 请不要改动任何文件，拜托\n",
    "+ 请于12月30日前先在github上提交\n",
    "+ 请在元旦后提交纸质版，将本页面文件先打印为pdf格式，再去打印店付印\n",
    "+ 请将论文模板和本页面文件一起装订，前者放上面，本页面文件放下面\n",
    "+ 纸质版提交时间和地点请留意微信群通知"
   ]
  },
  {
   "cell_type": "markdown",
   "metadata": {},
   "source": [
    "请写一下姓名和学号：\n",
    "+ 姓名  龚剑\n",
    "+ 学号  0163275"
   ]
  },
  {
   "cell_type": "markdown",
   "metadata": {},
   "source": [
    "### 样本均值分布的统计试验"
   ]
  },
  {
   "cell_type": "markdown",
   "metadata": {},
   "source": [
    "+ 请将CEPS.csv数据读入python\n",
    "+ 请从中随机抽取1000个数据\n",
    "+ 请根据问卷从数据中挑选两个连续型变量（likert量表可以近似看作连续变量）\n",
    "+ 计算这两个连续变量的均值\n",
    "+ 重复随机抽取—计算均值这个过程30次，得到两个变量30个样本均值\n",
    "+ 绘制这30个样本均值的直方图\n",
    "+ 计算均值的均值和标准误"
   ]
  },
  {
   "cell_type": "code",
   "execution_count": 37,
   "metadata": {},
   "outputs": [],
   "source": [
    "%matplotlib inline\n",
    "import pandas as pd\n",
    "import numpy as np\n",
    "import matplotlib.pyplot as plt\n",
    "import matplotlib\n",
    "plt.rcParams['font.sans-serif']=['SimHei'] \n",
    "plt.rcParams['axes.unicode_minus']=False "
   ]
  },
  {
   "cell_type": "code",
   "execution_count": 38,
   "metadata": {},
   "outputs": [
    {
     "name": "stderr",
     "output_type": "stream",
     "text": [
      "E:\\anaconda\\lib\\site-packages\\IPython\\core\\interactiveshell.py:2785: DtypeWarning: Columns (20,22,23,25,28,29,39,49,74,124,125,126,127,128,129,130,131,138,140,141,147,160,161,162,165,170,174,175,176,177,179,180,181,182,183,184,188,191,194,195,196,199,221,222,223,224,251,252,254,289,290,294,295,296) have mixed types. Specify dtype option on import or set low_memory=False.\n",
      "  interactivity=interactivity, compiler=compiler, result=result)\n"
     ]
    },
    {
     "data": {
      "text/html": [
       "<div>\n",
       "<style scoped>\n",
       "    .dataframe tbody tr th:only-of-type {\n",
       "        vertical-align: middle;\n",
       "    }\n",
       "\n",
       "    .dataframe tbody tr th {\n",
       "        vertical-align: top;\n",
       "    }\n",
       "\n",
       "    .dataframe thead th {\n",
       "        text-align: right;\n",
       "    }\n",
       "</style>\n",
       "<table border=\"1\" class=\"dataframe\">\n",
       "  <thead>\n",
       "    <tr style=\"text-align: right;\">\n",
       "      <th></th>\n",
       "      <th>ids</th>\n",
       "      <th>clsids</th>\n",
       "      <th>schids</th>\n",
       "      <th>ctyids</th>\n",
       "      <th>frame</th>\n",
       "      <th>subsample</th>\n",
       "      <th>sweight</th>\n",
       "      <th>fall</th>\n",
       "      <th>grade9</th>\n",
       "      <th>stcog</th>\n",
       "      <th>...</th>\n",
       "      <th>steco_3c</th>\n",
       "      <th>stonly</th>\n",
       "      <th>stsib</th>\n",
       "      <th>stsibrank</th>\n",
       "      <th>stmedu</th>\n",
       "      <th>stfedu</th>\n",
       "      <th>stprhedu</th>\n",
       "      <th>stfdrunk</th>\n",
       "      <th>stprfight</th>\n",
       "      <th>stprrel</th>\n",
       "    </tr>\n",
       "  </thead>\n",
       "  <tbody>\n",
       "    <tr>\n",
       "      <th>0</th>\n",
       "      <td>1</td>\n",
       "      <td>1</td>\n",
       "      <td>1</td>\n",
       "      <td>1</td>\n",
       "      <td>3</td>\n",
       "      <td>3</td>\n",
       "      <td>218.738892</td>\n",
       "      <td>0</td>\n",
       "      <td>0</td>\n",
       "      <td>11</td>\n",
       "      <td>...</td>\n",
       "      <td>3</td>\n",
       "      <td>1</td>\n",
       "      <td></td>\n",
       "      <td></td>\n",
       "      <td>3</td>\n",
       "      <td>3</td>\n",
       "      <td>3</td>\n",
       "      <td>1</td>\n",
       "      <td>1</td>\n",
       "      <td>2</td>\n",
       "    </tr>\n",
       "    <tr>\n",
       "      <th>1</th>\n",
       "      <td>2</td>\n",
       "      <td>1</td>\n",
       "      <td>1</td>\n",
       "      <td>1</td>\n",
       "      <td>3</td>\n",
       "      <td>3</td>\n",
       "      <td>216.518234</td>\n",
       "      <td>0</td>\n",
       "      <td>0</td>\n",
       "      <td>17</td>\n",
       "      <td>...</td>\n",
       "      <td>2</td>\n",
       "      <td>1</td>\n",
       "      <td></td>\n",
       "      <td></td>\n",
       "      <td>8</td>\n",
       "      <td>5</td>\n",
       "      <td>8</td>\n",
       "      <td>1</td>\n",
       "      <td>1</td>\n",
       "      <td>2</td>\n",
       "    </tr>\n",
       "    <tr>\n",
       "      <th>2</th>\n",
       "      <td>3</td>\n",
       "      <td>1</td>\n",
       "      <td>1</td>\n",
       "      <td>1</td>\n",
       "      <td>3</td>\n",
       "      <td>3</td>\n",
       "      <td>216.518234</td>\n",
       "      <td>0</td>\n",
       "      <td>0</td>\n",
       "      <td>12</td>\n",
       "      <td>...</td>\n",
       "      <td>2</td>\n",
       "      <td>2</td>\n",
       "      <td>1</td>\n",
       "      <td>3</td>\n",
       "      <td>3</td>\n",
       "      <td>3</td>\n",
       "      <td>3</td>\n",
       "      <td>1</td>\n",
       "      <td>1</td>\n",
       "      <td>1</td>\n",
       "    </tr>\n",
       "    <tr>\n",
       "      <th>3</th>\n",
       "      <td>4</td>\n",
       "      <td>1</td>\n",
       "      <td>1</td>\n",
       "      <td>1</td>\n",
       "      <td>3</td>\n",
       "      <td>3</td>\n",
       "      <td>218.738892</td>\n",
       "      <td>0</td>\n",
       "      <td>0</td>\n",
       "      <td>10</td>\n",
       "      <td>...</td>\n",
       "      <td>2</td>\n",
       "      <td>1</td>\n",
       "      <td></td>\n",
       "      <td></td>\n",
       "      <td>6</td>\n",
       "      <td>7</td>\n",
       "      <td>7</td>\n",
       "      <td>1</td>\n",
       "      <td>1</td>\n",
       "      <td>2</td>\n",
       "    </tr>\n",
       "    <tr>\n",
       "      <th>4</th>\n",
       "      <td>5</td>\n",
       "      <td>1</td>\n",
       "      <td>1</td>\n",
       "      <td>1</td>\n",
       "      <td>3</td>\n",
       "      <td>3</td>\n",
       "      <td>217.553040</td>\n",
       "      <td>0</td>\n",
       "      <td>0</td>\n",
       "      <td>10</td>\n",
       "      <td>...</td>\n",
       "      <td>3</td>\n",
       "      <td>1</td>\n",
       "      <td></td>\n",
       "      <td></td>\n",
       "      <td>7</td>\n",
       "      <td>8</td>\n",
       "      <td>8</td>\n",
       "      <td>1</td>\n",
       "      <td>1</td>\n",
       "      <td>2</td>\n",
       "    </tr>\n",
       "  </tbody>\n",
       "</table>\n",
       "<p>5 rows × 300 columns</p>\n",
       "</div>"
      ],
      "text/plain": [
       "   ids  clsids  schids  ctyids  frame  subsample     sweight  fall  grade9  \\\n",
       "0    1       1       1       1      3          3  218.738892     0       0   \n",
       "1    2       1       1       1      3          3  216.518234     0       0   \n",
       "2    3       1       1       1      3          3  216.518234     0       0   \n",
       "3    4       1       1       1      3          3  218.738892     0       0   \n",
       "4    5       1       1       1      3          3  217.553040     0       0   \n",
       "\n",
       "   stcog   ...    steco_3c stonly stsib stsibrank stmedu stfedu stprhedu  \\\n",
       "0     11   ...           3      1                      3      3        3   \n",
       "1     17   ...           2      1                      8      5        8   \n",
       "2     12   ...           2      2     1         3      3      3        3   \n",
       "3     10   ...           2      1                      6      7        7   \n",
       "4     10   ...           3      1                      7      8        8   \n",
       "\n",
       "  stfdrunk stprfight stprrel  \n",
       "0        1         1       2  \n",
       "1        1         1       2  \n",
       "2        1         1       1  \n",
       "3        1         1       2  \n",
       "4        1         1       2  \n",
       "\n",
       "[5 rows x 300 columns]"
      ]
     },
     "execution_count": 38,
     "metadata": {},
     "output_type": "execute_result"
    }
   ],
   "source": [
    "#导入数据\n",
    "sentinels = {'a13': [' '], 'a14': [' ']}\n",
    "df = pd.read_csv('CEPS.csv',encoding='gb2312', na_values=sentinels)\n",
    "df.head()"
   ]
  },
  {
   "cell_type": "code",
   "execution_count": 39,
   "metadata": {},
   "outputs": [
    {
     "name": "stderr",
     "output_type": "stream",
     "text": [
      "E:\\anaconda\\lib\\site-packages\\ipykernel_launcher.py:4: FutureWarning: convert_objects is deprecated.  To re-infer data dtypes for object columns, use Series.infer_objects()\n",
      "For all other conversions use the data-type specific converters pd.to_datetime, pd.to_timedelta and pd.to_numeric.\n",
      "  after removing the cwd from sys.path.\n",
      "E:\\anaconda\\lib\\site-packages\\ipykernel_launcher.py:5: FutureWarning: convert_objects is deprecated.  To re-infer data dtypes for object columns, use Series.infer_objects()\n",
      "For all other conversions use the data-type specific converters pd.to_datetime, pd.to_timedelta and pd.to_numeric.\n",
      "  \"\"\"\n"
     ]
    }
   ],
   "source": [
    "#随机抽取1000个数据\n",
    "x=df.sample(n=1000)\n",
    "#选取 b1702：外出看电影演出   a1207：对事物好奇\n",
    "x1=x['b1702'].convert_objects(convert_numeric=True)\n",
    "x2=x['a1207'].convert_objects(convert_numeric=True)\n"
   ]
  },
  {
   "cell_type": "code",
   "execution_count": 40,
   "metadata": {},
   "outputs": [
    {
     "data": {
      "text/plain": [
       "2.2546583850931676"
      ]
     },
     "execution_count": 40,
     "metadata": {},
     "output_type": "execute_result"
    }
   ],
   "source": [
    "x1.mean()#外出娱乐满意度均分"
   ]
  },
  {
   "cell_type": "code",
   "execution_count": 41,
   "metadata": {},
   "outputs": [
    {
     "data": {
      "text/plain": [
       "3.4362694300518135"
      ]
     },
     "execution_count": 41,
     "metadata": {},
     "output_type": "execute_result"
    }
   ],
   "source": [
    "x2.mean()#对事物好奇度均分"
   ]
  },
  {
   "cell_type": "code",
   "execution_count": 42,
   "metadata": {},
   "outputs": [
    {
     "name": "stderr",
     "output_type": "stream",
     "text": [
      "E:\\anaconda\\lib\\site-packages\\ipykernel_launcher.py:6: FutureWarning: convert_objects is deprecated.  To re-infer data dtypes for object columns, use Series.infer_objects()\n",
      "For all other conversions use the data-type specific converters pd.to_datetime, pd.to_timedelta and pd.to_numeric.\n",
      "  \n",
      "E:\\anaconda\\lib\\site-packages\\ipykernel_launcher.py:8: FutureWarning: convert_objects is deprecated.  To re-infer data dtypes for object columns, use Series.infer_objects()\n",
      "For all other conversions use the data-type specific converters pd.to_datetime, pd.to_timedelta and pd.to_numeric.\n",
      "  \n"
     ]
    },
    {
     "name": "stdout",
     "output_type": "stream",
     "text": [
      "{1: 2.304075235109718, 2: 2.3295218295218296, 3: 2.305699481865285, 4: 2.291021671826625, 5: 2.2938144329896906, 6: 2.2254697286012526, 7: 2.331256490134995, 8: 2.297071129707113, 9: 2.325773195876289, 10: 2.23744769874477, 11: 2.296794208893485, 12: 2.2533748701973, 13: 2.304123711340206, 14: 2.284375, 15: 2.2746113989637307, 16: 2.2133194588969825, 17: 2.2980269989615785, 18: 2.3645833333333335, 19: 2.326783867631851, 20: 2.2569948186528497, 21: 2.2857142857142856, 22: 2.329533678756477, 23: 2.280701754385965, 24: 2.3112033195020745, 25: 2.322884012539185, 26: 2.30625, 27: 2.288259958071279, 28: 2.2668743509865004, 29: 2.332983193277311, 30: 2.2136222910216716}\n",
      "{1: 3.4921956295525494, 2: 3.493762993762994, 3: 3.471816283924843, 4: 3.5135135135135136, 5: 3.5, 6: 3.4905857740585775, 7: 3.530890052356021, 8: 3.4840370751802268, 9: 3.5207900207900207, 10: 3.514994829369183, 11: 3.4963503649635035, 12: 3.508316008316008, 13: 3.4969072164948454, 14: 3.4874213836477987, 15: 3.5159958720330238, 16: 3.446985446985447, 17: 3.5124740124740126, 18: 3.550573514077164, 19: 3.5175983436853, 20: 3.50103305785124, 21: 3.519052523171988, 22: 3.5052192066805845, 23: 3.502596053997923, 24: 3.473520249221184, 25: 3.4672216441207078, 26: 3.535490605427975, 27: 3.4552160168598527, 28: 3.5041753653444676, 29: 3.4858044164037856, 30: 3.4713839750260145}\n"
     ]
    }
   ],
   "source": [
    "count=0\n",
    "mean_b1702={}\n",
    "mean_a1207={}\n",
    "while count<30:#重复随机抽取—计算均值这个过程30次，得到两个变量30个样本均值\n",
    "    df_x=df.sample(n=1000)\n",
    "    mean_b1702_a=df_x['b1702'].convert_objects(convert_numeric=True).mean()\n",
    "    mean_b1702[count+1]= mean_b1702_a\n",
    "    mean_a1207_a=df_x['a1207'].convert_objects(convert_numeric=True).mean()\n",
    "    mean_a1207[count+1]= mean_a1207_a\n",
    "    count=count+1\n",
    "print(mean_b1702)\n",
    "print(mean_a1207)"
   ]
  },
  {
   "cell_type": "code",
   "execution_count": 43,
   "metadata": {
    "scrolled": true
   },
   "outputs": [
    {
     "data": {
      "image/png": "[encoded data removed]",
      "text/plain": [
       "<Figure size 432x288 with 1 Axes>"
      ]
     },
     "metadata": {
      "needs_background": "light"
     },
     "output_type": "display_data"
    }
   ],
   "source": [
    "ind=np.arange(len(mean_b1702.values()))\n",
    "width=0.5\n",
    "fig, ax = plt.subplots()\n",
    "rects1 = ax.bar(ind - width/2, mean_b1702.values(), width, \n",
    "                color='blue', label='外出娱乐样本均值')\n",
    "ax.set_ylabel('样本均值')\n",
    "ax.set_title('外出娱乐样本均值')\n",
    "ax.set_xticks(ind)\n",
    "ax.set_xticklabels(mean_b1702.keys())\n",
    "ax.legend()\n",
    "ax.set_ylim(1,4)\n",
    "\n",
    "def autolabel(rects, xpos='center'):\n",
    "    xpos = xpos.lower()  # normalize the case of the parameter\n",
    "    ha = {'center': 'center', 'right': 'left', 'left': 'right'}\n",
    "    offset = {'center': 1, 'right': 1, 'left': 1}  # x_txt = x + w*off\n",
    "\n",
    "    for rect in rects:\n",
    "        height = rect.get_height()\n",
    "        ax.text(rect.get_x() + rect.get_width()*offset[xpos], 2*height,\n",
    "                '{}'.format(height), ha=ha[xpos], va='bottom')\n",
    "plt.show()"
   ]
  },
  {
   "cell_type": "code",
   "execution_count": 44,
   "metadata": {},
   "outputs": [
    {
     "data": {
      "image/png": "[encoded data removed]",
      "text/plain": [
       "<Figure size 432x288 with 1 Axes>"
      ]
     },
     "metadata": {
      "needs_background": "light"
     },
     "output_type": "display_data"
    }
   ],
   "source": [
    "ind=np.arange(len(mean_a1207.values()))\n",
    "width=0.5\n",
    "fig, ax = plt.subplots()\n",
    "rects1 = ax.bar(ind - width/2, mean_a1207.values(), width, \n",
    "                color='pink', label='事物好奇度样本均值')\n",
    "ax.set_ylabel('样本均值')\n",
    "ax.set_title('事物好奇度样本均值')\n",
    "ax.set_xticks(ind)\n",
    "ax.set_xticklabels(mean_a1207.keys())\n",
    "ax.legend()\n",
    "ax.set_ylim(1,4)\n",
    "\n",
    "def autolabel(rects, xpos='center'):\n",
    "    xpos = xpos.lower()  # normalize the case of the parameter\n",
    "    ha = {'center': 'center', 'right': 'left', 'left': 'right'}\n",
    "    offset = {'center': 1, 'right': 1, 'left': 1}  # x_txt = x + w*off\n",
    "\n",
    "    for rect in rects:\n",
    "        height = rect.get_height()\n",
    "        ax.text(rect.get_x() + rect.get_width()*offset[xpos], 2*height,\n",
    "                '{}'.format(height), ha=ha[xpos], va='bottom')\n",
    "\n",
    "\n",
    "\n",
    "plt.show()"
   ]
  },
  {
   "cell_type": "code",
   "execution_count": 45,
   "metadata": {},
   "outputs": [
    {
     "name": "stdout",
     "output_type": "stream",
     "text": [
      "外出娱乐和事物好奇度的样本均值如下：\n",
      "\n",
      "外出娱乐     2.291739\n",
      "事物好奇度    3.498864\n",
      "dtype: float64\n",
      "\n",
      "身高和体重的样本标准误如下：\n",
      "\n",
      "外出娱乐     0.036848\n",
      "事物好奇度    0.023348\n",
      "dtype: float64\n"
     ]
    }
   ],
   "source": [
    "#将样本均值转为列表形式\n",
    "b1702=[]\n",
    "for i in mean_b1702.values():\n",
    "    b1702.append(i)\n",
    "    \n",
    "a1207=[]\n",
    "for i in mean_a1207.values():\n",
    "    a1207.append(i)\n",
    "    \n",
    "average={'外出娱乐':b1702,\n",
    "         '事物好奇度':a1207,\n",
    "        }\n",
    "frame = pd.DataFrame(average,index=mean_b1702.keys())\n",
    "\n",
    "#计算30个样本均值的均值和标准误\n",
    "print('外出娱乐和事物好奇度的样本均值如下：\\n')\n",
    "print(frame.mean())\n",
    "print('\\n身高和体重的样本标准误如下：\\n')\n",
    "print(frame.std())"
   ]
  },
  {
   "cell_type": "markdown",
   "metadata": {},
   "source": [
    "### 回归分析"
   ]
  },
  {
   "cell_type": "markdown",
   "metadata": {},
   "source": [
    "+ 请从CEPS.csv数据里挑选若干变量建立回归方程，要求至少三个自变量\n",
    "    + 如，学生的学业成绩受认知水平、家庭收入的影响\n",
    "    + 考虑因变量和自变量间的实质关系，变量间关系应该是有意义\n",
    "    + 选择自变量时，注意变量的类型，如果是分类变量，需要进行编码\n",
    "+ 请报告回归方程的结果，需要包括：\n",
    "    + 模型拟合指标\n",
    "    + 模型的显著性检验结果\n",
    "    + 变量的系数\n",
    "    + 各系数的显著性检验结果\n",
    "    + 对模型结果的解释\n",
    "    "
   ]
  },
  {
   "cell_type": "code",
   "execution_count": 46,
   "metadata": {},
   "outputs": [],
   "source": [
    "%matplotlib inline\n",
    "import statsmodels.api as sm\n",
    "import statsmodels.formula.api as smf\n",
    "import numpy as np\n",
    "import pandas as pd"
   ]
  },
  {
   "cell_type": "markdown",
   "metadata": {},
   "source": [
    "以c12:你在班上的成绩水平为因变量y\n",
    "考虑b12：家里书多吗，b13:你家网络条件，b30父母对你的学业成绩要求为三个自变量\n",
    "x1 x2 x3\n",
    "    "
   ]
  },
  {
   "cell_type": "code",
   "execution_count": 55,
   "metadata": {},
   "outputs": [
    {
     "name": "stderr",
     "output_type": "stream",
     "text": [
      "E:\\anaconda\\lib\\site-packages\\IPython\\core\\interactiveshell.py:2785: DtypeWarning: Columns (20,22,23,25,28,29,39,49,124,125,126,127,128,129,130,131,138,140,141,147,160,161,162,165,170,174,175,176,177,179,180,181,182,183,184,188,191,195,196,199,221,222,223,224,251,252,254,289,290,294,295,296) have mixed types. Specify dtype option on import or set low_memory=False.\n",
      "  interactivity=interactivity, compiler=compiler, result=result)\n"
     ]
    }
   ],
   "source": [
    "#导入数据\n",
    "sentinels = {'c12': [' '], 'b12': [' '], 'b13': [' '], 'b30': [' ']}\n",
    "df = pd.read_csv('CEPS.csv',encoding='gb2312', na_values=sentinels)\n",
    "df2=df.sample(n=1000)   #随机抽取1000个样本数据"
   ]
  },
  {
   "cell_type": "code",
   "execution_count": 56,
   "metadata": {},
   "outputs": [],
   "source": [
    "#单独取出因变量与自变量建立数据框\n",
    "data = pd.DataFrame({\n",
    "    'x1': df2.b12,\n",
    "    'x2': df2.b13,\n",
    "    'x3': df2.b30,\n",
    "    'y': df2.c12})\n",
    "\n",
    "data=data.dropna(axis=0,how='any')  #删除缺失值所在样本"
   ]
  },
  {
   "cell_type": "code",
   "execution_count": 57,
   "metadata": {},
   "outputs": [],
   "source": [
    "#构建自变量\n",
    "model_x= ['x1', 'x2','x3']\n",
    "X = data.loc[ :,model_x].values\n"
   ]
  },
  {
   "cell_type": "code",
   "execution_count": 58,
   "metadata": {},
   "outputs": [],
   "source": [
    "#构建因变量\n",
    "y=data['y'].values\n"
   ]
  },
  {
   "cell_type": "code",
   "execution_count": 59,
   "metadata": {},
   "outputs": [],
   "source": [
    "model = sm.OLS(y, X)    #拟合普通最小二乘回归\n",
    "results = model.fit()"
   ]
  },
  {
   "cell_type": "code",
   "execution_count": 60,
   "metadata": {},
   "outputs": [
    {
     "data": {
      "text/plain": [
       "array([0.73789087, 0.17338839, 0.10124675])"
      ]
     },
     "execution_count": 60,
     "metadata": {},
     "output_type": "execute_result"
    }
   ],
   "source": [
    "results.params  #各变量系数"
   ]
  },
  {
   "cell_type": "code",
   "execution_count": 61,
   "metadata": {},
   "outputs": [
    {
     "name": "stdout",
     "output_type": "stream",
     "text": [
      "                            OLS Regression Results                            \n",
      "==============================================================================\n",
      "Dep. Variable:                      y   R-squared:                       0.817\n",
      "Model:                            OLS   Adj. R-squared:                  0.817\n",
      "Method:                 Least Squares   F-statistic:                     1448.\n",
      "Date:                Sat, 29 Dec 2018   Prob (F-statistic):               0.00\n",
      "Time:                        20:47:58   Log-Likelihood:                -1705.4\n",
      "No. Observations:                 975   AIC:                             3417.\n",
      "Df Residuals:                     972   BIC:                             3431.\n",
      "Df Model:                           3                                         \n",
      "Covariance Type:            nonrobust                                         \n",
      "==============================================================================\n",
      "                 coef    std err          t      P>|t|      [0.025      0.975]\n",
      "------------------------------------------------------------------------------\n",
      "x1             0.7379      0.031     23.997      0.000       0.678       0.798\n",
      "x2             0.1734      0.053      3.265      0.001       0.069       0.278\n",
      "x3             0.1012      0.036      2.808      0.005       0.030       0.172\n",
      "==============================================================================\n",
      "Omnibus:                        1.463   Durbin-Watson:                   2.085\n",
      "Prob(Omnibus):                  0.481   Jarque-Bera (JB):                1.480\n",
      "Skew:                          -0.094   Prob(JB):                        0.477\n",
      "Kurtosis:                       2.968   Cond. No.                         5.38\n",
      "==============================================================================\n",
      "\n",
      "Warnings:\n",
      "[1] Standard Errors assume that the covariance matrix of the errors is correctly specified.\n"
     ]
    }
   ],
   "source": [
    "print(results.summary())"
   ]
  },
  {
   "cell_type": "markdown",
   "metadata": {},
   "source": [
    "1.模型拟合指标\n",
    "“你在班上的成绩”为因变量y\n",
    "b12：家里书多吗，b13:你家网络条件，b30父母对你的学业成绩要求分别为自变量x1,x2,x3。\n",
    "判定系数为0.811>0.8，说明模型解释的变差占总变差的比例较高，表明父母的教育水平和家庭经济条件对学生目前的成绩变量有较强的解释力，模型拟合结果较好。\n",
    "\n",
    "2.模型的显著性\n",
    "F检验的显著性<0.05，模型显著有效\n",
    "\n"
   ]
  },
  {
   "cell_type": "markdown",
   "metadata": {},
   "source": [
    "\n",
    "3.变量的系数\n",
    "x1的系数为0.6940，x2的系数为0.1033，x3的系数为0.2022，说明三个自变量与因变量都成正相关。\n",
    "\n",
    "4.各系数的显著性检验结果\n",
    "x1,x2,x3的p值均小于0.05，即这三个自变量都是统计显著的。\n",
    "\n",
    "5.对模型结果的解释\n",
    "y=0.6940x1+0.1033x2+0.2022x3\n",
    "表明家里书多吗，你家网络条件，父母对你的学业成绩要求都与成绩呈正相关，其中书多不多对成绩影响最大，而网络条件影响最小\n"
   ]
  },
  {
   "cell_type": "code",
   "execution_count": null,
   "metadata": {},
   "outputs": [],
   "source": []
  }
 ],
 "metadata": {
  "kernelspec": {
   "display_name": "Python 3",
   "language": "python",
   "name": "python3"
  },
  "language_info": {
   "codemirror_mode": {
    "name": "ipython",
    "version": 3
   },
   "file_extension": ".py",
   "mimetype": "text/x-python",
   "name": "python",
   "nbconvert_exporter": "python",
   "pygments_lexer": "ipython3",
   "version": "3.7.0"
  },
  "toc": {
   "base_numbering": 1,
   "nav_menu": {},
   "number_sections": true,
   "sideBar": true,
   "skip_h1_title": false,
   "title_cell": "Table of Contents",
   "title_sidebar": "Contents",
   "toc_cell": false,
   "toc_position": {},
   "toc_section_display": true,
   "toc_window_display": false
  }
 },
 "nbformat": 4,
 "nbformat_minor": 2
}
