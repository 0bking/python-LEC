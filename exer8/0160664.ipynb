{
 "cells": [
  {
   "cell_type": "markdown",
   "metadata": {},
   "source": [
    "## 课程论文"
   ]
  },
  {
   "cell_type": "markdown",
   "metadata": {},
   "source": [
    " 请务必交到exer8文件夹下，**谢绝交到master下**\n",
    "+ 请不要改动任何文件，拜托\n",
    "+ 请于12月30日前先在github上提交\n",
    "+ 请在元旦后提交纸质版，将本页面文件先打印为pdf格式，再去打印店付印\n",
    "+ 请将论文模板和本页面文件一起装订，前者放上面，本页面文件放下面\n",
    "+ 纸质版提交时间和地点请留意微信群通知"
   ]
  },
  {
   "cell_type": "markdown",
   "metadata": {},
   "source": [
    "请写一下姓名和学号：\n",
    "+ 姓名  张路平\n",
    "+ 学号  0160664"
   ]
  },
  {
   "cell_type": "markdown",
   "metadata": {},
   "source": [
    "### 样本均值分布的统计试验"
   ]
  },
  {
   "cell_type": "markdown",
   "metadata": {},
   "source": [
    "+ 请将CEPS.csv数据读入python\n",
    "+ 请从中随机抽取1000个数据\n",
    "+ 请根据问卷从数据中挑选两个连续型变量（likert量表可以近似看作连续变量）\n",
    "+ 计算这两个连续变量的均值\n",
    "+ 重复随机抽取—计算均值这个过程30次，得到两个变量30个样本均值\n",
    "+ 绘制这30个样本均值的直方图\n",
    "+ 计算均值的均值和标准误"
   ]
  },
  {
   "cell_type": "code",
   "execution_count": 7,
   "metadata": {},
   "outputs": [],
   "source": [
    "%matplotlib inline\n",
    "import numpy as np\n",
    "import pandas as pd\n",
    "import matplotlib.pyplot as plt\n",
    "import matplotlib\n",
    "plt.rcParams['font.sans-serif']=['SimHei'] #用来正常显示中文标签\n",
    "plt.rcParams['axes.unicode_minus']=False #用来正常显示负号"
   ]
  },
  {
   "cell_type": "code",
   "execution_count": 9,
   "metadata": {},
   "outputs": [
    {
     "name": "stderr",
     "output_type": "stream",
     "text": [
      "D:\\ProgramData\\Anaconda3\\lib\\site-packages\\IPython\\core\\interactiveshell.py:2785: DtypeWarning: Columns (20,22,23,25,28,29,39,49,74,124,125,126,127,128,129,130,131,138,140,141,147,160,161,162,170,174,175,176,177,179,180,181,182,183,184,188,191,194,195,196,199,221,222,223,224,251,252,254,289,290,294,295,296) have mixed types. Specify dtype option on import or set low_memory=False.\n",
      "  interactivity=interactivity, compiler=compiler, result=result)\n"
     ]
    }
   ],
   "source": [
    "sentinels = {'b2802': [' '], 'b18a': [' ']}\n",
    "df = pd.read_csv('G:/python/mydemo/CEPS.csv',encoding='gb2312', na_values=sentinels)\n",
    "data= df.sample(n=1000)#随机抽取1000个数据"
   ]
  },
  {
   "cell_type": "code",
   "execution_count": 15,
   "metadata": {},
   "outputs": [
    {
     "name": "stdout",
     "output_type": "stream",
     "text": [
      "和父母一起读书频率的平均值：3.25\n",
      "平均每天睡眠时间：7.80小时\n"
     ]
    }
   ],
   "source": [
    "read_book = data['b2802'].mean()\n",
    "sleep_hours = data['b18a'].mean()\n",
    "print('和父母一起读书频率的平均值：%.2f'%read_book)\n",
    "print('平均每天睡眠时间：%.2f小时'%sleep_hours)"
   ]
  },
  {
   "cell_type": "code",
   "execution_count": 49,
   "metadata": {},
   "outputs": [],
   "source": [
    "read = {}\n",
    "sleep = {}\n",
    "for i in range(30):\n",
    "    rand_data= df.sample(n=1000)\n",
    "    read[i] = rand_data['b2802'].mean()\n",
    "    sleep[i] = rand_data['b18a'].mean()"
   ]
  },
  {
   "cell_type": "code",
   "execution_count": 88,
   "metadata": {},
   "outputs": [
    {
     "data": {
      "text/plain": [
       "(-1, 30)"
      ]
     },
     "execution_count": 88,
     "metadata": {},
     "output_type": "execute_result"
    },
    {
     "data": {
      "image/png": "[encoded data removed]",
      "text/plain": [
       "<Figure size 432x288 with 1 Axes>"
      ]
     },
     "metadata": {
      "needs_background": "light"
     },
     "output_type": "display_data"
    }
   ],
   "source": [
    "datas = np.arange(len(read.values())) \n",
    "fig, ax = plt.subplots()\n",
    "rects1 = ax.bar(datas, read.values(),color='red' ,label='读书时间')\n",
    "ax.set_xlabel('样本')\n",
    "ax.set_ylabel('和父母一起读书')\n",
    "ax.set_title('和父母一起读书的30次样本均值')\n",
    "ax.set_xticks(datas)\n",
    "ax.set_xticklabels(range(1,31))\n",
    "ax.legend()\n",
    "ax.set_ylim(2,4)\n",
    "ax.set_xlim(-1,30)"
   ]
  },
  {
   "cell_type": "code",
   "execution_count": 89,
   "metadata": {},
   "outputs": [
    {
     "data": {
      "text/plain": [
       "(-1, 30)"
      ]
     },
     "execution_count": 89,
     "metadata": {},
     "output_type": "execute_result"
    },
    {
     "data": {
      "image/png": "[encoded data removed]",
      "text/plain": [
       "<Figure size 432x288 with 1 Axes>"
      ]
     },
     "metadata": {
      "needs_background": "light"
     },
     "output_type": "display_data"
    }
   ],
   "source": [
    "datas = np.arange(len(sleep.values())) \n",
    "fig, ax = plt.subplots()\n",
    "rects1 = ax.bar(datas, sleep.values(),color='yellow', label='睡眠时间')\n",
    "ax.set_xlabel('样本')\n",
    "ax.set_ylabel('平均睡眠时间')\n",
    "ax.set_title('每天平均睡眠时间（小时）')\n",
    "ax.set_xticks(datas)\n",
    "ax.set_xticklabels(range(1,31))\n",
    "ax.legend()\n",
    "ax.set_ylim(6,9)\n",
    "ax.set_xlim(-1,30)"
   ]
  },
  {
   "cell_type": "code",
   "execution_count": 71,
   "metadata": {},
   "outputs": [
    {
     "name": "stdout",
     "output_type": "stream",
     "text": [
      "\n",
      "样本均值：\n",
      "和父母一起读书时间    3.222635\n",
      "每天平均睡眠时间     7.794664\n",
      "dtype: float64\n",
      "\n",
      "样本标准误：\n",
      "和父母一起读书时间    0.066563\n",
      "每天平均睡眠时间     0.040371\n",
      "dtype: float64\n"
     ]
    }
   ],
   "source": [
    "rdata = []\n",
    "for i in read.values():\n",
    "    rdata.append(i)\n",
    "sdata = []\n",
    "for i in sleep.values():\n",
    "    sdata.append(i)\n",
    "\n",
    "sample_data = {'和父母一起读书时间':rdata,'每天平均睡眠时间':sdata}\n",
    "frame = pd.DataFrame(sample_data,index=range(1,31))\n",
    "print('\\n样本均值：')\n",
    "print(frame.mean())\n",
    "print('\\n样本标准误：')\n",
    "print(frame.std())"
   ]
  },
  {
   "cell_type": "markdown",
   "metadata": {},
   "source": [
    "### 回归分析"
   ]
  },
  {
   "cell_type": "markdown",
   "metadata": {},
   "source": [
    "+ 请从CEPS.csv数据里挑选若干变量建立回归方程，要求至少三个自变量\n",
    "    + 如，学生的学业成绩受认知水平、家庭收入的影响\n",
    "    + 考虑因变量和自变量间的实质关系，变量间关系应该是有意义\n",
    "    + 选择自变量时，注意变量的类型，如果是分类变量，需要进行编码\n",
    "+ 请报告回归方程的结果，需要包括：\n",
    "    + 模型拟合指标\n",
    "    + 模型的显著性检验结果\n",
    "    + 变量的系数\n",
    "    + 各系数的显著性检验结果\n",
    "    + 对模型结果的解释\n",
    "    "
   ]
  },
  {
   "cell_type": "code",
   "execution_count": 73,
   "metadata": {},
   "outputs": [],
   "source": [
    "import statsmodels.api as sm\n",
    "import statsmodels.formula.api as smf"
   ]
  },
  {
   "cell_type": "code",
   "execution_count": 74,
   "metadata": {},
   "outputs": [
    {
     "name": "stderr",
     "output_type": "stream",
     "text": [
      "D:\\ProgramData\\Anaconda3\\lib\\site-packages\\IPython\\core\\interactiveshell.py:2785: DtypeWarning: Columns (20,22,23,25,28,29,39,49,74,124,125,126,127,128,129,130,131,138,140,141,147,160,161,162,165,170,174,175,176,177,179,180,181,182,183,184,196,199,221,222,223,224,251,252,289,290,294,295,296) have mixed types. Specify dtype option on import or set low_memory=False.\n",
      "  interactivity=interactivity, compiler=compiler, result=result)\n"
     ]
    }
   ],
   "source": [
    "sentinels = {'c1001': [' '], 'c1101': [' '],'c12': [' '],'c1301': [' '],'c25': [' ']}\n",
    "df = pd.read_csv('G:/python/mydemo/CEPS.csv',encoding='gb2312', na_values=sentinels)"
   ]
  },
  {
   "cell_type": "code",
   "execution_count": 77,
   "metadata": {},
   "outputs": [],
   "source": [
    "# c1011 六年级时数学吃力程度  x1\n",
    "# c1101 目前数学吃力程度     x2\n",
    "# c1301 未来数学的帮助       x3\n",
    "# c25   对未来的信心         x4\n",
    "# c12   目前的成绩           y\n",
    "data = pd.DataFrame({'x1':df.c1001,'x2':df.c1101,'x3':df.c1301,'x4':df.c25,'y':df.c12})\n",
    "data = data.dropna(axis=0,how='any')"
   ]
  },
  {
   "cell_type": "code",
   "execution_count": 87,
   "metadata": {},
   "outputs": [
    {
     "name": "stdout",
     "output_type": "stream",
     "text": [
      "                            OLS Regression Results                            \n",
      "==============================================================================\n",
      "Dep. Variable:                      y   R-squared:                       0.904\n",
      "Model:                            OLS   Adj. R-squared:                  0.904\n",
      "Method:                 Least Squares   F-statistic:                 4.506e+04\n",
      "Date:                Sun, 30 Dec 2018   Prob (F-statistic):               0.00\n",
      "Time:                        18:22:12   Log-Likelihood:                -27212.\n",
      "No. Observations:               19073   AIC:                         5.443e+04\n",
      "Df Residuals:                   19069   BIC:                         5.446e+04\n",
      "Df Model:                           4                                         \n",
      "Covariance Type:            nonrobust                                         \n",
      "==============================================================================\n",
      "                 coef    std err          t      P>|t|      [0.025      0.975]\n",
      "------------------------------------------------------------------------------\n",
      "x1             0.1696      0.008     20.778      0.000       0.154       0.186\n",
      "x2             0.3626      0.010     38.114      0.000       0.344       0.381\n",
      "x3             0.1331      0.008     16.577      0.000       0.117       0.149\n",
      "x4             0.4008      0.008     47.394      0.000       0.384       0.417\n",
      "==============================================================================\n",
      "Omnibus:                      164.776   Durbin-Watson:                   1.789\n",
      "Prob(Omnibus):                  0.000   Jarque-Bera (JB):              145.393\n",
      "Skew:                          -0.165   Prob(JB):                     2.68e-32\n",
      "Kurtosis:                       2.727   Cond. No.                         8.90\n",
      "==============================================================================\n",
      "\n",
      "Warnings:\n",
      "[1] Standard Errors assume that the covariance matrix of the errors is correctly specified.\n",
      "\n",
      "变量系数:\n",
      "[0.16963561 0.36255657 0.13311594 0.40081011]\n"
     ]
    }
   ],
   "source": [
    "x_var = ['x1','x2','x3','x4']\n",
    "X = data.loc[ :,x_var].values\n",
    "Y = data['y'].values\n",
    "const = sm.add_constant(X)\n",
    "model = sm.OLS(Y, X)\n",
    "results = model.fit()\n",
    "print(results.summary())\n",
    "print('\\n变量系数:')\n",
    "print(results.params)"
   ]
  },
  {
   "cell_type": "markdown",
   "metadata": {},
   "source": [
    "### 分析\n",
    "+ 对模型的解释\n",
    "    + 模型拟合指标:\n",
    "        + 因变量：\n",
    "            + Y : 目前学生成绩在班级中的水准\n",
    "        + 自变量：\n",
    "            + x1：六年级时学习数学的吃力程度\n",
    "            + x2：目前学习数学的吃力程度\n",
    "            + x3：数学对未来的帮助程度\n",
    "            + x4：对未来的信心\n",
    "    + 模型的显著性检验结果：\n",
    "        + R-squared=0.904 ，模型拟合效果较好\n",
    "    + 变量的系数:\n",
    "        + x1：0.16963561\n",
    "        + x2：0.36255657\n",
    "        + x3：0.13311594\n",
    "        + x4：0.40081011\n",
    "    + 各系数的显著性检验结果：\n",
    "        + P值都接近0，说明模型的自变量对因变量有显著影响\n",
    "    + 对模型结果的解释：\n",
    "        学生目前的成绩状况主要取决于对未来的信心，其次是目前对数学的学习状况、以前的学习状况以及数学对未来的帮组。"
   ]
  }
 ],
 "metadata": {
  "kernelspec": {
   "display_name": "Python 3",
   "language": "python",
   "name": "python3"
  },
  "language_info": {
   "codemirror_mode": {
    "name": "ipython",
    "version": 3
   },
   "file_extension": ".py",
   "mimetype": "text/x-python",
   "name": "python",
   "nbconvert_exporter": "python",
   "pygments_lexer": "ipython3",
   "version": "3.7.0"
  },
  "toc": {
   "base_numbering": 1,
   "nav_menu": {},
   "number_sections": true,
   "sideBar": true,
   "skip_h1_title": false,
   "title_cell": "Table of Contents",
   "title_sidebar": "Contents",
   "toc_cell": false,
   "toc_position": {},
   "toc_section_display": true,
   "toc_window_display": false
  }
 },
 "nbformat": 4,
 "nbformat_minor": 2
}
