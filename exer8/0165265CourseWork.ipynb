{
 "cells": [
  {
   "cell_type": "markdown",
   "metadata": {},
   "source": [
    "## 课程论文"
   ]
  },
  {
   "cell_type": "markdown",
   "metadata": {},
   "source": [
    " 请务必交到exer8文件夹下，**谢绝交到master下**\n",
    "+ 请不要改动任何文件，拜托\n",
    "+ 请于12月30日前先在github上提交\n",
    "+ 请在元旦后提交纸质版，将本页面文件先打印为pdf格式，再去打印店付印\n",
    "+ 请将论文模板和本页面文件一起装订，前者放上面，本页面文件放下面\n",
    "+ 纸质版提交时间和地点请留意微信群通知"
   ]
  },
  {
   "cell_type": "markdown",
   "metadata": {},
   "source": [
    "请写一下姓名和学号：\n",
    "+ 姓名  马梓城\n",
    "+ 学号  0165265"
   ]
  },
  {
   "cell_type": "markdown",
   "metadata": {},
   "source": [
    "### 样本均值分布的统计试验"
   ]
  },
  {
   "cell_type": "markdown",
   "metadata": {},
   "source": [
    "+ 请将CEPS.csv数据读入python\n",
    "+ 请从中随机抽取1000个数据\n",
    "+ 请根据问卷从数据中挑选两个连续型变量（likert量表可以近似看作连续变量）\n",
    "+ 计算这两个连续变量的均值\n",
    "+ 重复随机抽取—计算均值这个过程30次，得到两个变量30个样本均值\n",
    "+ 绘制这30个样本均值的直方图\n",
    "+ 计算均值的均值和标准误"
   ]
  },
  {
   "cell_type": "code",
   "execution_count": 56,
   "metadata": {
    "collapsed": false
   },
   "outputs": [],
   "source": [
    "%matplotlib inline\n",
    "import numpy as np\n",
    "import pandas as pd\n",
    "import matplotlib.pyplot as plt\n",
    "import matplotlib\n",
    "from matplotlib.ticker import MultipleLocator, FormatStrFormatter\n"
   ]
  },
  {
   "cell_type": "code",
   "execution_count": 57,
   "metadata": {
    "collapsed": true
   },
   "outputs": [],
   "source": [
    "plt.rcParams['font.sans-serif']=['SimHei']\n",
    "plt.rcParams['axes.unicode_minus']=False"
   ]
  },
  {
   "cell_type": "code",
   "execution_count": 58,
   "metadata": {
    "collapsed": false
   },
   "outputs": [
    {
     "name": "stderr",
     "output_type": "stream",
     "text": [
      "C:\\Users\\EstebanMa\\Anaconda3\\lib\\site-packages\\IPython\\core\\interactiveshell.py:2717: DtypeWarning: Columns (20,22,23,25,28,29,39,49,74,124,125,126,127,128,129,130,131,138,140,141,147,160,161,162,165,170,174,175,176,177,179,180,181,182,183,184,188,191,194,195,196,199,221,222,223,224,251,252,254,289,290,294,295,296) have mixed types. Specify dtype option on import or set low_memory=False.\n",
      "  interactivity=interactivity, compiler=compiler, result=result)\n"
     ]
    },
    {
     "data": {
      "text/html": [
       "<div>\n",
       "<table border=\"1\" class=\"dataframe\">\n",
       "  <thead>\n",
       "    <tr style=\"text-align: right;\">\n",
       "      <th></th>\n",
       "      <th>ids</th>\n",
       "      <th>clsids</th>\n",
       "      <th>schids</th>\n",
       "      <th>ctyids</th>\n",
       "      <th>frame</th>\n",
       "      <th>subsample</th>\n",
       "      <th>sweight</th>\n",
       "      <th>fall</th>\n",
       "      <th>grade9</th>\n",
       "      <th>stcog</th>\n",
       "      <th>...</th>\n",
       "      <th>steco_3c</th>\n",
       "      <th>stonly</th>\n",
       "      <th>stsib</th>\n",
       "      <th>stsibrank</th>\n",
       "      <th>stmedu</th>\n",
       "      <th>stfedu</th>\n",
       "      <th>stprhedu</th>\n",
       "      <th>stfdrunk</th>\n",
       "      <th>stprfight</th>\n",
       "      <th>stprrel</th>\n",
       "    </tr>\n",
       "  </thead>\n",
       "  <tbody>\n",
       "    <tr>\n",
       "      <th>0</th>\n",
       "      <td>1</td>\n",
       "      <td>1</td>\n",
       "      <td>1</td>\n",
       "      <td>1</td>\n",
       "      <td>3</td>\n",
       "      <td>3</td>\n",
       "      <td>218.738892</td>\n",
       "      <td>0</td>\n",
       "      <td>0</td>\n",
       "      <td>11</td>\n",
       "      <td>...</td>\n",
       "      <td>3</td>\n",
       "      <td>1</td>\n",
       "      <td></td>\n",
       "      <td></td>\n",
       "      <td>3</td>\n",
       "      <td>3</td>\n",
       "      <td>3</td>\n",
       "      <td>1</td>\n",
       "      <td>1</td>\n",
       "      <td>2</td>\n",
       "    </tr>\n",
       "    <tr>\n",
       "      <th>1</th>\n",
       "      <td>2</td>\n",
       "      <td>1</td>\n",
       "      <td>1</td>\n",
       "      <td>1</td>\n",
       "      <td>3</td>\n",
       "      <td>3</td>\n",
       "      <td>216.518234</td>\n",
       "      <td>0</td>\n",
       "      <td>0</td>\n",
       "      <td>17</td>\n",
       "      <td>...</td>\n",
       "      <td>2</td>\n",
       "      <td>1</td>\n",
       "      <td></td>\n",
       "      <td></td>\n",
       "      <td>8</td>\n",
       "      <td>5</td>\n",
       "      <td>8</td>\n",
       "      <td>1</td>\n",
       "      <td>1</td>\n",
       "      <td>2</td>\n",
       "    </tr>\n",
       "    <tr>\n",
       "      <th>2</th>\n",
       "      <td>3</td>\n",
       "      <td>1</td>\n",
       "      <td>1</td>\n",
       "      <td>1</td>\n",
       "      <td>3</td>\n",
       "      <td>3</td>\n",
       "      <td>216.518234</td>\n",
       "      <td>0</td>\n",
       "      <td>0</td>\n",
       "      <td>12</td>\n",
       "      <td>...</td>\n",
       "      <td>2</td>\n",
       "      <td>2</td>\n",
       "      <td>1</td>\n",
       "      <td>3</td>\n",
       "      <td>3</td>\n",
       "      <td>3</td>\n",
       "      <td>3</td>\n",
       "      <td>1</td>\n",
       "      <td>1</td>\n",
       "      <td>1</td>\n",
       "    </tr>\n",
       "    <tr>\n",
       "      <th>3</th>\n",
       "      <td>4</td>\n",
       "      <td>1</td>\n",
       "      <td>1</td>\n",
       "      <td>1</td>\n",
       "      <td>3</td>\n",
       "      <td>3</td>\n",
       "      <td>218.738892</td>\n",
       "      <td>0</td>\n",
       "      <td>0</td>\n",
       "      <td>10</td>\n",
       "      <td>...</td>\n",
       "      <td>2</td>\n",
       "      <td>1</td>\n",
       "      <td></td>\n",
       "      <td></td>\n",
       "      <td>6</td>\n",
       "      <td>7</td>\n",
       "      <td>7</td>\n",
       "      <td>1</td>\n",
       "      <td>1</td>\n",
       "      <td>2</td>\n",
       "    </tr>\n",
       "    <tr>\n",
       "      <th>4</th>\n",
       "      <td>5</td>\n",
       "      <td>1</td>\n",
       "      <td>1</td>\n",
       "      <td>1</td>\n",
       "      <td>3</td>\n",
       "      <td>3</td>\n",
       "      <td>217.553040</td>\n",
       "      <td>0</td>\n",
       "      <td>0</td>\n",
       "      <td>10</td>\n",
       "      <td>...</td>\n",
       "      <td>3</td>\n",
       "      <td>1</td>\n",
       "      <td></td>\n",
       "      <td></td>\n",
       "      <td>7</td>\n",
       "      <td>8</td>\n",
       "      <td>8</td>\n",
       "      <td>1</td>\n",
       "      <td>1</td>\n",
       "      <td>2</td>\n",
       "    </tr>\n",
       "  </tbody>\n",
       "</table>\n",
       "<p>5 rows × 300 columns</p>\n",
       "</div>"
      ],
      "text/plain": [
       "   ids  clsids  schids  ctyids  frame  subsample     sweight  fall  grade9  \\\n",
       "0    1       1       1       1      3          3  218.738892     0       0   \n",
       "1    2       1       1       1      3          3  216.518234     0       0   \n",
       "2    3       1       1       1      3          3  216.518234     0       0   \n",
       "3    4       1       1       1      3          3  218.738892     0       0   \n",
       "4    5       1       1       1      3          3  217.553040     0       0   \n",
       "\n",
       "   stcog   ...    steco_3c stonly stsib stsibrank stmedu stfedu stprhedu  \\\n",
       "0     11   ...           3      1                      3      3        3   \n",
       "1     17   ...           2      1                      8      5        8   \n",
       "2     12   ...           2      2     1         3      3      3        3   \n",
       "3     10   ...           2      1                      6      7        7   \n",
       "4     10   ...           3      1                      7      8        8   \n",
       "\n",
       "  stfdrunk stprfight stprrel  \n",
       "0        1         1       2  \n",
       "1        1         1       2  \n",
       "2        1         1       1  \n",
       "3        1         1       2  \n",
       "4        1         1       2  \n",
       "\n",
       "[5 rows x 300 columns]"
      ]
     },
     "execution_count": 58,
     "metadata": {},
     "output_type": "execute_result"
    }
   ],
   "source": [
    "# 导入数据\n",
    "# 连续型变量：a13身高，a14体重\n",
    "sentinels = {'a13': [' '], 'a14': [' ']}\n",
    "df = pd.read_csv('CEPS.csv',encoding='gb2312', na_values=sentinels)\n",
    "df.head()"
   ]
  },
  {
   "cell_type": "code",
   "execution_count": 60,
   "metadata": {
    "collapsed": false
   },
   "outputs": [
    {
     "name": "stdout",
     "output_type": "stream",
     "text": [
      "样本均值身高为：161.94厘米\n",
      "样本均值体重为：99.58斤\n"
     ]
    }
   ],
   "source": [
    "# 选取1000个样本计算其中两个连续变量均值\n",
    "data=df.sample(n=1000)\n",
    "mean_height=data['a13'].mean()\n",
    "mean_weight=data['a14'].mean()\n",
    "print('样本均值身高为：%.2f厘米' %mean_height)\n",
    "print('样本均值体重为：%.2f斤' %mean_weight)"
   ]
  },
  {
   "cell_type": "code",
   "execution_count": 61,
   "metadata": {
    "collapsed": false
   },
   "outputs": [
    {
     "name": "stdout",
     "output_type": "stream",
     "text": [
      "样本均值身高为:\n",
      "{1: 161.79752066115702, 2: 161.68020833333333, 3: 161.1404958677686, 4: 161.70927835051546, 5: 161.96897621509825, 6: 161.546955624355, 7: 161.19672131147541, 8: 161.70072239422083, 9: 161.34397528321318, 10: 161.83594566353187, 11: 161.1722338204593, 12: 161.27880658436214, 13: 161.9296066252588, 14: 162.15, 15: 161.83178534571724, 16: 161.3944099378882, 17: 161.17368961973278, 18: 161.7528556593977, 19: 161.37860082304528, 20: 161.75695159629248, 21: 161.69089048106449, 22: 161.78144329896907, 23: 161.73792394655703, 24: 161.6490134994808, 25: 161.72907949790795, 26: 161.7747653806048, 27: 161.7582644628099, 28: 161.51770833333333, 29: 162.0279214064116, 30: 161.72565445026177}\n",
      "\n",
      "样本均值体重为:\n",
      "{1: 99.95609220636663, 2: 99.52562704471102, 3: 98.7582056892779, 4: 99.52449888641425, 5: 100.06877729257641, 6: 100.4004329004329, 7: 99.0196292257361, 8: 99.25764192139738, 9: 99.3281767955801, 10: 99.89289617486338, 11: 98.00553097345133, 12: 99.24972617743703, 13: 99.95956284153006, 14: 100.11739130434782, 15: 99.36303630363037, 16: 99.01103752759381, 17: 98.47661469933185, 18: 99.87210584343991, 19: 99.0909090909091, 20: 99.09508196721312, 21: 98.52, 22: 100.35606060606061, 23: 99.8741794310722, 24: 99.24642464246425, 25: 100.16777041942605, 26: 99.97101449275362, 27: 100.90249187432286, 28: 99.06387665198238, 29: 99.72815533980582, 30: 100.63129102844638}\n"
     ]
    }
   ],
   "source": [
    "# 重复上述过程30次并计算\n",
    "i=0\n",
    "mean_height={}\n",
    "mean_weight={}\n",
    "while i<30:\n",
    "    data_2=df.sample(n=1000)\n",
    "    mean_height_2=data_2['a13'].mean()\n",
    "    mean_height[i+1]=mean_height_2\n",
    "    mean_weight_2=data_2['a14'].mean()\n",
    "    mean_weight[i+1]=mean_weight_2\n",
    "    i=i+1\n",
    "    \n",
    "print('样本均值身高为:')\n",
    "print(mean_height)\n",
    "print('\\n样本均值体重为:')\n",
    "print(mean_weight)"
   ]
  },
  {
   "cell_type": "code",
   "execution_count": 69,
   "metadata": {
    "collapsed": false
   },
   "outputs": [
    {
     "data": {
      "image/png": "[encoded data removed]",
      "text/plain": [
       "<matplotlib.figure.Figure at 0x1b77ba7ac18>"
      ]
     },
     "metadata": {},
     "output_type": "display_data"
    }
   ],
   "source": [
    "# 绘图（身高height）\n",
    "ind = np.arange(len(mean_height.values()))\n",
    "fig, ax = plt.subplots()\n",
    "rects1 = ax.bar(ind, mean_height.values(), width=0.5, color='pink', label='均值身高')\n",
    "\n",
    "ax.set_title('随机抽取30个样本的身高均值')\n",
    "ax.set_xlabel('抽取次数')\n",
    "ax.set_ylabel('均值身高')\n",
    "ax.set_xticks(ind)\n",
    "ax.set_xticklabels(mean_height.keys())\n",
    "ax.set_ylim(140,170)\n",
    "\n",
    "plt.show()"
   ]
  },
  {
   "cell_type": "code",
   "execution_count": 72,
   "metadata": {
    "collapsed": false
   },
   "outputs": [
    {
     "data": {
      "image/png": "[encoded data removed]",
      "text/plain": [
       "<matplotlib.figure.Figure at 0x1b77baa41d0>"
      ]
     },
     "metadata": {},
     "output_type": "display_data"
    }
   ],
   "source": [
    "# 绘图（体重weight）\n",
    "ind = np.arange(len(mean_weight.values()))\n",
    " \n",
    "fig, ax = plt.subplots()\n",
    "rects1 = ax.bar(ind, mean_weight.values(), width=0.5, color='yellow', label='均值体重')\n",
    "\n",
    "ax.set_title('随机抽取30个样本的体重均值')\n",
    "ax.set_xlabel('抽取次数')\n",
    "ax.set_ylabel('均值体重')\n",
    "ax.set_xticks(ind)\n",
    "ax.set_xticklabels(mean_height.keys())\n",
    "ax.set_ylim(95,103)\n",
    "\n",
    "plt.show()"
   ]
  },
  {
   "cell_type": "code",
   "execution_count": 79,
   "metadata": {
    "collapsed": false
   },
   "outputs": [
    {
     "name": "stdout",
     "output_type": "stream",
     "text": [
      "身高&体重的样本均值的均值：\n",
      "height    161.637747\n",
      "weight     99.547808\n",
      "dtype: float64\n",
      "\n",
      "身高&体重的标准误：\n",
      "height    0.267254\n",
      "weight    0.669956\n",
      "dtype: float64\n"
     ]
    }
   ],
   "source": [
    "# 均值及标准误\n",
    "height=[]\n",
    "for i in mean_height.values():\n",
    "    height.append(i)\n",
    "weight=[]\n",
    "for i in mean_weight.values():\n",
    "    weight.append(i)\n",
    "    \n",
    "ave={'height':height, 'weight':weight}\n",
    "frame = pd.DataFrame(ave,index=mean_height.keys())\n",
    "\n",
    "print('身高&体重的样本均值的均值：')\n",
    "print(frame.mean())\n",
    "print('\\n身高&体重的标准误：')\n",
    "print(frame.std())"
   ]
  },
  {
   "cell_type": "markdown",
   "metadata": {},
   "source": [
    "# 回归分析"
   ]
  },
  {
   "cell_type": "markdown",
   "metadata": {},
   "source": [
    "+ 请从CEPS.csv数据里挑选若干变量建立回归方程，要求至少三个自变量\n",
    "    + 如，学生的学业成绩受认知水平、家庭收入的影响\n",
    "    + 考虑因变量和自变量间的实质关系，变量间关系应该是有意义\n",
    "    + 选择自变量时，注意变量的类型，如果是分类变量，需要进行编码\n",
    "+ 请报告回归方程的结果，需要包括：\n",
    "    + 模型拟合指标\n",
    "    + 模型的显著性检验结果\n",
    "    + 变量的系数\n",
    "    + 各系数的显著性检验结果\n",
    "    + 对模型结果的解释\n",
    "    "
   ]
  },
  {
   "cell_type": "code",
   "execution_count": 80,
   "metadata": {
    "collapsed": true
   },
   "outputs": [],
   "source": [
    "%matplotlib inline\n",
    "import statsmodels.api as sm\n",
    "import statsmodels.formula.api as smf\n",
    "import numpy as np\n",
    "import pandas as pd"
   ]
  },
  {
   "cell_type": "markdown",
   "metadata": {},
   "source": [
    "分析：\n",
    "因变量：y → y, c12 学习成绩\n",
    "自变量：x →x1, b12 家中书籍数量;\n",
    "            x2, b31 父母教育程度期望;\n",
    "            x3, c22 自我教育程度期望."
   ]
  },
  {
   "cell_type": "code",
   "execution_count": 83,
   "metadata": {
    "collapsed": false
   },
   "outputs": [
    {
     "name": "stderr",
     "output_type": "stream",
     "text": [
      "C:\\Users\\EstebanMa\\Anaconda3\\lib\\site-packages\\IPython\\core\\interactiveshell.py:2717: DtypeWarning: Columns (20,22,23,25,28,29,39,49,124,125,126,127,128,129,130,131,138,140,141,147,160,161,162,165,170,174,175,176,177,179,180,181,182,183,184,188,191,195,196,199,221,222,223,224,252,254,289,290,294,295,296) have mixed types. Specify dtype option on import or set low_memory=False.\n",
      "  interactivity=interactivity, compiler=compiler, result=result)\n"
     ]
    }
   ],
   "source": [
    "# 导入数据\n",
    "sentinels = {'c12': [' '], 'b12': [' '], 'c22': [' '], 'b31': [' ']}\n",
    "df = pd.read_csv('CEPS.csv',encoding='gb2312', na_values=sentinels)\n",
    "df1=df.sample(n=1000) "
   ]
  },
  {
   "cell_type": "code",
   "execution_count": 85,
   "metadata": {
    "collapsed": false
   },
   "outputs": [
    {
     "data": {
      "text/html": [
       "<div>\n",
       "<table border=\"1\" class=\"dataframe\">\n",
       "  <thead>\n",
       "    <tr style=\"text-align: right;\">\n",
       "      <th></th>\n",
       "      <th>x1</th>\n",
       "      <th>x2</th>\n",
       "      <th>x3</th>\n",
       "      <th>y</th>\n",
       "    </tr>\n",
       "  </thead>\n",
       "  <tbody>\n",
       "    <tr>\n",
       "      <th>472</th>\n",
       "      <td>3.0</td>\n",
       "      <td>10.0</td>\n",
       "      <td>7.0</td>\n",
       "      <td>3.0</td>\n",
       "    </tr>\n",
       "    <tr>\n",
       "      <th>17951</th>\n",
       "      <td>3.0</td>\n",
       "      <td>4.0</td>\n",
       "      <td>4.0</td>\n",
       "      <td>2.0</td>\n",
       "    </tr>\n",
       "    <tr>\n",
       "      <th>2232</th>\n",
       "      <td>4.0</td>\n",
       "      <td>9.0</td>\n",
       "      <td>9.0</td>\n",
       "      <td>5.0</td>\n",
       "    </tr>\n",
       "    <tr>\n",
       "      <th>15480</th>\n",
       "      <td>2.0</td>\n",
       "      <td>7.0</td>\n",
       "      <td>8.0</td>\n",
       "      <td>4.0</td>\n",
       "    </tr>\n",
       "    <tr>\n",
       "      <th>15690</th>\n",
       "      <td>2.0</td>\n",
       "      <td>4.0</td>\n",
       "      <td>4.0</td>\n",
       "      <td>1.0</td>\n",
       "    </tr>\n",
       "  </tbody>\n",
       "</table>\n",
       "</div>"
      ],
      "text/plain": [
       "        x1    x2   x3    y\n",
       "472    3.0  10.0  7.0  3.0\n",
       "17951  3.0   4.0  4.0  2.0\n",
       "2232   4.0   9.0  9.0  5.0\n",
       "15480  2.0   7.0  8.0  4.0\n",
       "15690  2.0   4.0  4.0  1.0"
      ]
     },
     "execution_count": 85,
     "metadata": {},
     "output_type": "execute_result"
    }
   ],
   "source": [
    "data = pd.DataFrame({\n",
    "    'x1': df1.b12,\n",
    "    'x2': df1.b31,\n",
    "    'x3': df1.c22,\n",
    "    'y': df1.c12})\n",
    "data=data.dropna(axis=0,how='any')\n",
    "data.head()"
   ]
  },
  {
   "cell_type": "code",
   "execution_count": 90,
   "metadata": {
    "collapsed": false
   },
   "outputs": [],
   "source": [
    "# 建模\n",
    "model_x= ['x1', 'x2','x3']\n",
    "X = data.loc[ :,model_x].values\n",
    "y=data['y'].values\n",
    "model = sm.OLS(y, X)    \n",
    "results = model.fit()"
   ]
  },
  {
   "cell_type": "code",
   "execution_count": 91,
   "metadata": {
    "collapsed": false
   },
   "outputs": [
    {
     "data": {
      "text/plain": [
       "array([ 0.14570745,  0.14941682,  0.22390713])"
      ]
     },
     "execution_count": 91,
     "metadata": {},
     "output_type": "execute_result"
    }
   ],
   "source": [
    "# 系数输出\n",
    "results.params"
   ]
  },
  {
   "cell_type": "code",
   "execution_count": 93,
   "metadata": {
    "collapsed": false
   },
   "outputs": [
    {
     "name": "stdout",
     "output_type": "stream",
     "text": [
      "                            OLS Regression Results                            \n",
      "==============================================================================\n",
      "Dep. Variable:                      y   R-squared:                       0.894\n",
      "Model:                            OLS   Adj. R-squared:                  0.894\n",
      "Method:                 Least Squares   F-statistic:                     2733.\n",
      "Date:                Sun, 30 Dec 2018   Prob (F-statistic):               0.00\n",
      "Time:                        17:24:35   Log-Likelihood:                -1435.3\n",
      "No. Observations:                 975   AIC:                             2877.\n",
      "Df Residuals:                     972   BIC:                             2891.\n",
      "Df Model:                           3                                         \n",
      "Covariance Type:            nonrobust                                         \n",
      "==============================================================================\n",
      "                 coef    std err          t      P>|t|      [95.0% Conf. Int.]\n",
      "------------------------------------------------------------------------------\n",
      "x1             0.1457      0.026      5.632      0.000         0.095     0.196\n",
      "x2             0.1494      0.025      6.020      0.000         0.101     0.198\n",
      "x3             0.2239      0.025      9.066      0.000         0.175     0.272\n",
      "==============================================================================\n",
      "Omnibus:                       16.243   Durbin-Watson:                   1.929\n",
      "Prob(Omnibus):                  0.000   Jarque-Bera (JB):               16.823\n",
      "Skew:                          -0.321   Prob(JB):                     0.000222\n",
      "Kurtosis:                       2.963   Cond. No.                         10.4\n",
      "==============================================================================\n",
      "\n",
      "Warnings:\n",
      "[1] Standard Errors assume that the covariance matrix of the errors is correctly specified.\n"
     ]
    }
   ],
   "source": [
    "# 拟合过程及效果\n",
    "print(results.summary())"
   ]
  },
  {
   "cell_type": "markdown",
   "metadata": {},
   "source": [
    "根据以上步骤建模进行分析：\n",
    "1、构建模型 \n",
    "   因变量y→ 成绩情况\n",
    "   自变量x1→家中书籍数量\n",
    "   自变量x2→父母对孩子教育程度期望\n",
    "   自变量x3→自己的教育程度期望\n",
    "2、模型效果\n",
    "   ①模型构建效果检验： OLS回归表结果显示，该模型的F值为2733，对应的P值接近0，远小于显著性水平0.05，故模型拟合效果较好。\n",
    "   ②模型拟合解释力度：R-square 达到0.894，拟合效果较好\n",
    "   ③系数的效果检验：结果显示，三个自变量的系数分别为0.1457，0.1494，0.2239，检验对应的P值均接近于0，远小于显著性水平0.05，故系数与0值相比具有显著差异，达到较好的解释因变量效果。\n",
    "3、模型解释\n",
    "   y=0.1457x1+0.1494x2+0.2239x3\n",
    "   该模型说明，学生（孩子）的学习成绩会受到家中阅读书目数量、自我对自己教育程度的期望和父母对孩子的教育程度期望的较大影响，影响均为正向影响。家里阅读的书籍越多，孩子越能接受较好的文化熏陶，拓宽知识面；孩子本身对自己的要求更高，更严格，是孩子主动学习，自我管理的主要动力；父母对孩子的要求和期望，也能体现在父母对孩子学习生活方面的监督和指导等，这些都会影响孩子的学习成绩。\n",
    "   \n",
    "\n"
   ]
  }
 ],
 "metadata": {
  "kernelspec": {
   "display_name": "Python 3",
   "language": "python",
   "name": "python3"
  },
  "language_info": {
   "codemirror_mode": {
    "name": "ipython",
    "version": 3
   },
   "file_extension": ".py",
   "mimetype": "text/x-python",
   "name": "python",
   "nbconvert_exporter": "python",
   "pygments_lexer": "ipython3",
   "version": "3.6.0"
  },
  "toc": {
   "base_numbering": 1,
   "nav_menu": {},
   "number_sections": true,
   "sideBar": true,
   "skip_h1_title": false,
   "title_cell": "Table of Contents",
   "title_sidebar": "Contents",
   "toc_cell": false,
   "toc_position": {},
   "toc_section_display": true,
   "toc_window_display": false
  }
 },
 "nbformat": 4,
 "nbformat_minor": 2
}
