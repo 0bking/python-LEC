{
 "cells": [
  {
   "cell_type": "markdown",
   "metadata": {},
   "source": [
    "## 课程论文"
   ]
  },
  {
   "cell_type": "code",
   "execution_count": 1,
   "metadata": {
    "collapsed": true
   },
   "outputs": [],
   "source": [
    "%matplotlib inline\n",
    "import numpy as np\n",
    "import pandas as pd\n",
    "import matplotlib.pyplot as plt\n",
    "import matplotlib\n",
    "from matplotlib.ticker import MultipleLocator, FormatStrFormatter\n",
    "plt.rcParams['font.sans-serif']=['SimHei']\n",
    "plt.rcParams['axes.unicode_minus']=False"
   ]
  },
  {
   "cell_type": "markdown",
   "metadata": {},
   "source": [
    " 请务必交到exer8文件夹下，**谢绝交到master下**\n",
    "+ 请不要改动任何文件，拜托\n",
    "+ 请于12月30日前先在github上提交\n",
    "+ 请在元旦后提交纸质版，将本页面文件先打印为pdf格式，再去打印店付印\n",
    "+ 请将论文模板和本页面文件一起装订，前者放上面，本页面文件放下面\n",
    "+ 纸质版提交时间和地点请留意微信群通知"
   ]
  },
  {
   "cell_type": "markdown",
   "metadata": {},
   "source": [
    "请写一下姓名和学号：\n",
    "+ 姓名  汪虎晨\n",
    "+ 学号  0165212"
   ]
  },
  {
   "cell_type": "markdown",
   "metadata": {},
   "source": [
    "### 样本均值分布的统计试验"
   ]
  },
  {
   "cell_type": "markdown",
   "metadata": {},
   "source": [
    "+ 请将CEPS.csv数据读入python\n",
    "+ 请从中随机抽取1000个数据\n",
    "+ 请根据问卷从数据中挑选两个连续型变量（likert量表可以近似看作连续变量）\n",
    "+ 计算这两个连续变量的均值\n",
    "+ 重复随机抽取—计算均值这个过程30次，得到两个变量30个样本均值\n",
    "+ 绘制这30个样本均值的直方图\n",
    "+ 计算均值的均值和标准误"
   ]
  },
  {
   "cell_type": "code",
   "execution_count": 2,
   "metadata": {
    "collapsed": false
   },
   "outputs": [
    {
     "name": "stderr",
     "output_type": "stream",
     "text": [
      "E:\\Anaconda\\lib\\site-packages\\IPython\\core\\interactiveshell.py:2717: DtypeWarning: Columns (20,22,23,25,28,29,39,49,74,124,125,126,127,128,129,130,131,138,140,141,147,160,161,162,165,170,174,175,176,177,179,180,181,182,183,184,188,191,195,196,199,221,222,223,224,252,254,289,290,294,295,296) have mixed types. Specify dtype option on import or set low_memory=False.\n",
      "  interactivity=interactivity, compiler=compiler, result=result)\n"
     ]
    },
    {
     "data": {
      "text/html": [
       "<div>\n",
       "<table border=\"1\" class=\"dataframe\">\n",
       "  <thead>\n",
       "    <tr style=\"text-align: right;\">\n",
       "      <th></th>\n",
       "      <th>ids</th>\n",
       "      <th>clsids</th>\n",
       "      <th>schids</th>\n",
       "      <th>ctyids</th>\n",
       "      <th>frame</th>\n",
       "      <th>subsample</th>\n",
       "      <th>sweight</th>\n",
       "      <th>fall</th>\n",
       "      <th>grade9</th>\n",
       "      <th>stcog</th>\n",
       "      <th>...</th>\n",
       "      <th>steco_3c</th>\n",
       "      <th>stonly</th>\n",
       "      <th>stsib</th>\n",
       "      <th>stsibrank</th>\n",
       "      <th>stmedu</th>\n",
       "      <th>stfedu</th>\n",
       "      <th>stprhedu</th>\n",
       "      <th>stfdrunk</th>\n",
       "      <th>stprfight</th>\n",
       "      <th>stprrel</th>\n",
       "    </tr>\n",
       "  </thead>\n",
       "  <tbody>\n",
       "    <tr>\n",
       "      <th>0</th>\n",
       "      <td>1</td>\n",
       "      <td>1</td>\n",
       "      <td>1</td>\n",
       "      <td>1</td>\n",
       "      <td>3</td>\n",
       "      <td>3</td>\n",
       "      <td>218.738892</td>\n",
       "      <td>0</td>\n",
       "      <td>0</td>\n",
       "      <td>11</td>\n",
       "      <td>...</td>\n",
       "      <td>3</td>\n",
       "      <td>1</td>\n",
       "      <td></td>\n",
       "      <td></td>\n",
       "      <td>3</td>\n",
       "      <td>3</td>\n",
       "      <td>3</td>\n",
       "      <td>1</td>\n",
       "      <td>1</td>\n",
       "      <td>2</td>\n",
       "    </tr>\n",
       "    <tr>\n",
       "      <th>1</th>\n",
       "      <td>2</td>\n",
       "      <td>1</td>\n",
       "      <td>1</td>\n",
       "      <td>1</td>\n",
       "      <td>3</td>\n",
       "      <td>3</td>\n",
       "      <td>216.518234</td>\n",
       "      <td>0</td>\n",
       "      <td>0</td>\n",
       "      <td>17</td>\n",
       "      <td>...</td>\n",
       "      <td>2</td>\n",
       "      <td>1</td>\n",
       "      <td></td>\n",
       "      <td></td>\n",
       "      <td>8</td>\n",
       "      <td>5</td>\n",
       "      <td>8</td>\n",
       "      <td>1</td>\n",
       "      <td>1</td>\n",
       "      <td>2</td>\n",
       "    </tr>\n",
       "    <tr>\n",
       "      <th>2</th>\n",
       "      <td>3</td>\n",
       "      <td>1</td>\n",
       "      <td>1</td>\n",
       "      <td>1</td>\n",
       "      <td>3</td>\n",
       "      <td>3</td>\n",
       "      <td>216.518234</td>\n",
       "      <td>0</td>\n",
       "      <td>0</td>\n",
       "      <td>12</td>\n",
       "      <td>...</td>\n",
       "      <td>2</td>\n",
       "      <td>2</td>\n",
       "      <td>1</td>\n",
       "      <td>3</td>\n",
       "      <td>3</td>\n",
       "      <td>3</td>\n",
       "      <td>3</td>\n",
       "      <td>1</td>\n",
       "      <td>1</td>\n",
       "      <td>1</td>\n",
       "    </tr>\n",
       "    <tr>\n",
       "      <th>3</th>\n",
       "      <td>4</td>\n",
       "      <td>1</td>\n",
       "      <td>1</td>\n",
       "      <td>1</td>\n",
       "      <td>3</td>\n",
       "      <td>3</td>\n",
       "      <td>218.738892</td>\n",
       "      <td>0</td>\n",
       "      <td>0</td>\n",
       "      <td>10</td>\n",
       "      <td>...</td>\n",
       "      <td>2</td>\n",
       "      <td>1</td>\n",
       "      <td></td>\n",
       "      <td></td>\n",
       "      <td>6</td>\n",
       "      <td>7</td>\n",
       "      <td>7</td>\n",
       "      <td>1</td>\n",
       "      <td>1</td>\n",
       "      <td>2</td>\n",
       "    </tr>\n",
       "    <tr>\n",
       "      <th>4</th>\n",
       "      <td>5</td>\n",
       "      <td>1</td>\n",
       "      <td>1</td>\n",
       "      <td>1</td>\n",
       "      <td>3</td>\n",
       "      <td>3</td>\n",
       "      <td>217.553040</td>\n",
       "      <td>0</td>\n",
       "      <td>0</td>\n",
       "      <td>10</td>\n",
       "      <td>...</td>\n",
       "      <td>3</td>\n",
       "      <td>1</td>\n",
       "      <td></td>\n",
       "      <td></td>\n",
       "      <td>7</td>\n",
       "      <td>8</td>\n",
       "      <td>8</td>\n",
       "      <td>1</td>\n",
       "      <td>1</td>\n",
       "      <td>2</td>\n",
       "    </tr>\n",
       "  </tbody>\n",
       "</table>\n",
       "<p>5 rows × 300 columns</p>\n",
       "</div>"
      ],
      "text/plain": [
       "   ids  clsids  schids  ctyids  frame  subsample     sweight  fall  grade9  \\\n",
       "0    1       1       1       1      3          3  218.738892     0       0   \n",
       "1    2       1       1       1      3          3  216.518234     0       0   \n",
       "2    3       1       1       1      3          3  216.518234     0       0   \n",
       "3    4       1       1       1      3          3  218.738892     0       0   \n",
       "4    5       1       1       1      3          3  217.553040     0       0   \n",
       "\n",
       "   stcog   ...    steco_3c stonly stsib stsibrank stmedu stfedu stprhedu  \\\n",
       "0     11   ...           3      1                      3      3        3   \n",
       "1     17   ...           2      1                      8      5        8   \n",
       "2     12   ...           2      2     1         3      3      3        3   \n",
       "3     10   ...           2      1                      6      7        7   \n",
       "4     10   ...           3      1                      7      8        8   \n",
       "\n",
       "  stfdrunk stprfight stprrel  \n",
       "0        1         1       2  \n",
       "1        1         1       2  \n",
       "2        1         1       1  \n",
       "3        1         1       2  \n",
       "4        1         1       2  \n",
       "\n",
       "[5 rows x 300 columns]"
      ]
     },
     "execution_count": 2,
     "metadata": {},
     "output_type": "execute_result"
    }
   ],
   "source": [
    "sentinels= {'c12': [' '], 'c22': [' ']}\n",
    "df = pd.read_csv('CEPS.csv',encoding='gb2312',na_values=sentinels)\n",
    "df.head()"
   ]
  },
  {
   "cell_type": "code",
   "execution_count": 3,
   "metadata": {
    "collapsed": false
   },
   "outputs": [
    {
     "name": "stdout",
     "output_type": "stream",
     "text": [
      "3.0452261306532664\n",
      "6.921529175050302\n"
     ]
    }
   ],
   "source": [
    "df1=df.sample(1000)#随机抽取1000个样本\n",
    "x1=df1['c12'].mean()\n",
    "print(x1)#求c12：‘你目前的成绩在班里处于’的均值\n",
    "x2=df1['c22'].mean()\n",
    "print(x2)#求c22：‘你希望自己读到什么程度’的均值"
   ]
  },
  {
   "cell_type": "code",
   "execution_count": 4,
   "metadata": {
    "collapsed": false
   },
   "outputs": [
    {
     "name": "stdout",
     "output_type": "stream",
     "text": [
      "第 1 次\n",
      "2.996978851963746\n",
      "6.889224572004029\n",
      "第 2 次\n",
      "3.0715005035246725\n",
      "6.853535353535354\n",
      "第 3 次\n",
      "3.0908173562058527\n",
      "6.877139979859013\n",
      "第 4 次\n",
      "3.0321931589537225\n",
      "6.92741935483871\n",
      "第 5 次\n",
      "3.0150753768844223\n",
      "6.9122098890010095\n",
      "第 6 次\n",
      "3.0543259557344062\n",
      "6.862173038229376\n",
      "第 7 次\n",
      "3.0414141414141413\n",
      "6.904954499494439\n",
      "第 8 次\n",
      "2.997995991983968\n",
      "6.8279678068410465\n",
      "第 9 次\n",
      "3.0582329317269075\n",
      "6.865792129162462\n",
      "第 10 次\n",
      "3.0420841683366735\n",
      "6.822222222222222\n",
      "第 11 次\n",
      "3.11144578313253\n",
      "6.899193548387097\n",
      "第 12 次\n",
      "3.0483383685800605\n",
      "6.896273917421953\n",
      "第 13 次\n",
      "3.0443101711983886\n",
      "6.85929648241206\n",
      "第 14 次\n",
      "2.9919517102615694\n",
      "6.834349593495935\n",
      "第 15 次\n",
      "3.084422110552764\n",
      "6.970854271356784\n",
      "第 16 次\n",
      "3.033132530120482\n",
      "7.001006036217304\n",
      "第 17 次\n",
      "3.0592964824120603\n",
      "6.798989898989899\n",
      "第 18 次\n",
      "3.0814889336016096\n",
      "6.875882946518668\n",
      "第 19 次\n",
      "2.984909456740443\n",
      "6.876767676767677\n",
      "第 20 次\n",
      "3.0643863179074446\n",
      "6.863498483316481\n",
      "第 21 次\n",
      "3.0542168674698793\n",
      "6.888104838709677\n",
      "第 22 次\n",
      "3.0362173038229376\n",
      "6.870967741935484\n",
      "第 23 次\n",
      "3.0010090817356208\n",
      "6.959636730575177\n",
      "第 24 次\n",
      "3.052156469408225\n",
      "6.94331983805668\n",
      "第 25 次\n",
      "3.057286432160804\n",
      "6.863773965691221\n",
      "第 26 次\n",
      "3.0130522088353415\n",
      "6.8969696969696965\n",
      "第 27 次\n",
      "3.069277108433735\n",
      "6.919028340080971\n",
      "第 28 次\n",
      "3.030060120240481\n",
      "6.851814516129032\n",
      "第 29 次\n",
      "3.095573440643863\n",
      "6.930443548387097\n",
      "第 30 次\n",
      "3.0240963855421685\n",
      "6.835532994923858\n"
     ]
    }
   ],
   "source": [
    "#连续上面过程30次\n",
    "mean_c12={}\n",
    "mean_c22={}\n",
    "for i in range(0,30):\n",
    "    df1=df.sample(1000)\n",
    "    print('第',i+1,'次')\n",
    "    mean_c12[i+1]=df1['c12'].mean()\n",
    "    print(mean_c12[i+1])\n",
    "    mean_c22[i+1]=df1['c22'].mean()\n",
    "    print(mean_c22[i+1])"
   ]
  },
  {
   "cell_type": "code",
   "execution_count": 5,
   "metadata": {
    "collapsed": false
   },
   "outputs": [
    {
     "data": {
      "image/png": "[encoded data removed]",
      "text/plain": [
       "<matplotlib.figure.Figure at 0x24172961240>"
      ]
     },
     "metadata": {},
     "output_type": "display_data"
    }
   ],
   "source": [
    "c12=np.arange(len(mean_c12.values()))\n",
    "width=0.5\n",
    "fig, ax = plt.subplots()\n",
    "rects1 = ax.bar(c12 - width/2, mean_c12.values())\n",
    "ax.set_ylabel('样本均值')\n",
    "ax.set_xlabel('样本序号')\n",
    "ax.set_title('成绩等级均值')\n",
    "ax.set_xticks(c12-0.25)\n",
    "ax.set_xticklabels(mean_c12.keys())\n",
    "ax.set_ylim(2.7,3.2)\n",
    "plt.show()\n",
    "#绘制样本均值直方图"
   ]
  },
  {
   "cell_type": "code",
   "execution_count": 6,
   "metadata": {
    "collapsed": false
   },
   "outputs": [
    {
     "data": {
      "image/png": "[encoded data removed]",
      "text/plain": [
       "<matplotlib.figure.Figure at 0x241733e8668>"
      ]
     },
     "metadata": {},
     "output_type": "display_data"
    }
   ],
   "source": [
    "c22=np.arange(len(mean_c22.values()))\n",
    "width=0.5\n",
    "fig, ax = plt.subplots()\n",
    "rects1 = ax.bar(c22 - width/2, mean_c22.values())\n",
    "ax.set_ylabel('样本均值')\n",
    "ax.set_xlabel(\"样本序号\")\n",
    "ax.set_title('本人期望学历均值')\n",
    "ax.set_xticks(c22-0.25)\n",
    "ax.set_xticklabels(mean_c22.keys())\n",
    "ax.set_ylim(6.6,7.1)\n",
    "plt.show()\n",
    "#绘制样本均值直方图"
   ]
  },
  {
   "cell_type": "code",
   "execution_count": 7,
   "metadata": {
    "collapsed": false
   },
   "outputs": [
    {
     "name": "stdout",
     "output_type": "stream",
     "text": [
      "样本均值：\n",
      "成绩等级均值:     3.044575\n",
      "本人期望学历均值    6.885945\n",
      "dtype: float64\n",
      "样本标准误：\n",
      "成绩等级均值:     0.032292\n",
      "本人期望学历均值    0.045864\n",
      "dtype: float64\n"
     ]
    }
   ],
   "source": [
    "c12=[]\n",
    "for i in mean_c12.values():\n",
    "    c12.append(i)\n",
    "c22=[]\n",
    "for i in mean_c22.values():\n",
    "    c22.append(i)\n",
    "average={'成绩等级均值:':c12,\n",
    "         '本人期望学历均值':c22,\n",
    "        }\n",
    "frame = pd.DataFrame(average,index=mean_c12.keys())\n",
    "print('样本均值：')\n",
    "print(frame.mean())\n",
    "print('样本标准误：')\n",
    "print(frame.std())"
   ]
  },
  {
   "cell_type": "markdown",
   "metadata": {},
   "source": [
    "### 回归分析"
   ]
  },
  {
   "cell_type": "markdown",
   "metadata": {},
   "source": [
    "+ 请从CEPS.csv数据里挑选若干变量建立回归方程，要求至少三个自变量\n",
    "    + 如，学生的学业成绩受认知水平、家庭收入的影响\n",
    "    + 考虑因变量和自变量间的实质关系，变量间关系应该是有意义\n",
    "    + 选择自变量时，注意变量的类型，如果是分类变量，需要进行编码\n",
    "+ 请报告回归方程的结果，需要包括：\n",
    "    + 模型拟合指标\n",
    "    + 模型的显著性检验结果\n",
    "    + 变量的系数\n",
    "    + 各系数的显著性检验结果\n",
    "    + 对模型结果的解释\n",
    "    "
   ]
  },
  {
   "cell_type": "code",
   "execution_count": 8,
   "metadata": {
    "collapsed": true
   },
   "outputs": [],
   "source": [
    "import statsmodels.api as sm\n",
    "import statsmodels.formula.api as smf"
   ]
  },
  {
   "cell_type": "code",
   "execution_count": 9,
   "metadata": {
    "collapsed": false
   },
   "outputs": [
    {
     "name": "stderr",
     "output_type": "stream",
     "text": [
      "E:\\Anaconda\\lib\\site-packages\\IPython\\core\\interactiveshell.py:2717: DtypeWarning: Columns (20,22,23,25,28,29,39,49,74,124,125,126,127,128,129,130,131,138,140,141,147,160,161,162,165,174,175,176,177,179,180,181,182,183,184,188,191,195,196,199,221,222,223,224,251,252,289,290,294,295,296) have mixed types. Specify dtype option on import or set low_memory=False.\n",
      "  interactivity=interactivity, compiler=compiler, result=result)\n"
     ]
    }
   ],
   "source": [
    "sentinels = {'c25': [' '],'a17': [' '], 'b29': [' '], 'c12': [' ']  }\n",
    "df = pd.read_csv('CEPS.csv',encoding='gb2312', na_values=sentinels)\n",
    "df2=df.sample(n=1000)"
   ]
  },
  {
   "cell_type": "code",
   "execution_count": 10,
   "metadata": {
    "collapsed": false
   },
   "outputs": [
    {
     "data": {
      "text/html": [
       "<div>\n",
       "<table border=\"1\" class=\"dataframe\">\n",
       "  <thead>\n",
       "    <tr style=\"text-align: right;\">\n",
       "      <th></th>\n",
       "      <th>x1</th>\n",
       "      <th>x2</th>\n",
       "      <th>x3</th>\n",
       "      <th>y</th>\n",
       "    </tr>\n",
       "  </thead>\n",
       "  <tbody>\n",
       "    <tr>\n",
       "      <th>11516</th>\n",
       "      <td>5.0</td>\n",
       "      <td>5.0</td>\n",
       "      <td>5.0</td>\n",
       "      <td>3.0</td>\n",
       "    </tr>\n",
       "    <tr>\n",
       "      <th>1356</th>\n",
       "      <td>5.0</td>\n",
       "      <td>5.0</td>\n",
       "      <td>2.0</td>\n",
       "      <td>3.0</td>\n",
       "    </tr>\n",
       "    <tr>\n",
       "      <th>19004</th>\n",
       "      <td>5.0</td>\n",
       "      <td>4.0</td>\n",
       "      <td>3.0</td>\n",
       "      <td>3.0</td>\n",
       "    </tr>\n",
       "    <tr>\n",
       "      <th>4320</th>\n",
       "      <td>3.0</td>\n",
       "      <td>5.0</td>\n",
       "      <td>2.0</td>\n",
       "      <td>3.0</td>\n",
       "    </tr>\n",
       "    <tr>\n",
       "      <th>2655</th>\n",
       "      <td>4.0</td>\n",
       "      <td>3.0</td>\n",
       "      <td>3.0</td>\n",
       "      <td>3.0</td>\n",
       "    </tr>\n",
       "  </tbody>\n",
       "</table>\n",
       "</div>"
      ],
      "text/plain": [
       "        x1   x2   x3    y\n",
       "11516  5.0  5.0  5.0  3.0\n",
       "1356   5.0  5.0  2.0  3.0\n",
       "19004  5.0  4.0  3.0  3.0\n",
       "4320   3.0  5.0  2.0  3.0\n",
       "2655   4.0  3.0  3.0  3.0"
      ]
     },
     "execution_count": 10,
     "metadata": {},
     "output_type": "execute_result"
    }
   ],
   "source": [
    "frame = pd.DataFrame({\n",
    "    'x1': df2.a17,\n",
    "    'x2': df2.b29,\n",
    "    'x3': df2.c12,\n",
    "    'y':  df2.c25})\n",
    "frame=frame.dropna(axis=0,how='any')\n",
    "frame.head()"
   ]
  },
  {
   "cell_type": "code",
   "execution_count": 11,
   "metadata": {
    "collapsed": false
   },
   "outputs": [],
   "source": [
    "model_x=['x1','x2','x3']\n",
    "x=frame.loc[ :,model_x].values\n",
    "y=frame['y'].values"
   ]
  },
  {
   "cell_type": "code",
   "execution_count": 12,
   "metadata": {
    "collapsed": false
   },
   "outputs": [
    {
     "data": {
      "text/plain": [
       "array([ 0.30898993,  0.29177633,  0.19815159])"
      ]
     },
     "execution_count": 12,
     "metadata": {},
     "output_type": "execute_result"
    }
   ],
   "source": [
    "model = sm.OLS(y, x) \n",
    "#拟合ols回归\n",
    "results = model.fit()\n",
    "results.params"
   ]
  },
  {
   "cell_type": "code",
   "execution_count": 13,
   "metadata": {
    "collapsed": false
   },
   "outputs": [
    {
     "name": "stdout",
     "output_type": "stream",
     "text": [
      "                            OLS Regression Results                            \n",
      "==============================================================================\n",
      "Dep. Variable:                      y   R-squared:                       0.952\n",
      "Model:                            OLS   Adj. R-squared:                  0.952\n",
      "Method:                 Least Squares   F-statistic:                     6460.\n",
      "Date:                Sun, 30 Dec 2018   Prob (F-statistic):               0.00\n",
      "Time:                        23:53:16   Log-Likelihood:                -1062.7\n",
      "No. Observations:                 981   AIC:                             2131.\n",
      "Df Residuals:                     978   BIC:                             2146.\n",
      "Df Model:                           3                                         \n",
      "Covariance Type:            nonrobust                                         \n",
      "==============================================================================\n",
      "                 coef    std err          t      P>|t|      [95.0% Conf. Int.]\n",
      "------------------------------------------------------------------------------\n",
      "x1             0.3090      0.022     14.304      0.000         0.267     0.351\n",
      "x2             0.2918      0.021     14.231      0.000         0.252     0.332\n",
      "x3             0.1982      0.020      9.981      0.000         0.159     0.237\n",
      "==============================================================================\n",
      "Omnibus:                        1.845   Durbin-Watson:                   2.029\n",
      "Prob(Omnibus):                  0.397   Jarque-Bera (JB):                1.809\n",
      "Skew:                          -0.105   Prob(JB):                        0.405\n",
      "Kurtosis:                       3.004   Cond. No.                         8.29\n",
      "==============================================================================\n",
      "\n",
      "Warnings:\n",
      "[1] Standard Errors assume that the covariance matrix of the errors is correctly specified.\n"
     ]
    }
   ],
   "source": [
    "print(results.summary())"
   ]
  },
  {
   "cell_type": "code",
   "execution_count": 14,
   "metadata": {
    "collapsed": false
   },
   "outputs": [
    {
     "ename": "SyntaxError",
     "evalue": "invalid syntax (<ipython-input-14-74c7ec43be77>, line 1)",
     "output_type": "error",
     "traceback": [
      "\u001b[0;36m  File \u001b[0;32m\"<ipython-input-14-74c7ec43be77>\"\u001b[0;36m, line \u001b[0;32m1\u001b[0m\n\u001b[0;31m    模型拟合指标:\u001b[0m\n\u001b[0m           ^\u001b[0m\n\u001b[0;31mSyntaxError\u001b[0m\u001b[0;31m:\u001b[0m invalid syntax\n"
     ]
    }
   ],
   "source": [
    "模型拟合指标:\n",
    "自变量:\n",
    "x1:A17.你现在的整体健康情况如何？\n",
    "1.很不好 2.不太好 3.一般 4.比较好 5.很好\n",
    "x2:B29.你觉得父母为你做的多吗？\n",
    "1.一点也不多 2.比较少 3.不多不少 4.比较多 5.非常多\n",
    "x3:C12. 你目前的成绩在班里处于：\n",
    "1.不好 2.中下 3.中等 4.中上 5.很好\n",
    "因变量\n",
    "y:C25. 你对自己的未来有没有信心？\n",
    "1.根本没有信心 2.不太有信心 3.比较有信心 4.很有信心\n",
    "\n",
    "2.模型的显著性检验结果:该模型的P值远小于显著性水平0.05,所以在该模型中自变量与因变量间有显著线性关系作用.\n",
    "\n",
    "3.变量的系数:x1的系数为0.3116,x2的系数为0.2800,x3的系数为0.2180\n",
    "    \n",
    "4.各系数的显著性检验结果:在置信区间95%的情况下, 各自变量的p值都远小于0.05,说明都对因变量有显著影响.\n",
    "\n",
    "5.解释:现在的健康状况，父母的付出和现在的成绩等级对孩子对未来的信心正相关."
   ]
  },
  {
   "cell_type": "code",
   "execution_count": null,
   "metadata": {
    "collapsed": true
   },
   "outputs": [],
   "source": []
  }
 ],
 "metadata": {
  "kernelspec": {
   "display_name": "Python 3",
   "language": "python",
   "name": "python3"
  },
  "language_info": {
   "codemirror_mode": {
    "name": "ipython",
    "version": 3
   },
   "file_extension": ".py",
   "mimetype": "text/x-python",
   "name": "python",
   "nbconvert_exporter": "python",
   "pygments_lexer": "ipython3",
   "version": "3.6.0"
  },
  "toc": {
   "base_numbering": 1,
   "nav_menu": {},
   "number_sections": true,
   "sideBar": true,
   "skip_h1_title": false,
   "title_cell": "Table of Contents",
   "title_sidebar": "Contents",
   "toc_cell": false,
   "toc_position": {},
   "toc_section_display": true,
   "toc_window_display": false
  }
 },
 "nbformat": 4,
 "nbformat_minor": 2
}
