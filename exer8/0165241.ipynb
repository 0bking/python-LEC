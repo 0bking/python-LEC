{
 "cells": [
  {
   "cell_type": "markdown",
   "metadata": {},
   "source": [
    "## 课程论文"
   ]
  },
  {
   "cell_type": "markdown",
   "metadata": {},
   "source": [
    " 请务必交到exer8文件夹下，**谢绝交到master下**\n",
    "+ 请不要改动任何文件，拜托\n",
    "+ 请于12月30日前先在github上提交\n",
    "+ 请在元旦后提交纸质版，将本页面文件先打印为pdf格式，再去打印店付印\n",
    "+ 请将论文模板和本页面文件一起装订，前者放上面，本页面文件放下面\n",
    "+ 纸质版提交时间和地点请留意微信群通知"
   ]
  },
  {
   "cell_type": "markdown",
   "metadata": {},
   "source": [
    "请写一下姓名和学号：\n",
    "+ 姓名 0165241\n",
    "+ 学号 黄德辉"
   ]
  },
  {
   "cell_type": "markdown",
   "metadata": {},
   "source": [
    "### 样本均值分布的统计试验"
   ]
  },
  {
   "cell_type": "markdown",
   "metadata": {},
   "source": [
    "+ 请将CEPS.csv数据读入python\n",
    "+ 请从中随机抽取1000个数据\n",
    "+ 请根据问卷从数据中挑选两个连续型变量（likert量表可以近似看作连续变量）\n",
    "+ 计算这两个连续变量的均值\n",
    "+ 重复随机抽取—计算均值这个过程30次，得到两个变量30个样本均值\n",
    "+ 绘制这30个样本均值的直方图\n",
    "+ 计算均值的均值和标准误"
   ]
  },
  {
   "cell_type": "code",
   "execution_count": 1,
   "metadata": {},
   "outputs": [],
   "source": [
    "%matplotlib inline\n",
    "import pandas as pd\n",
    "import matplotlib.pyplot as plt\n",
    "import matplotlib"
   ]
  },
  {
   "cell_type": "code",
   "execution_count": 2,
   "metadata": {},
   "outputs": [],
   "source": [
    "plt.rcParams['font.sans-serif']=['SimHei'] #用来正常显示中文标签\n",
    "plt.rcParams['axes.unicode_minus']=False #用来正常显示负号"
   ]
  },
  {
   "cell_type": "code",
   "execution_count": 3,
   "metadata": {},
   "outputs": [
    {
     "name": "stderr",
     "output_type": "stream",
     "text": [
      "D:\\Program\\Anaconda3\\lib\\site-packages\\IPython\\core\\interactiveshell.py:3020: DtypeWarning: Columns (40,41) have mixed types. Specify dtype option on import or set low_memory=False.\n",
      "  interactivity=interactivity, compiler=compiler, result=result)\n"
     ]
    }
   ],
   "source": [
    "df = pd.read_csv(\"CEPS.csv\", encoding='gb2312', na_values = \" \") #不处理缺失值，无法计算均值"
   ]
  },
  {
   "cell_type": "markdown",
   "metadata": {},
   "source": [
    "**1. 变量选取数据处理：**选取了身高a13和体重a14两个变量"
   ]
  },
  {
   "cell_type": "code",
   "execution_count": 4,
   "metadata": {
    "scrolled": true
   },
   "outputs": [],
   "source": [
    "df1 = pd.DataFrame(df, columns=['a13', 'a14'])\n",
    "df_mean = pd.DataFrame(index = ['a13', 'a14'])\n",
    "for i in range(30):\n",
    "    df_mean[i] = df1.sample(n=1000, random_state=None).mean()#使用sample方法随机抽取数据，并用mean方法算均值\n",
    "df_mean = df_mean.T#样本均值的DataFrame"
   ]
  },
  {
   "cell_type": "markdown",
   "metadata": {},
   "source": [
    "**2. 绘制柱状图**"
   ]
  },
  {
   "cell_type": "code",
   "execution_count": 5,
   "metadata": {},
   "outputs": [
    {
     "data": {
      "image/png": "[encoded data removed]",
      "text/plain": [
       "<Figure size 936x288 with 2 Axes>"
      ]
     },
     "metadata": {
      "needs_background": "light"
     },
     "output_type": "display_data"
    }
   ],
   "source": [
    "fig = plt.figure(figsize=(13,4))#定义一个长为12宽为4英寸的画布\n",
    "ax1 = fig.add_subplot(121)#将画布分为1行2列，从左到右从上到下取第1块\n",
    "#ax1.hist(df_mean.a13,facecolor='purple',edgecolor='black')\n",
    "ax1.bar([i for i in range(1,31)],df_mean.a13,facecolor='purple')\n",
    "ax1.set_xlabel('次数',fontsize=14)\n",
    "ax1.set_ylabel('均值',fontsize=14)\n",
    "ax1.set_title(\"样本身高均值\",fontsize=20)\n",
    "ax2 = fig.add_subplot(122)#将画布分为1行2列，从左到右从上到下取第2块\n",
    "ax2.bar([i for i in range(1,31)],df_mean.a14,color='lightblue')\n",
    "ax2.set_xlabel('次数',fontsize=14)\n",
    "ax2.set_ylabel('均值',fontsize=14)\n",
    "ax2.set_title(\"样本体重均值\",fontsize=20)\n",
    "plt.show()"
   ]
  },
  {
   "cell_type": "markdown",
   "metadata": {},
   "source": [
    "**3. 计算均值的均值**"
   ]
  },
  {
   "cell_type": "code",
   "execution_count": 6,
   "metadata": {
    "scrolled": true
   },
   "outputs": [
    {
     "data": {
      "text/plain": [
       "a13    161.611091\n",
       "a14     99.592449\n",
       "dtype: float64"
      ]
     },
     "execution_count": 6,
     "metadata": {},
     "output_type": "execute_result"
    }
   ],
   "source": [
    "df1.mean()#总体均值"
   ]
  },
  {
   "cell_type": "code",
   "execution_count": 7,
   "metadata": {
    "scrolled": true
   },
   "outputs": [
    {
     "data": {
      "text/plain": [
       "a13    161.652211\n",
       "a14     99.744022\n",
       "dtype: float64"
      ]
     },
     "execution_count": 7,
     "metadata": {},
     "output_type": "execute_result"
    }
   ],
   "source": [
    "df_mean.mean()#样本均值的均值"
   ]
  },
  {
   "cell_type": "markdown",
   "metadata": {},
   "source": [
    "**4. 计算均值标准误：**平均值的标准差 Standard Error of Mean"
   ]
  },
  {
   "cell_type": "code",
   "execution_count": 8,
   "metadata": {},
   "outputs": [
    {
     "data": {
      "text/plain": [
       "a13    0.261817\n",
       "a14    0.765400\n",
       "dtype: float64"
      ]
     },
     "execution_count": 8,
     "metadata": {},
     "output_type": "execute_result"
    }
   ],
   "source": [
    "df_mean.std()#无偏（除的n-1）的均值标准误sem（Standard Error of Mean）"
   ]
  },
  {
   "cell_type": "markdown",
   "metadata": {},
   "source": [
    "### 回归分析"
   ]
  },
  {
   "cell_type": "markdown",
   "metadata": {},
   "source": [
    "+ 请从CEPS.csv数据里挑选若干变量建立回归方程，要求至少三个自变量\n",
    "    + 如，学生的学业成绩受认知水平、家庭收入的影响\n",
    "    + 考虑因变量和自变量间的实质关系，变量间关系应该是有意义\n",
    "    + 选择自变量时，注意变量的类型，如果是分类变量，需要进行编码\n",
    "+ 请报告回归方程的结果，需要包括：\n",
    "    + 模型拟合指标\n",
    "    + 模型的显著性检验结果\n",
    "    + 变量的系数\n",
    "    + 各系数的显著性检验结果\n",
    "    + 对模型结果的解释\n",
    "    "
   ]
  },
  {
   "cell_type": "markdown",
   "metadata": {},
   "source": [
    "**1. 变量选取**"
   ]
  },
  {
   "cell_type": "markdown",
   "metadata": {},
   "source": [
    "> **研究问题：**七年级学生的好朋友个数和对未来的信心对每天晚上的睡觉时间有没有影响？\n",
    "\n",
    "> **变   量：**C19你有几个最好的朋友？C25你对自己的未来有没有信心？B18你平均每天晚上睡多长时间？\n",
    "\n",
    ">**关系假定：**睡眠会受到诸多因素的影响，尤其是一个人的心理状态，因此挑选了对未来的信心和好朋友个数这两个变量来描述样本中学生的心理状态，这两个自变量应当与睡眠时间有着正向的关系。"
   ]
  },
  {
   "cell_type": "code",
   "execution_count": 9,
   "metadata": {},
   "outputs": [],
   "source": [
    "df2 = pd.DataFrame(df, columns=['c19', 'c25', 'b18a', 'b18b'])"
   ]
  },
  {
   "cell_type": "code",
   "execution_count": 10,
   "metadata": {},
   "outputs": [
    {
     "data": {
      "text/html": [
       "<div>\n",
       "<style scoped>\n",
       "    .dataframe tbody tr th:only-of-type {\n",
       "        vertical-align: middle;\n",
       "    }\n",
       "\n",
       "    .dataframe tbody tr th {\n",
       "        vertical-align: top;\n",
       "    }\n",
       "\n",
       "    .dataframe thead th {\n",
       "        text-align: right;\n",
       "    }\n",
       "</style>\n",
       "<table border=\"1\" class=\"dataframe\">\n",
       "  <thead>\n",
       "    <tr style=\"text-align: right;\">\n",
       "      <th></th>\n",
       "      <th>c19</th>\n",
       "      <th>c25</th>\n",
       "      <th>b18a</th>\n",
       "      <th>b18b</th>\n",
       "    </tr>\n",
       "  </thead>\n",
       "  <tbody>\n",
       "    <tr>\n",
       "      <th>0</th>\n",
       "      <td>10.0</td>\n",
       "      <td>4.0</td>\n",
       "      <td>9.0</td>\n",
       "      <td>0.0</td>\n",
       "    </tr>\n",
       "    <tr>\n",
       "      <th>1</th>\n",
       "      <td>31.0</td>\n",
       "      <td>4.0</td>\n",
       "      <td>9.0</td>\n",
       "      <td>0.0</td>\n",
       "    </tr>\n",
       "    <tr>\n",
       "      <th>2</th>\n",
       "      <td>2.0</td>\n",
       "      <td>4.0</td>\n",
       "      <td>8.0</td>\n",
       "      <td>0.0</td>\n",
       "    </tr>\n",
       "    <tr>\n",
       "      <th>3</th>\n",
       "      <td>32.0</td>\n",
       "      <td>3.0</td>\n",
       "      <td>9.0</td>\n",
       "      <td>0.0</td>\n",
       "    </tr>\n",
       "    <tr>\n",
       "      <th>4</th>\n",
       "      <td>2.0</td>\n",
       "      <td>3.0</td>\n",
       "      <td>7.0</td>\n",
       "      <td>30.0</td>\n",
       "    </tr>\n",
       "  </tbody>\n",
       "</table>\n",
       "</div>"
      ],
      "text/plain": [
       "    c19  c25  b18a  b18b\n",
       "0  10.0  4.0   9.0   0.0\n",
       "1  31.0  4.0   9.0   0.0\n",
       "2   2.0  4.0   8.0   0.0\n",
       "3  32.0  3.0   9.0   0.0\n",
       "4   2.0  3.0   7.0  30.0"
      ]
     },
     "execution_count": 10,
     "metadata": {},
     "output_type": "execute_result"
    }
   ],
   "source": [
    "df2.head()"
   ]
  },
  {
   "cell_type": "markdown",
   "metadata": {},
   "source": [
    "**2. 数据处理**"
   ]
  },
  {
   "cell_type": "markdown",
   "metadata": {},
   "source": [
    "> **1> b18a和b18b的重定义：**将B18的数据进行调整，原数据中b18a存的是小时，b18b存的是分钟。为了统一口径，先将b18b的数据转化为小时变量b18c，再将b18a和b18c共同整合（加起来）为b18变量。"
   ]
  },
  {
   "cell_type": "code",
   "execution_count": 11,
   "metadata": {
    "scrolled": false
   },
   "outputs": [
    {
     "data": {
      "text/html": [
       "<div>\n",
       "<style scoped>\n",
       "    .dataframe tbody tr th:only-of-type {\n",
       "        vertical-align: middle;\n",
       "    }\n",
       "\n",
       "    .dataframe tbody tr th {\n",
       "        vertical-align: top;\n",
       "    }\n",
       "\n",
       "    .dataframe thead th {\n",
       "        text-align: right;\n",
       "    }\n",
       "</style>\n",
       "<table border=\"1\" class=\"dataframe\">\n",
       "  <thead>\n",
       "    <tr style=\"text-align: right;\">\n",
       "      <th></th>\n",
       "      <th>c19</th>\n",
       "      <th>c25</th>\n",
       "      <th>b18</th>\n",
       "      <th>b18a</th>\n",
       "      <th>b18b</th>\n",
       "      <th>b18c</th>\n",
       "    </tr>\n",
       "  </thead>\n",
       "  <tbody>\n",
       "    <tr>\n",
       "      <th>0</th>\n",
       "      <td>10.0</td>\n",
       "      <td>4.0</td>\n",
       "      <td>9.0</td>\n",
       "      <td>9.0</td>\n",
       "      <td>0.0</td>\n",
       "      <td>0.0</td>\n",
       "    </tr>\n",
       "    <tr>\n",
       "      <th>1</th>\n",
       "      <td>31.0</td>\n",
       "      <td>4.0</td>\n",
       "      <td>9.0</td>\n",
       "      <td>9.0</td>\n",
       "      <td>0.0</td>\n",
       "      <td>0.0</td>\n",
       "    </tr>\n",
       "    <tr>\n",
       "      <th>2</th>\n",
       "      <td>2.0</td>\n",
       "      <td>4.0</td>\n",
       "      <td>8.0</td>\n",
       "      <td>8.0</td>\n",
       "      <td>0.0</td>\n",
       "      <td>0.0</td>\n",
       "    </tr>\n",
       "    <tr>\n",
       "      <th>3</th>\n",
       "      <td>32.0</td>\n",
       "      <td>3.0</td>\n",
       "      <td>9.0</td>\n",
       "      <td>9.0</td>\n",
       "      <td>0.0</td>\n",
       "      <td>0.0</td>\n",
       "    </tr>\n",
       "    <tr>\n",
       "      <th>4</th>\n",
       "      <td>2.0</td>\n",
       "      <td>3.0</td>\n",
       "      <td>7.5</td>\n",
       "      <td>7.0</td>\n",
       "      <td>30.0</td>\n",
       "      <td>0.5</td>\n",
       "    </tr>\n",
       "  </tbody>\n",
       "</table>\n",
       "</div>"
      ],
      "text/plain": [
       "    c19  c25  b18  b18a  b18b  b18c\n",
       "0  10.0  4.0  9.0   9.0   0.0   0.0\n",
       "1  31.0  4.0  9.0   9.0   0.0   0.0\n",
       "2   2.0  4.0  8.0   8.0   0.0   0.0\n",
       "3  32.0  3.0  9.0   9.0   0.0   0.0\n",
       "4   2.0  3.0  7.5   7.0  30.0   0.5"
      ]
     },
     "execution_count": 11,
     "metadata": {},
     "output_type": "execute_result"
    }
   ],
   "source": [
    "#df2.pop('b18c')#测试时删除b18c这一列的数据\n",
    "df2.insert(4,'b18c',df2.b18b/60)#将b18b转化后添加到新生成的b18c中\n",
    "#df2.pop('b18')#测试时删除b18这一列的数据\n",
    "df2.insert(2,'b18',df2.b18a+df2.b18c)#将b18c和b18a求和后添加到新生成的b18中\n",
    "df2.head()"
   ]
  },
  {
   "cell_type": "markdown",
   "metadata": {},
   "source": [
    "> **2> 数据清洗：**\n",
    "   + 从描述统计和直方图中可以看出，b18(睡眠时间)集中在5-15小时之间，存在着零小时及超过24小时的异常数据。因此根据生活经验和查阅资料，决定剔除这些异常数据，截取睡眠时间在(0-12)小时之间的数据。\n",
    "   + 同时剔除含有缺失值的样本。\n",
    "   + 从df2中取出b18,c19,c25三组数据"
   ]
  },
  {
   "cell_type": "code",
   "execution_count": 12,
   "metadata": {
    "scrolled": true
   },
   "outputs": [
    {
     "data": {
      "text/html": [
       "<div>\n",
       "<style scoped>\n",
       "    .dataframe tbody tr th:only-of-type {\n",
       "        vertical-align: middle;\n",
       "    }\n",
       "\n",
       "    .dataframe tbody tr th {\n",
       "        vertical-align: top;\n",
       "    }\n",
       "\n",
       "    .dataframe thead th {\n",
       "        text-align: right;\n",
       "    }\n",
       "</style>\n",
       "<table border=\"1\" class=\"dataframe\">\n",
       "  <thead>\n",
       "    <tr style=\"text-align: right;\">\n",
       "      <th></th>\n",
       "      <th>c19</th>\n",
       "      <th>c25</th>\n",
       "      <th>b18</th>\n",
       "      <th>b18a</th>\n",
       "      <th>b18b</th>\n",
       "      <th>b18c</th>\n",
       "    </tr>\n",
       "  </thead>\n",
       "  <tbody>\n",
       "    <tr>\n",
       "      <th>count</th>\n",
       "      <td>18907.000000</td>\n",
       "      <td>19322.000000</td>\n",
       "      <td>18772.000000</td>\n",
       "      <td>19199.000000</td>\n",
       "      <td>18797.000000</td>\n",
       "      <td>18797.000000</td>\n",
       "    </tr>\n",
       "    <tr>\n",
       "      <th>mean</th>\n",
       "      <td>10.967631</td>\n",
       "      <td>3.211158</td>\n",
       "      <td>7.992587</td>\n",
       "      <td>7.797489</td>\n",
       "      <td>11.776826</td>\n",
       "      <td>0.196280</td>\n",
       "    </tr>\n",
       "    <tr>\n",
       "      <th>std</th>\n",
       "      <td>14.991969</td>\n",
       "      <td>0.720089</td>\n",
       "      <td>1.632974</td>\n",
       "      <td>1.636720</td>\n",
       "      <td>15.321265</td>\n",
       "      <td>0.255354</td>\n",
       "    </tr>\n",
       "    <tr>\n",
       "      <th>min</th>\n",
       "      <td>0.000000</td>\n",
       "      <td>1.000000</td>\n",
       "      <td>0.000000</td>\n",
       "      <td>0.000000</td>\n",
       "      <td>0.000000</td>\n",
       "      <td>0.000000</td>\n",
       "    </tr>\n",
       "    <tr>\n",
       "      <th>25%</th>\n",
       "      <td>4.000000</td>\n",
       "      <td>3.000000</td>\n",
       "      <td>7.000000</td>\n",
       "      <td>7.000000</td>\n",
       "      <td>0.000000</td>\n",
       "      <td>0.000000</td>\n",
       "    </tr>\n",
       "    <tr>\n",
       "      <th>50%</th>\n",
       "      <td>6.000000</td>\n",
       "      <td>3.000000</td>\n",
       "      <td>8.000000</td>\n",
       "      <td>8.000000</td>\n",
       "      <td>0.000000</td>\n",
       "      <td>0.000000</td>\n",
       "    </tr>\n",
       "    <tr>\n",
       "      <th>75%</th>\n",
       "      <td>10.000000</td>\n",
       "      <td>4.000000</td>\n",
       "      <td>9.000000</td>\n",
       "      <td>9.000000</td>\n",
       "      <td>30.000000</td>\n",
       "      <td>0.500000</td>\n",
       "    </tr>\n",
       "    <tr>\n",
       "      <th>max</th>\n",
       "      <td>99.000000</td>\n",
       "      <td>4.000000</td>\n",
       "      <td>41.333333</td>\n",
       "      <td>41.000000</td>\n",
       "      <td>59.000000</td>\n",
       "      <td>0.983333</td>\n",
       "    </tr>\n",
       "  </tbody>\n",
       "</table>\n",
       "</div>"
      ],
      "text/plain": [
       "                c19           c25           b18          b18a          b18b  \\\n",
       "count  18907.000000  19322.000000  18772.000000  19199.000000  18797.000000   \n",
       "mean      10.967631      3.211158      7.992587      7.797489     11.776826   \n",
       "std       14.991969      0.720089      1.632974      1.636720     15.321265   \n",
       "min        0.000000      1.000000      0.000000      0.000000      0.000000   \n",
       "25%        4.000000      3.000000      7.000000      7.000000      0.000000   \n",
       "50%        6.000000      3.000000      8.000000      8.000000      0.000000   \n",
       "75%       10.000000      4.000000      9.000000      9.000000     30.000000   \n",
       "max       99.000000      4.000000     41.333333     41.000000     59.000000   \n",
       "\n",
       "               b18c  \n",
       "count  18797.000000  \n",
       "mean       0.196280  \n",
       "std        0.255354  \n",
       "min        0.000000  \n",
       "25%        0.000000  \n",
       "50%        0.000000  \n",
       "75%        0.500000  \n",
       "max        0.983333  "
      ]
     },
     "execution_count": 12,
     "metadata": {},
     "output_type": "execute_result"
    }
   ],
   "source": [
    "df2.describe()"
   ]
  },
  {
   "cell_type": "code",
   "execution_count": 14,
   "metadata": {
    "scrolled": true
   },
   "outputs": [
    {
     "data": {
      "image/png": "[encoded data removed]",
      "text/plain": [
       "<Figure size 432x288 with 3 Axes>"
      ]
     },
     "metadata": {
      "needs_background": "light"
     },
     "output_type": "display_data"
    }
   ],
   "source": [
    "fig2 = plt.figure()\n",
    "ax3 = fig2.add_subplot(321)\n",
    "ax3.hist(df2.b18,facecolor='white',edgecolor='purple')\n",
    "ax3.set_title(\"b18平均每天睡眠时间\",fontsize=14)\n",
    "ax4 = fig2.add_subplot(322)\n",
    "ax4.hist(df2.c19,facecolor='white',edgecolor='purple')\n",
    "ax4.set_title(\"c19好朋友个数\",fontsize=14)\n",
    "ax5 = fig2.add_subplot(212)\n",
    "ax5.barh([i for i in range(1,5)],df2.c25.value_counts().sort_index())\n",
    "ax5.set_title(\"c25对未来的信心\",fontsize=14)\n",
    "plt.show()"
   ]
  },
  {
   "cell_type": "code",
   "execution_count": 15,
   "metadata": {},
   "outputs": [
    {
     "data": {
      "text/html": [
       "<div>\n",
       "<style scoped>\n",
       "    .dataframe tbody tr th:only-of-type {\n",
       "        vertical-align: middle;\n",
       "    }\n",
       "\n",
       "    .dataframe tbody tr th {\n",
       "        vertical-align: top;\n",
       "    }\n",
       "\n",
       "    .dataframe thead th {\n",
       "        text-align: right;\n",
       "    }\n",
       "</style>\n",
       "<table border=\"1\" class=\"dataframe\">\n",
       "  <thead>\n",
       "    <tr style=\"text-align: right;\">\n",
       "      <th></th>\n",
       "      <th>b18</th>\n",
       "      <th>c19</th>\n",
       "      <th>c25</th>\n",
       "    </tr>\n",
       "  </thead>\n",
       "  <tbody>\n",
       "    <tr>\n",
       "      <th>0</th>\n",
       "      <td>9.0</td>\n",
       "      <td>10.0</td>\n",
       "      <td>4.0</td>\n",
       "    </tr>\n",
       "    <tr>\n",
       "      <th>1</th>\n",
       "      <td>9.0</td>\n",
       "      <td>31.0</td>\n",
       "      <td>4.0</td>\n",
       "    </tr>\n",
       "    <tr>\n",
       "      <th>2</th>\n",
       "      <td>8.0</td>\n",
       "      <td>2.0</td>\n",
       "      <td>4.0</td>\n",
       "    </tr>\n",
       "    <tr>\n",
       "      <th>3</th>\n",
       "      <td>9.0</td>\n",
       "      <td>32.0</td>\n",
       "      <td>3.0</td>\n",
       "    </tr>\n",
       "    <tr>\n",
       "      <th>4</th>\n",
       "      <td>7.5</td>\n",
       "      <td>2.0</td>\n",
       "      <td>3.0</td>\n",
       "    </tr>\n",
       "  </tbody>\n",
       "</table>\n",
       "</div>"
      ],
      "text/plain": [
       "   b18   c19  c25\n",
       "0  9.0  10.0  4.0\n",
       "1  9.0  31.0  4.0\n",
       "2  8.0   2.0  4.0\n",
       "3  9.0  32.0  3.0\n",
       "4  7.5   2.0  3.0"
      ]
     },
     "execution_count": 15,
     "metadata": {},
     "output_type": "execute_result"
    }
   ],
   "source": [
    "df3 = df2[['b18','c19','c25']][(df2.b18>0)&(df2.b18<12)].dropna(axis=0,how='any')\n",
    "df3.head()"
   ]
  },
  {
   "cell_type": "markdown",
   "metadata": {},
   "source": [
    "**3. 建立模型**"
   ]
  },
  {
   "cell_type": "code",
   "execution_count": 16,
   "metadata": {},
   "outputs": [],
   "source": [
    "import statsmodels.api as sm\n",
    "import statsmodels.formula.api as smf"
   ]
  },
  {
   "cell_type": "code",
   "execution_count": 17,
   "metadata": {},
   "outputs": [
    {
     "name": "stdout",
     "output_type": "stream",
     "text": [
      "[0.01213674 2.31328086]\n",
      "                            OLS Regression Results                            \n",
      "==============================================================================\n",
      "Dep. Variable:                      y   R-squared:                       0.935\n",
      "Model:                            OLS   Adj. R-squared:                  0.935\n",
      "Method:                 Least Squares   F-statistic:                 1.292e+05\n",
      "Date:                Fri, 28 Dec 2018   Prob (F-statistic):               0.00\n",
      "Time:                        10:38:49   Log-Likelihood:                -38331.\n",
      "No. Observations:               17959   AIC:                         7.667e+04\n",
      "Df Residuals:                   17957   BIC:                         7.668e+04\n",
      "Df Model:                           2                                         \n",
      "Covariance Type:            nonrobust                                         \n",
      "==============================================================================\n",
      "                 coef    std err          t      P>|t|      [0.025      0.975]\n",
      "------------------------------------------------------------------------------\n",
      "x1             0.0121      0.001     11.768      0.000       0.010       0.014\n",
      "x2             2.3133      0.006    402.976      0.000       2.302       2.325\n",
      "==============================================================================\n",
      "Omnibus:                      126.380   Durbin-Watson:                   1.656\n",
      "Prob(Omnibus):                  0.000   Jarque-Bera (JB):              171.234\n",
      "Skew:                           0.098   Prob(JB):                     6.56e-38\n",
      "Kurtosis:                       3.437   Cond. No.                         6.98\n",
      "==============================================================================\n",
      "\n",
      "Warnings:\n",
      "[1] Standard Errors assume that the covariance matrix of the errors is correctly specified.\n"
     ]
    }
   ],
   "source": [
    "model_x= ['c19','c25']\n",
    "X = df3.loc[ :,model_x].values\n",
    "y=df3['b18'].values\n",
    "model = sm.OLS(y, X)\n",
    "results = model.fit()\n",
    "print(results.params)#系数\n",
    "print(results.summary())#显示模型的详细结果"
   ]
  },
  {
   "cell_type": "markdown",
   "metadata": {},
   "source": [
    "**4. 结果分析**"
   ]
  },
  {
   "cell_type": "markdown",
   "metadata": {},
   "source": [
    "> **1>模型拟合指标:**R-squared的值为0.935，大于0.9，表明模型的拟合效果好。\n",
    "\n",
    "> **2>模型的显著性检验结果:**F值为2733，对应的p值接近0，可以在1%的显著性水平下认为模型是显著的。\n",
    "\n",
    "> **3>变量的系数:**\n",
    ">> **x1(c19好朋友个数)：**系数为*0.01213674*，其与因变量b18(平均每天睡眠时间)是正相关的，但是对因变量的影响较微弱。\n",
    "\n",
    ">> **x2(c25对未来的信心)：**系数为*2.31328086*，对因变量(睡眠时间)有着较大的正向影响，即调查样本中的七年级学生对自己的未来越有信心，其睡眠时间就相对地越长。\n",
    "\n",
    "> **4>各系数的显著性检验结果:**x1与x2的p值均接近于0，远小于显著水平0.01，即两个变量对因变量的解释效果是显著的。\n",
    "\n",
    "> **5> 对模型结果的解释：**\n",
    ">> 该模型说明七年级学生的好朋友个数和对未来的信心对其每天晚上的睡觉时间是有着积极的影响的。\n",
    "\n",
    ">> 具体来说，七年级学生对自己的未来越有信心，其睡眠时间(在0-12小时的范围内)就会显著地变长；而相对来说，好朋友的个数对提升学生的睡眠时间有着积极的影响，但是效果却并不是很显著。\n",
    "\n",
    "> **6> 建议：**青少年是祖国未来发展的重要支撑，青少年的身体健康是关乎国计民生的重大问题，而睡眠对青少年身体健康有着及其重要的影响。为了青少年的健康成长与我们整个国家未来的长远发展考虑，结合模型分析结果，我认为我们不必局限于过去的传统观点：通过减轻课业负担来提升青少年的睡眠质量。而是可以从青少年对未来的信心这点入手，平时多拓展学生们的娱乐生活，多接触社会散发出的正能量，积极的教育他们，让他们怀着积极向上的心态，对未来保持信心，以此间接地改善青少年的睡眠质量，增强青少年的体质。"
   ]
  }
 ],
 "metadata": {
  "kernelspec": {
   "display_name": "Python 3",
   "language": "python",
   "name": "python3"
  },
  "language_info": {
   "codemirror_mode": {
    "name": "ipython",
    "version": 3
   },
   "file_extension": ".py",
   "mimetype": "text/x-python",
   "name": "python",
   "nbconvert_exporter": "python",
   "pygments_lexer": "ipython3",
   "version": "3.6.7"
  },
  "toc": {
   "base_numbering": 1,
   "nav_menu": {},
   "number_sections": true,
   "sideBar": true,
   "skip_h1_title": false,
   "title_cell": "Table of Contents",
   "title_sidebar": "Contents",
   "toc_cell": false,
   "toc_position": {},
   "toc_section_display": true,
   "toc_window_display": false
  }
 },
 "nbformat": 4,
 "nbformat_minor": 2
}
