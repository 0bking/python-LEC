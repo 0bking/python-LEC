{
 "cells": [
  {
   "cell_type": "markdown",
   "metadata": {},
   "source": [
    "## 课程论文"
   ]
  },
  {
   "cell_type": "markdown",
   "metadata": {},
   "source": [
    " 请务必交到exer8文件夹下，**谢绝交到master下**\n",
    "+ 请不要改动任何文件，拜托\n",
    "+ 请于12月30日前先在github上提交\n",
    "+ 请在元旦后提交纸质版，将本页面文件先打印为pdf格式，再去打印店付印\n",
    "+ 请将论文模板和本页面文件一起装订，前者放上面，本页面文件放下面\n",
    "+ 纸质版提交时间和地点请留意微信群通知"
   ]
  },
  {
   "cell_type": "markdown",
   "metadata": {},
   "source": [
    "请写一下姓名和学号：\n",
    "+ 姓名  ：张凡\n",
    "+ 学号  ：0165194"
   ]
  },
  {
   "cell_type": "markdown",
   "metadata": {},
   "source": [
    "### 样本均值分布的统计试验"
   ]
  },
  {
   "cell_type": "markdown",
   "metadata": {},
   "source": [
    "+ 请将CEPS.csv数据读入python\n",
    "+ 请从中随机抽取1000个数据\n",
    "+ 请根据问卷从数据中挑选两个连续型变量（likert量表可以近似看作连续变量）\n",
    "+ 计算这两个连续变量的均值\n",
    "+ 重复随机抽取—计算均值这个过程30次，得到两个变量30个样本均值\n",
    "+ 绘制这30个样本均值的直方图\n",
    "+ 计算均值的均值和标准误"
   ]
  },
  {
   "cell_type": "code",
   "execution_count": 1,
   "metadata": {
    "collapsed": true
   },
   "outputs": [],
   "source": [
    "%matplotlib inline\n",
    "import numpy as np\n",
    "import pandas as pd\n",
    "import matplotlib.pyplot as plt\n",
    "import matplotlib\n",
    "from matplotlib.ticker import MultipleLocator, FormatStrFormatter\n",
    "plt.rcParams['font.sans-serif']=['SimHei']\n",
    "plt.rcParams['axes.unicode_minus']=False"
   ]
  },
  {
   "cell_type": "markdown",
   "metadata": {},
   "source": [
    "+ 请将CEPS.csv数据读入python"
   ]
  },
  {
   "cell_type": "code",
   "execution_count": 2,
   "metadata": {
    "scrolled": true
   },
   "outputs": [
    {
     "name": "stderr",
     "output_type": "stream",
     "text": [
      "D:\\files\\Anaconda\\lib\\site-packages\\IPython\\core\\interactiveshell.py:2717: DtypeWarning: Columns (20,22,23,25,28,29,39,49,74,124,125,126,127,128,129,130,131,138,140,141,147,160,161,162,165,170,174,175,176,177,179,180,181,182,183,184,188,191,194,195,196,199,221,222,223,224,251,252,254,289,290,294,295,296) have mixed types. Specify dtype option on import or set low_memory=False.\n",
      "  interactivity=interactivity, compiler=compiler, result=result)\n"
     ]
    }
   ],
   "source": [
    "#导入数据\n",
    "sentinels = {'a13': [' '], 'a14': [' ']}\n",
    "df = pd.read_csv('CEPS.csv',encoding='gb2312', na_values=sentinels)"
   ]
  },
  {
   "cell_type": "markdown",
   "metadata": {},
   "source": [
    "+ 请从中随机抽取1000个数据\n",
    "+ 请根据问卷从数据中挑选两个连续型变量（likert量表可以近似看作连续变量）\n",
    "+ 计算这两个连续变量的均值"
   ]
  },
  {
   "cell_type": "code",
   "execution_count": 3,
   "metadata": {},
   "outputs": [
    {
     "name": "stdout",
     "output_type": "stream",
     "text": [
      "本组目前身高均值为：161.59厘米\n",
      "本组目前体重均值为：100.29斤\n"
     ]
    }
   ],
   "source": [
    "df1=df.sample(n=1000)   #随机抽取1000个样本数据\n",
    "\n",
    "#选取 A13：目前的身高   A14：目前的体重 两个变量\n",
    "mean_height1=df1['a13'].mean()\n",
    "mean_weight1=df1['a14'].mean()\n",
    "print('本组目前身高均值为：%.2f厘米'%mean_height1)\n",
    "print('本组目前体重均值为：%.2f斤'%mean_weight1)"
   ]
  },
  {
   "cell_type": "markdown",
   "metadata": {},
   "source": [
    "+ 重复随机抽取—计算均值这个过程30次，得到两个变量30个样本均值"
   ]
  },
  {
   "cell_type": "code",
   "execution_count": 4,
   "metadata": {},
   "outputs": [
    {
     "name": "stdout",
     "output_type": "stream",
     "text": [
      "目前的身高：\n",
      "\n",
      "{1: 161.60887512899896, 2: 161.75025693730728, 3: 161.47835051546392, 4: 161.48136645962734, 5: 161.5770423991727, 6: 162.09474768280123, 7: 161.73319544984489, 8: 161.39148494288682, 9: 161.58333333333334, 10: 161.57512953367876, 11: 161.9007238883144, 12: 161.98867147270855, 13: 161.7006172839506, 14: 161.65173116089613, 15: 161.85077720207255, 16: 161.34397528321318, 17: 161.42105263157896, 18: 161.0421377183967, 19: 161.987525987526, 20: 161.35706914344686, 21: 161.2996878251821, 22: 161.53476482617586, 23: 161.50672182006204, 24: 161.0112704918033, 25: 161.38343558282207, 26: 161.75541795665634, 27: 161.77385892116183, 28: 161.61243523316062, 29: 161.26440329218107, 30: 161.87318087318087}\n",
      "\n",
      "目前的体重：\n",
      "\n",
      "{1: 98.29122055674519, 2: 100.2849344978166, 3: 99.19623059866963, 4: 98.88499452354874, 5: 99.27886710239652, 6: 100.52895322939867, 7: 99.36681222707423, 8: 99.57344940152339, 9: 98.37024972855592, 10: 99.1529933481153, 11: 98.58096280087527, 12: 100.03683640303359, 13: 100.17086527929901, 14: 99.87553648068669, 15: 99.71943231441048, 16: 99.10687022900764, 17: 99.70928961748633, 18: 98.45806451612903, 19: 98.99010989010989, 20: 99.43924191750278, 21: 98.69683751363141, 22: 99.53536452665941, 23: 99.95846994535519, 24: 98.06223175965665, 25: 100.12553648068669, 26: 100.29144095341279, 27: 101.06637649619151, 28: 98.9500542888165, 29: 98.61123110151188, 30: 99.92096597145994}\n"
     ]
    }
   ],
   "source": [
    "count=0\n",
    "mean_height={}\n",
    "mean_weight={}\n",
    "\n",
    "while count<30:\n",
    "    df_a=df.sample(n=1000)    #随机抽取样本\n",
    "    mean_height_a=df_a['a13'].mean()     #计算均值 ，并将均值添加进字典\n",
    "    mean_height[count+1]=mean_height_a\n",
    "        \n",
    "    mean_weight_a=df_a['a14'].mean()    \n",
    "    mean_weight[count+1]=mean_weight_a\n",
    "    \n",
    "    count=count+1\n",
    "print('目前的身高：\\n')    \n",
    "print(mean_height)\n",
    "print('\\n目前的体重：\\n')\n",
    "print(mean_weight)\n",
    "\n",
    "    "
   ]
  },
  {
   "cell_type": "markdown",
   "metadata": {},
   "source": [
    "+ 绘制这30个样本均值的直方图"
   ]
  },
  {
   "cell_type": "code",
   "execution_count": 5,
   "metadata": {},
   "outputs": [
    {
     "data": {
      "image/png": "[encoded data removed]",
      "text/plain": [
       "<matplotlib.figure.Figure at 0x6622261550>"
      ]
     },
     "metadata": {},
     "output_type": "display_data"
    }
   ],
   "source": [
    "ind = np.arange(len(mean_height.values()))  # the x locations for the groups\n",
    "width = 0.35  # the width of the bars\n",
    "\n",
    "fig, ax = plt.subplots()\n",
    "rects1 = ax.bar(ind - width/2, mean_height.values(), width, \n",
    "                color='SkyBlue', label='身高均值')\n",
    "\n",
    "\n",
    "# Add some text for labels, title and custom x-axis tick labels, etc.\n",
    "ax.set_ylabel('身高')\n",
    "ax.set_title('随机抽取样本的身高均值')\n",
    "ax.set_xticks(ind)\n",
    "ax.set_xticklabels(mean_height.keys())\n",
    "ax.legend()\n",
    "ax.set_ylim(140,170)\n",
    "\n",
    "def autolabel(rects, xpos='center'):\n",
    "    \"\"\"\n",
    "    Attach a text label above each bar in *rects*, displaying its height.\n",
    "\n",
    "    *xpos* indicates which side to place the text w.r.t. the center of\n",
    "    the bar. It can be one of the following {'center', 'right', 'left'}.\n",
    "    \"\"\"\n",
    "\n",
    "    xpos = xpos.lower()  # normalize the case of the parameter\n",
    "    ha = {'center': 'center', 'right': 'left', 'left': 'right'}\n",
    "    offset = {'center': 0.5, 'right': 0.57, 'left': 0.43}  # x_txt = x + w*off\n",
    "\n",
    "    for rect in rects:\n",
    "        height = rect.get_height()\n",
    "        ax.text(rect.get_x() + rect.get_width()*offset[xpos], 1.01*height,\n",
    "                '{}'.format(height), ha=ha[xpos], va='bottom')\n",
    "\n",
    "\n",
    "\n",
    "plt.show()"
   ]
  },
  {
   "cell_type": "code",
   "execution_count": 6,
   "metadata": {
    "scrolled": true
   },
   "outputs": [
    {
     "data": {
      "image/png": "[encoded data removed]",
      "text/plain": [
       "<matplotlib.figure.Figure at 0x6625e173c8>"
      ]
     },
     "metadata": {},
     "output_type": "display_data"
    }
   ],
   "source": [
    "ind = np.arange(len(mean_weight.values()))  # the x locations for the groups\n",
    "width = 0.35  # the width of the bars\n",
    "\n",
    "fig, ax = plt.subplots()\n",
    "rects1 = ax.bar(ind - width/2, mean_weight.values(), width, \n",
    "                color='SkyBlue', label='体重均值')\n",
    "\n",
    "\n",
    "# Add some text for labels, title and custom x-axis tick labels, etc.\n",
    "ax.set_ylabel('体重')\n",
    "ax.set_title('随机抽取样本的体重均值')\n",
    "ax.set_xticks(ind)\n",
    "ax.set_xticklabels(mean_weight.keys())\n",
    "ax.legend()\n",
    "ax.set_ylim(80,110)\n",
    "\n",
    "def autolabel(rects, xpos='center'):\n",
    "    \"\"\"\n",
    "    Attach a text label above each bar in *rects*, displaying its height.\n",
    "\n",
    "    *xpos* indicates which side to place the text w.r.t. the center of\n",
    "    the bar. It can be one of the following {'center', 'right', 'left'}.\n",
    "    \"\"\"\n",
    "\n",
    "    xpos = xpos.lower()  # normalize the case of the parameter\n",
    "    ha = {'center': 'center', 'right': 'left', 'left': 'right'}\n",
    "    offset = {'center': 0.5, 'right': 0.57, 'left': 0.43}  # x_txt = x + w*off\n",
    "\n",
    "    for rect in rects:\n",
    "        height = rect.get_height()\n",
    "        ax.text(rect.get_x() + rect.get_width()*offset[xpos], 1.01*height,\n",
    "                '{}'.format(height), ha=ha[xpos], va='bottom')\n",
    "\n",
    "\n",
    "\n",
    "plt.show()"
   ]
  },
  {
   "cell_type": "markdown",
   "metadata": {},
   "source": [
    "+ 计算均值的均值和标准误"
   ]
  },
  {
   "cell_type": "code",
   "execution_count": 7,
   "metadata": {},
   "outputs": [
    {
     "name": "stdout",
     "output_type": "stream",
     "text": [
      "身高和体重的样本均值的均值如下：\n",
      "\n",
      "height    161.584441\n",
      "weight     99.407814\n",
      "dtype: float64\n",
      "\n",
      "身高和体重的标准误如下：\n",
      "\n",
      "height    0.264268\n",
      "weight    0.738231\n",
      "dtype: float64\n"
     ]
    }
   ],
   "source": [
    "#将样本均值转为列表形式\n",
    "height=[]\n",
    "for i in mean_height.values():\n",
    "    height.append(i)\n",
    "    \n",
    "weight=[]\n",
    "for i in mean_weight.values():\n",
    "    weight.append(i)\n",
    "    \n",
    "average={'height':height,\n",
    "         'weight':weight,\n",
    "        }\n",
    "frame = pd.DataFrame(average,index=mean_height.keys())\n",
    "\n",
    "#计算30个样本均值的均值和标准误\n",
    "print('身高和体重的样本均值的均值如下：\\n')\n",
    "print(frame.mean())\n",
    "print('\\n身高和体重的标准误如下：\\n')\n",
    "print(frame.std())"
   ]
  },
  {
   "cell_type": "markdown",
   "metadata": {},
   "source": [
    "### 回归分析"
   ]
  },
  {
   "cell_type": "markdown",
   "metadata": {},
   "source": [
    "+ 请从CEPS.csv数据里挑选若干变量建立回归方程，要求至少三个自变量\n",
    "    + 如，学生的学业成绩受认知水平、家庭收入的影响\n",
    "    + 考虑因变量和自变量间的实质关系，变量间关系应该是有意义\n",
    "    + 选择自变量时，注意变量的类型，如果是分类变量，需要进行编码\n",
    "\n",
    "+ 请报告回归方程的结果，需要包括：\n",
    "    + 模型拟合指标\n",
    "    + 模型的显著性检验结果\n",
    "    + 变量的系数\n",
    "    + 各系数的显著性检验结果\n",
    "    + 对模型结果的解释"
   ]
  },
  {
   "cell_type": "markdown",
   "metadata": {},
   "source": [
    "+ 步骤如下：\n",
    "+ 取 数学对我的未来有帮助 做因变量y\n",
    "+ 取 “目前是否觉得数学学起来吃力” 、“数学老师经常提问我”、“ 数学老师经常表扬我”做自变量x0、x1、x2"
   ]
  },
  {
   "cell_type": "code",
   "execution_count": 8,
   "metadata": {
    "collapsed": true
   },
   "outputs": [],
   "source": [
    "%matplotlib inline\n",
    "import statsmodels.api as sm\n",
    "import statsmodels.formula.api as smf\n",
    "import numpy as np\n",
    "import pandas as pd"
   ]
  },
  {
   "cell_type": "code",
   "execution_count": 9,
   "metadata": {},
   "outputs": [
    {
     "name": "stderr",
     "output_type": "stream",
     "text": [
      "D:\\files\\Anaconda\\lib\\site-packages\\IPython\\core\\interactiveshell.py:2717: DtypeWarning: Columns (20,22,23,25,28,29,39,49,74,124,125,126,127,128,129,130,131,138,140,141,147,160,161,162,165,170,174,175,176,177,179,180,181,182,183,184,188,194,196,199,221,222,223,224,251,252,254,289,290,294,295,296) have mixed types. Specify dtype option on import or set low_memory=False.\n",
      "  interactivity=interactivity, compiler=compiler, result=result)\n"
     ]
    }
   ],
   "source": [
    "#导入数据\n",
    "sentinels = {'c1101': [' '], 'c1301': [' '], 'c1304': [' '], 'c1307': [' ']}\n",
    "df = pd.read_csv('CEPS.csv',encoding='gb2312', na_values=sentinels)\n",
    "df2=df.sample(n=1000)   #随机抽取1000个样本数据\n"
   ]
  },
  {
   "cell_type": "code",
   "execution_count": 11,
   "metadata": {
    "collapsed": true
   },
   "outputs": [],
   "source": [
    "#单独取出因变量与自变量建立数据框\n",
    "data = pd.DataFrame({\n",
    "    'x0': df2.c1101,\n",
    "    'x1': df2.c1304,\n",
    "    'x2': df2.c1307,\n",
    "    'y': df2.c1301})\n",
    "\n",
    "data=data.dropna(axis=0,how='any')  #删除缺失值所在样本\n"
   ]
  },
  {
   "cell_type": "code",
   "execution_count": 12,
   "metadata": {
    "collapsed": true
   },
   "outputs": [],
   "source": [
    "#构建自变量\n",
    "model_x= ['x0', 'x1','x2']\n",
    "X = data.loc[ :,model_x].values\n"
   ]
  },
  {
   "cell_type": "code",
   "execution_count": 13,
   "metadata": {
    "collapsed": true
   },
   "outputs": [],
   "source": [
    "#构建因变量\n",
    "y=data['y'].values\n"
   ]
  },
  {
   "cell_type": "code",
   "execution_count": 14,
   "metadata": {
    "collapsed": true,
    "scrolled": true
   },
   "outputs": [],
   "source": [
    "model = sm.OLS(y, X)    #拟合普通最小二乘回归\n",
    "results = model.fit()"
   ]
  },
  {
   "cell_type": "code",
   "execution_count": 15,
   "metadata": {},
   "outputs": [
    {
     "data": {
      "text/plain": [
       "array([ 0.44217855,  0.51920303,  0.26755919])"
      ]
     },
     "execution_count": 15,
     "metadata": {},
     "output_type": "execute_result"
    }
   ],
   "source": [
    "results.params  #各变量系数"
   ]
  },
  {
   "cell_type": "code",
   "execution_count": 16,
   "metadata": {},
   "outputs": [
    {
     "name": "stdout",
     "output_type": "stream",
     "text": [
      "                            OLS Regression Results                            \n",
      "==============================================================================\n",
      "Dep. Variable:                      y   R-squared:                       0.915\n",
      "Model:                            OLS   Adj. R-squared:                  0.915\n",
      "Method:                 Least Squares   F-statistic:                     3526.\n",
      "Date:                Wed, 26 Dec 2018   Prob (F-statistic):               0.00\n",
      "Time:                        21:39:12   Log-Likelihood:                -1351.9\n",
      "No. Observations:                 982   AIC:                             2710.\n",
      "Df Residuals:                     979   BIC:                             2725.\n",
      "Df Model:                           3                                         \n",
      "Covariance Type:            nonrobust                                         \n",
      "==============================================================================\n",
      "                 coef    std err          t      P>|t|      [95.0% Conf. Int.]\n",
      "------------------------------------------------------------------------------\n",
      "x1             0.4422      0.031     14.282      0.000         0.381     0.503\n",
      "x2             0.5192      0.037     14.202      0.000         0.447     0.591\n",
      "x3             0.2676      0.040      6.642      0.000         0.189     0.347\n",
      "==============================================================================\n",
      "Omnibus:                        3.643   Durbin-Watson:                   1.928\n",
      "Prob(Omnibus):                  0.162   Jarque-Bera (JB):                3.759\n",
      "Skew:                           0.086   Prob(JB):                        0.153\n",
      "Kurtosis:                       3.250   Cond. No.                         7.27\n",
      "==============================================================================\n",
      "\n",
      "Warnings:\n",
      "[1] Standard Errors assume that the covariance matrix of the errors is correctly specified.\n"
     ]
    }
   ],
   "source": [
    "print(results.summary())"
   ]
  },
  {
   "cell_type": "markdown",
   "metadata": {},
   "source": [
    " + 模型拟合指标：\n",
    "   + 因变量 y ：数学对我的未来有帮助\n",
    "   + 自变量：\n",
    "      + x0:目前是否觉得数学学起来吃力\n",
    "      + x1:数学老师经常提问我\n",
    "      + x2:数学老师经常表扬我\n",
    " + 模型的显著性检验结果（表中Prob值）\n",
    "   + P<0.001，有显著影响\n",
    " + 变量的系数（表中coef对应值）\n",
    "    + x0:0.4422\n",
    "    + x1:0.5192\n",
    "    + x2:0.2676\n",
    " + 各系数的显著性检验结果（表中P对应值）\n",
    "   + x0:p<0.05\n",
    "   + x1:p<0.05\n",
    "   + x2:p<0.05\n",
    "   + 由此看出三个变量对y均有显著影响\n",
    " + 对模型结果的解释\n",
    "    主观认为数学对未来有帮助，与自身学习数学是否吃力以及数学老师对待自己的态度成正相关，且数学老师经常提问表扬会产生更大的积极影响。"
   ]
  }
 ],
 "metadata": {
  "kernelspec": {
   "display_name": "Python 3",
   "language": "python",
   "name": "python3"
  },
  "language_info": {
   "codemirror_mode": {
    "name": "ipython",
    "version": 3
   },
   "file_extension": ".py",
   "mimetype": "text/x-python",
   "name": "python",
   "nbconvert_exporter": "python",
   "pygments_lexer": "ipython3",
   "version": "3.6.0"
  },
  "toc": {
   "base_numbering": 1,
   "nav_menu": {},
   "number_sections": true,
   "sideBar": true,
   "skip_h1_title": false,
   "title_cell": "Table of Contents",
   "title_sidebar": "Contents",
   "toc_cell": false,
   "toc_position": {},
   "toc_section_display": true,
   "toc_window_display": false
  }
 },
 "nbformat": 4,
 "nbformat_minor": 2
}
