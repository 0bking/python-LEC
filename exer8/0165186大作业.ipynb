{
 "cells": [
  {
   "cell_type": "markdown",
   "metadata": {},
   "source": [
    "## 课程论文"
   ]
  },
  {
   "cell_type": "markdown",
   "metadata": {},
   "source": [
    " 请务必交到exer8文件夹下，**谢绝交到master下**\n",
    "+ 请不要改动任何文件，拜托\n",
    "+ 请于12月30日前先在github上提交\n",
    "+ 请在元旦后提交纸质版，将本页面文件先打印为pdf格式，再去打印店付印\n",
    "+ 请将论文模板和本页面文件一起装订，前者放上面，本页面文件放下面\n",
    "+ 纸质版提交时间和地点请留意微信群通知"
   ]
  },
  {
   "cell_type": "markdown",
   "metadata": {},
   "source": [
    "请写一下姓名和学号：\n",
    "+ 姓名  姚迈\n",
    "+ 学号0165186"
   ]
  },
  {
   "cell_type": "markdown",
   "metadata": {},
   "source": [
    "### 样本均值分布的统计试验"
   ]
  },
  {
   "cell_type": "markdown",
   "metadata": {},
   "source": [
    "+ 请将CEPS.csv数据读入python\n",
    "+ 请从中随机抽取1000个数据\n",
    "+ 请根据问卷从数据中挑选两个连续型变量（likert量表可以近似看作连续变量）\n",
    "+ 计算这两个连续变量的均值\n",
    "+ 重复随机抽取—计算均值这个过程30次，得到两个变量30个样本均值\n",
    "+ 绘制这30个样本均值的直方图\n",
    "+ 计算均值的均值和标准误"
   ]
  },
  {
   "cell_type": "code",
   "execution_count": 4,
   "metadata": {
    "collapsed": false
   },
   "outputs": [
    {
     "name": "stdout",
     "output_type": "stream",
     "text": [
      "[1679.7079102020266, 1561.8290153923035, 1642.3951031188965, 1613.9229399414064, 1640.5756978683473, 1642.8932144699097, 1579.287264781952, 1619.9326614837646, 1597.263363986969, 1605.0719064636232, 1615.550961868286, 1600.4030298728942, 1643.578575164795, 1612.5697000961306, 1631.1727951889038, 1605.2960648498536, 1653.1054263687133, 1571.818078437805, 1649.8171837654113, 1675.0063608779908, 1688.6365826759338, 1568.9890272598266, 1624.2671068878174, 1639.125535209656, 1638.432968700409, 1559.0609690055849, 1665.1411881675722, 1570.2631468467712, 1655.3312853088382]\n"
     ]
    },
    {
     "data": {
      "image/png": "[encoded data removed]",
      "text/plain": [
       "<matplotlib.figure.Figure at 0xa879dd8>"
      ]
     },
     "metadata": {},
     "output_type": "display_data"
    },
    {
     "name": "stdout",
     "output_type": "stream",
     "text": [
      "第一个变量的均值是： 1568.3481688087463\n",
      "第一个变量的方差是： 1271.01785595\n",
      "第二个变量的均值是： -0.006285028748292955\n",
      "第二个变量的方差是： 0.000372969710642\n"
     ]
    }
   ],
   "source": [
    "import csv\n",
    "import random\n",
    "import matplotlib.pyplot as plt\n",
    "import numpy as np\n",
    "\n",
    "#读入csv文件\n",
    "csv_file = csv.reader(open('CEPS.csv','r'))\n",
    "\n",
    "#挑选的两个连续性变量：sweight, cog3pl\n",
    "sw = []\n",
    "co = []\n",
    "\n",
    "for line in csv_file:\n",
    "    sw.append(line[6])\n",
    "    co.append(line[10])\n",
    "sw.pop(0)\n",
    "co.pop(0)\n",
    "\n",
    "var1 = []\n",
    "var2 = []\n",
    "for i in range(1,30): #以下操作重复30次\n",
    "\n",
    "    #随机抽取1000组数据\n",
    "    sw_1000 = random.sample(sw, 1000)\n",
    "    co_1000 = random.sample(co, 1000)\n",
    "\n",
    "    #计算均值\n",
    "    sum = 0.0\n",
    "    for str in sw_1000:\n",
    "        num = float(str)\n",
    "        sum += num\n",
    "    sw_mean = sum / 1000\n",
    "    var1.append(sw_mean)\n",
    "    \n",
    "    sum = 0.0\n",
    "    for str in co_1000:\n",
    "        num = float(str)\n",
    "        sum += num\n",
    "    co_mean = sum / 1000\n",
    "    var2.append(co_mean)\n",
    "    \n",
    "print(var1)\n",
    "\n",
    "#绘制直方图\n",
    "\n",
    "plt.subplot(1,2,1)\n",
    "plt.hist(var1, bins = 30, label = ['var1'])\n",
    "plt.grid(True)\n",
    "plt.xlabel('value')\n",
    "plt.ylabel('frequency')\n",
    "plt.title('var1')\n",
    "\n",
    "plt.subplot(1,2,2)\n",
    "plt.hist(var2, bins = 30, label = ['var2'])\n",
    "plt.grid(True)\n",
    "plt.xlabel('value')\n",
    "plt.ylabel('frequency')\n",
    "plt.title('var2')\n",
    "plt.show()\n",
    "\n",
    "\n",
    "#计算均值和方差\n",
    "sum = 0.0\n",
    "for value in var1:\n",
    "    sum += value\n",
    "var1_mean = sum / 30\n",
    "var1_var = np.var(var1)\n",
    "\n",
    "sum = 0.0\n",
    "for value in var2:\n",
    "    sum += value\n",
    "var2_mean = sum / 30\n",
    "var2_var = np.var(var2)\n",
    "\n",
    "print(\"第一个变量的均值是：\", var1_mean)\n",
    "print(\"第一个变量的方差是：\", var1_var)\n",
    "\n",
    "print(\"第二个变量的均值是：\", var2_mean)\n",
    "print(\"第二个变量的方差是：\", var2_var)\n",
    "\n",
    "\n",
    "\n",
    "    \n",
    "    \n",
    "    \n",
    "\n",
    "\n",
    "\n",
    "\n"
   ]
  },
  {
   "cell_type": "markdown",
   "metadata": {},
   "source": [
    "### 回归分析"
   ]
  },
  {
   "cell_type": "markdown",
   "metadata": {},
   "source": [
    "+ 请从CEPS.csv数据里挑选若干变量建立回归方程，要求至少三个自变量\n",
    "    + 如，学生的学业成绩受认知水平、家庭收入的影响\n",
    "    + 考虑因变量和自变量间的实质关系，变量间关系应该是有意义\n",
    "    + 选择自变量时，注意变量的类型，如果是分类变量，需要进行编码\n",
    "+ 请报告回归方程的结果，需要包括：\n",
    "    + 模型拟合指标\n",
    "    + 模型的显著性检验结果\n",
    "    + 变量的系数\n",
    "    + 各系数的显著性检验结果\n",
    "    + 对模型结果的解释\n",
    "    "
   ]
  },
  {
   "cell_type": "code",
   "execution_count": 5,
   "metadata": {
    "collapsed": false
   },
   "outputs": [
    {
     "name": "stdout",
     "output_type": "stream",
     "text": [
      "                            OLS Regression Results                            \n",
      "==============================================================================\n",
      "Dep. Variable:                      y   R-squared:                       0.244\n",
      "Model:                            OLS   Adj. R-squared:                  0.244\n",
      "Method:                 Least Squares   F-statistic:                     2039.\n",
      "Date:                Sat, 29 Dec 2018   Prob (F-statistic):               0.00\n",
      "Time:                        22:50:45   Log-Likelihood:                -21368.\n",
      "No. Observations:               18944   AIC:                         4.274e+04\n",
      "Df Residuals:                   18940   BIC:                         4.277e+04\n",
      "Df Model:                           3                                         \n",
      "Covariance Type:            nonrobust                                         \n",
      "==============================================================================\n",
      "                 coef    std err          t      P>|t|      [95.0% Conf. Int.]\n",
      "------------------------------------------------------------------------------\n",
      "const         -1.1716      0.023    -51.790      0.000        -1.216    -1.127\n",
      "x1             0.0009      0.000      2.367      0.018         0.000     0.002\n",
      "x2             0.0094      0.000     35.483      0.000         0.009     0.010\n",
      "x3             0.0047      0.000     16.399      0.000         0.004     0.005\n",
      "==============================================================================\n",
      "Omnibus:                        2.570   Durbin-Watson:                   1.426\n",
      "Prob(Omnibus):                  0.277   Jarque-Bera (JB):                2.607\n",
      "Skew:                           0.010   Prob(JB):                        0.272\n",
      "Kurtosis:                       3.054   Cond. No.                         606.\n",
      "==============================================================================\n",
      "\n",
      "Warnings:\n",
      "[1] Standard Errors assume that the covariance matrix of the errors is correctly specified.\n",
      "[ -1.17163259e+00   9.40196747e-04   9.35737195e-03   4.68228690e-03]\n"
     ]
    }
   ],
   "source": [
    "import csv\n",
    "import numpy as np\n",
    "import matplotlib.pyplot as plt\n",
    "from itertools import islice\n",
    "import statsmodels.api as sm\n",
    "\n",
    "#读入csv文件\n",
    "csv_file = csv.reader(open('CEPS.csv','r'))\n",
    "\n",
    "\n",
    "#自变量：stcog, cog3pl, c19\n",
    "#因变量：sweigh\n",
    "Y = []\n",
    "X = [] #(stcog, cog3pl, c19)\n",
    "\n",
    "def isNull(str):\n",
    "    if str.strip()=='':\n",
    "        return 1\n",
    "    else:\n",
    "        return 0\n",
    "\n",
    "for line in islice(csv_file,1,None): #跳过第一行的变量名\n",
    "    tmp = []\n",
    "    if isNull(line[11]) or isNull(line[12]) or isNull(line[13]) or isNull(line[10]):\n",
    "        continue\n",
    "    tmp.append(float(line[11]))\n",
    "    tmp.append(float(line[12]))\n",
    "    tmp.append(float(line[13]))\n",
    "    X.append(tmp)\n",
    "    Y.append(float(line[10]))\n",
    "    \n",
    "\n",
    "X_np = np.array(X, dtype = float)\n",
    "Y_np = np.array(Y, dtype = float)\n",
    "\n",
    "X_np = sm.add_constant(X_np)\n",
    "est = sm.OLS(Y_np, X_np)\n",
    "est = est.fit()\n",
    "\n",
    "#系数显著性水平(t-statistic), 模型显著性水平(F-statistic)\n",
    "#拟合指标(MSE、R2_score)\n",
    "print(est.summary())\n",
    "\n",
    "#系数\n",
    "print(est.params)\n",
    "\n",
    "\n"
   ]
  },
  {
   "cell_type": "code",
   "execution_count": null,
   "metadata": {
    "collapsed": true
   },
   "outputs": [],
   "source": []
  }
 ],
 "metadata": {
  "kernelspec": {
   "display_name": "Python 3",
   "language": "python",
   "name": "python3"
  },
  "language_info": {
   "codemirror_mode": {
    "name": "ipython",
    "version": 3
   },
   "file_extension": ".py",
   "mimetype": "text/x-python",
   "name": "python",
   "nbconvert_exporter": "python",
   "pygments_lexer": "ipython3",
   "version": "3.6.0"
  },
  "toc": {
   "base_numbering": 1,
   "nav_menu": {},
   "number_sections": true,
   "sideBar": true,
   "skip_h1_title": false,
   "title_cell": "Table of Contents",
   "title_sidebar": "Contents",
   "toc_cell": false,
   "toc_position": {},
   "toc_section_display": true,
   "toc_window_display": false
  }
 },
 "nbformat": 4,
 "nbformat_minor": 2
}
