{
 "cells": [
  {
   "cell_type": "markdown",
   "metadata": {},
   "source": [
    "## 课程论文"
   ]
  },
  {
   "cell_type": "markdown",
   "metadata": {},
   "source": [
    " 请务必交到exer8文件夹下，**谢绝交到master下**\n",
    "+ 请不要改动任何文件，拜托\n",
    "+ 请于12月30日前先在github上提交\n",
    "+ 请在元旦后提交纸质版，将本页面文件先打印为pdf格式，再去打印店付印\n",
    "+ 请将论文模板和本页面文件一起装订，前者放上面，本页面文件放下面\n",
    "+ 纸质版提交时间和地点请留意微信群通知"
   ]
  },
  {
   "cell_type": "markdown",
   "metadata": {},
   "source": [
    "请写一下姓名和学号：\n",
    "+ 姓名  姚迈\n",
    "+ 学号0165186"
   ]
  },
  {
   "cell_type": "markdown",
   "metadata": {},
   "source": [
    "### 样本均值分布的统计试验"
   ]
  },
  {
   "cell_type": "markdown",
   "metadata": {},
   "source": [
    "+ 请将CEPS.csv数据读入python\n",
    "+ 请从中随机抽取1000个数据\n",
    "+ 请根据问卷从数据中挑选两个连续型变量（likert量表可以近似看作连续变量）\n",
    "+ 计算这两个连续变量的均值\n",
    "+ 重复随机抽取—计算均值这个过程30次，得到两个变量30个样本均值\n",
    "+ 绘制这30个样本均值的直方图\n",
    "+ 计算均值的均值和标准误"
   ]
  },
  {
   "cell_type": "code",
   "execution_count": 3,
   "metadata": {
    "collapsed": false
   },
   "outputs": [
    {
     "name": "stdout",
     "output_type": "stream",
     "text": [
      "[1599.8261475639342, 1646.6668660469056, 1590.563618331909, 1565.3500531654358, 1571.0429516181946, 1579.60485887146, 1609.3005931396485, 1605.7983840446473, 1598.174435501099, 1634.5111518592837, 1555.39214245224, 1595.798630630493, 1686.0926313552857, 1616.847307407379, 1591.2684790763856, 1691.3957591819762, 1572.8309040870668, 1594.8817576141357, 1673.1158568305968, 1565.5285422821048, 1615.401369018555, 1641.4236445846557, 1678.8690886192323, 1681.3657637939452, 1598.326192489624, 1533.4606218948363, 1630.4979469680786, 1598.760185688019, 1598.4035187721254]\n"
     ]
    },
    {
     "data": {
      "image/png": "[encoded data removed]",
      "text/plain": [
       "<matplotlib.figure.Figure at 0x2603320>"
      ]
     },
     "metadata": {},
     "output_type": "display_data"
    },
    {
     "name": "stdout",
     "output_type": "stream",
     "text": [
      "第一个变量的均值是： 1557.3499800963082\n",
      "第一个变量的方差是： 1658.06866847\n",
      "第二个变量的均值是： -0.0007438049274518579\n",
      "第二个变量的方差是： 0.000399189404523\n"
     ]
    }
   ],
   "source": [
    "import csv\n",
    "import random\n",
    "import matplotlib.pyplot as plt\n",
    "import numpy as np\n",
    "\n",
    "#读入csv文件\n",
    "csv_file = csv.reader(open('CEPS.csv','r'))\n",
    "\n",
    "#挑选的两个连续性变量：sweight, cog3pl\n",
    "sw = []\n",
    "co = []\n",
    "\n",
    "for line in csv_file:\n",
    "    sw.append(line[6])\n",
    "    co.append(line[10])\n",
    "sw.pop(0)\n",
    "co.pop(0)\n",
    "\n",
    "var1 = []\n",
    "var2 = []\n",
    "for i in range(1,30): #以下操作重复30次\n",
    "\n",
    "    #随机抽取1000组数据\n",
    "    sw_1000 = random.sample(sw, 1000)\n",
    "    co_1000 = random.sample(co, 1000)\n",
    "\n",
    "    #计算均值\n",
    "    sum = 0.0\n",
    "    for str in sw_1000:\n",
    "        num = float(str)\n",
    "        sum += num\n",
    "    sw_mean = sum / 1000\n",
    "    var1.append(sw_mean)\n",
    "    \n",
    "    sum = 0.0\n",
    "    for str in co_1000:\n",
    "        num = float(str)\n",
    "        sum += num\n",
    "    co_mean = sum / 1000\n",
    "    var2.append(co_mean)\n",
    "    \n",
    "print(var1)\n",
    "\n",
    "#绘制直方图\n",
    "\n",
    "plt.subplot(1,2,1)\n",
    "plt.hist(var1, bins = 30, label = ['var1'])\n",
    "plt.grid(True)\n",
    "plt.xlabel('value')\n",
    "plt.ylabel('frequency')\n",
    "plt.title('var1')\n",
    "\n",
    "plt.subplot(1,2,2)\n",
    "plt.hist(var2, bins = 30, label = ['var2'])\n",
    "plt.grid(True)\n",
    "plt.xlabel('value')\n",
    "plt.ylabel('frequency')\n",
    "plt.title('var2')\n",
    "plt.show()\n",
    "\n",
    "\n",
    "#计算均值和方差\n",
    "sum = 0.0\n",
    "for value in var1:\n",
    "    sum += value\n",
    "var1_mean = sum / 30\n",
    "var1_var = np.var(var1)\n",
    "\n",
    "sum = 0.0\n",
    "for value in var2:\n",
    "    sum += value\n",
    "var2_mean = sum / 30\n",
    "var2_var = np.var(var2)\n",
    "\n",
    "print(\"第一个变量的均值是：\", var1_mean)\n",
    "print(\"第一个变量的方差是：\", var1_var)\n",
    "\n",
    "print(\"第二个变量的均值是：\", var2_mean)\n",
    "print(\"第二个变量的方差是：\", var2_var)\n",
    "\n",
    "\n",
    "\n",
    "    \n",
    "    \n",
    "    \n",
    "\n",
    "\n",
    "\n",
    "\n"
   ]
  },
  {
   "cell_type": "markdown",
   "metadata": {},
   "source": [
    "### 回归分析"
   ]
  },
  {
   "cell_type": "markdown",
   "metadata": {},
   "source": [
    "+ 请从CEPS.csv数据里挑选若干变量建立回归方程，要求至少三个自变量\n",
    "    + 如，学生的学业成绩受认知水平、家庭收入的影响\n",
    "    + 考虑因变量和自变量间的实质关系，变量间关系应该是有意义\n",
    "    + 选择自变量时，注意变量的类型，如果是分类变量，需要进行编码\n",
    "+ 请报告回归方程的结果，需要包括：\n",
    "    + 模型拟合指标\n",
    "    + 模型的显著性检验结果\n",
    "    + 变量的系数\n",
    "    + 各系数的显著性检验结果\n",
    "    + 对模型结果的解释\n",
    "    "
   ]
  },
  {
   "cell_type": "code",
   "execution_count": 17,
   "metadata": {
    "collapsed": false
   },
   "outputs": [
    {
     "name": "stdout",
     "output_type": "stream",
     "text": [
      "                            OLS Regression Results                            \n",
      "==============================================================================\n",
      "Dep. Variable:                      y   R-squared:                       0.121\n",
      "Model:                            OLS   Adj. R-squared:                  0.120\n",
      "Method:                 Least Squares   F-statistic:                     858.1\n",
      "Date:                Thu, 03 Jan 2019   Prob (F-statistic):               0.00\n",
      "Time:                        11:33:32   Log-Likelihood:                -36044.\n",
      "No. Observations:               18789   AIC:                         7.210e+04\n",
      "Df Residuals:                   18785   BIC:                         7.213e+04\n",
      "Df Model:                           3                                         \n",
      "Covariance Type:            nonrobust                                         \n",
      "==============================================================================\n",
      "                 coef    std err          t      P>|t|      [95.0% Conf. Int.]\n",
      "------------------------------------------------------------------------------\n",
      "const          1.9965      0.098     20.360      0.000         1.804     2.189\n",
      "x1             0.0176      0.002     10.185      0.000         0.014     0.021\n",
      "x2             0.0285      0.002     17.149      0.000         0.025     0.032\n",
      "x3             0.0241      0.002     13.066      0.000         0.020     0.028\n",
      "==============================================================================\n",
      "Omnibus:                      653.335   Durbin-Watson:                   1.748\n",
      "Prob(Omnibus):                  0.000   Jarque-Bera (JB):              902.465\n",
      "Skew:                          -0.367   Prob(JB):                    1.08e-196\n",
      "Kurtosis:                       3.783   Cond. No.                         997.\n",
      "==============================================================================\n",
      "\n",
      "Warnings:\n",
      "[1] Standard Errors assume that the covariance matrix of the errors is correctly specified.\n",
      "[ 1.9964632   0.01763614  0.02853138  0.02406798]\n"
     ]
    }
   ],
   "source": [
    "import csv\n",
    "import numpy as np\n",
    "import matplotlib.pyplot as plt\n",
    "from itertools import islice\n",
    "import statsmodels.api as sm\n",
    "\n",
    "#读入csv文件\n",
    "csv_file = csv.reader(open('CEPS.csv','r'))\n",
    "\n",
    "\n",
    "#自变量：语文，英语，数学成绩\n",
    "#因变量：希望自己读的教育程度\n",
    "Y = []\n",
    "X = [] \n",
    "\n",
    "def isNull(str):\n",
    "    if str.strip()=='':\n",
    "        return 1\n",
    "    else:\n",
    "        return 0\n",
    "\n",
    "for line in islice(csv_file,1,None): #跳过第一行的变量名\n",
    "    tmp = []\n",
    "    if isNull(line[14]) or isNull(line[15]) or isNull(line[16]) or isNull(line[251]):\n",
    "        continue\n",
    "    tmp.append(float(line[14]))\n",
    "    tmp.append(float(line[15]))\n",
    "    tmp.append(float(line[16]))\n",
    "    X.append(tmp)\n",
    "    Y.append(float(line[251]))\n",
    "    \n",
    "\n",
    "X_np = np.array(X, dtype = float)\n",
    "Y_np = np.array(Y, dtype = float)\n",
    "\n",
    "X_np = sm.add_constant(X_np)\n",
    "est = sm.OLS(Y_np, X_np)\n",
    "est = est.fit()\n",
    "\n",
    "#系数显著性水平(t-statistic), 模型显著性水平(F-statistic)\n",
    "#拟合指标(MSE、R2_score)\n",
    "print(est.summary())\n",
    "\n",
    "#系数\n",
    "print(est.params)\n"
   ]
  },
  {
   "cell_type": "code",
   "execution_count": 5,
   "metadata": {
    "collapsed": false
   },
   "outputs": [
    {
     "ename": "SyntaxError",
     "evalue": "invalid character in identifier (<ipython-input-5-3dd6c8274426>, line 1)",
     "output_type": "error",
     "traceback": [
      "\u001b[0;36m  File \u001b[0;32m\"<ipython-input-5-3dd6c8274426>\"\u001b[0;36m, line \u001b[0;32m1\u001b[0m\n\u001b[0;31m    模型拟合指标：\u001b[0m\n\u001b[0m          ^\u001b[0m\n\u001b[0;31mSyntaxError\u001b[0m\u001b[0;31m:\u001b[0m invalid character in identifier\n"
     ]
    }
   ],
   "source": [
    "模型拟合指标：\n",
    " 拟合优度r平方=0.121.说明解释变量能解释解释变量的12.1%，拟合程度较差，\n",
    "·变量的系数： X1的系数为0.0176，X2的系数为0.0285，与因变量呈正相关。 X3的系数为0.0241，与因变量呈正相关。\n",
    "\n",
    "·各系数的显著性检验结果： X1,X2,X3的P值均小于0.05，说明它们的影响都是显著的。\n",
    "\n",
    "·对模型结果的解释： 线性回归模型为Y=0.0176X1+0.0285X2+0.0241X3+1.9965 X1每变动一个单位，因变量变动0.0176个单位；\n",
    "X2每变动一个单位，因变量变动0.0285个单位；X3每变动一个单位，因变量变动0.0241个单位\n",
    "模型拟合程度不好的原因：自变量成绩均为百分制的成绩，因变量是定序表量难以很好量化。"
   ]
  }
 ],
 "metadata": {
  "kernelspec": {
   "display_name": "Python 3",
   "language": "python",
   "name": "python3"
  },
  "language_info": {
   "codemirror_mode": {
    "name": "ipython",
    "version": 3
   },
   "file_extension": ".py",
   "mimetype": "text/x-python",
   "name": "python",
   "nbconvert_exporter": "python",
   "pygments_lexer": "ipython3",
   "version": "3.6.0"
  },
  "toc": {
   "base_numbering": 1,
   "nav_menu": {},
   "number_sections": true,
   "sideBar": true,
   "skip_h1_title": false,
   "title_cell": "Table of Contents",
   "title_sidebar": "Contents",
   "toc_cell": false,
   "toc_position": {},
   "toc_section_display": true,
   "toc_window_display": false
  }
 },
 "nbformat": 4,
 "nbformat_minor": 2
}
