{
 "cells": [
  {
   "cell_type": "markdown",
   "metadata": {},
   "source": [
    "## 第七次练习"
   ]
  },
  {
   "cell_type": "markdown",
   "metadata": {},
   "source": [
    "+ 请务必交到exer7文件夹下，**谢绝交到master下**\n",
    "+ 请不要改动任何文件，拜托\n",
    "+ 请在12月20日前提交。"
   ]
  },
  {
   "cell_type": "markdown",
   "metadata": {},
   "source": [
    "请写一下姓名和学号：\n",
    "+ 姓名  温高枫\n",
    "+ 学号  0165202"
   ]
  },
  {
   "cell_type": "code",
   "execution_count": 3,
   "metadata": {
    "collapsed": true
   },
   "outputs": [],
   "source": [
    "import numpy as np\n",
    "import pandas as pd\n",
    "import matplotlib.pyplot as plt\n",
    "import matplotlib"
   ]
  },
  {
   "cell_type": "code",
   "execution_count": 3,
   "metadata": {
    "collapsed": false
   },
   "outputs": [
    {
     "ename": "NameError",
     "evalue": "name '请参考下面命令将CEPS' is not defined",
     "output_type": "error",
     "traceback": [
      "\u001b[0;31m---------------------------------------------------------------------------\u001b[0m",
      "\u001b[0;31mNameError\u001b[0m                                 Traceback (most recent call last)",
      "\u001b[0;32m<ipython-input-3-6a01b7775bb6>\u001b[0m in \u001b[0;36m<module>\u001b[0;34m()\u001b[0m\n\u001b[0;32m----> 1\u001b[0;31m \u001b[0m请参考下面命令将CEPS\u001b[0m\u001b[1;33m.\u001b[0m\u001b[0mcsv数据读入python\u001b[0m\u001b[1;33m\u001b[0m\u001b[0m\n\u001b[0m",
      "\u001b[0;31mNameError\u001b[0m: name '请参考下面命令将CEPS' is not defined"
     ]
    }
   ],
   "source": [
    "请参考下面命令将CEPS.csv数据读入python"
   ]
  },
  {
   "cell_type": "code",
   "execution_count": 5,
   "metadata": {
    "collapsed": false
   },
   "outputs": [
    {
     "name": "stderr",
     "output_type": "stream",
     "text": [
      "E:\\anaconda3\\lib\\site-packages\\IPython\\core\\interactiveshell.py:2717: DtypeWarning: Columns (20,22,23,25,28,29,39,49,74,124,125,126,127,128,129,130,131,138,140,141,147,160,161,162,165,170,174,175,176,177,179,180,181,182,183,184,188,191,194,195,196,199,221,222,223,224,251,252,254,289,290,294,295,296) have mixed types. Specify dtype option on import or set low_memory=False.\n",
      "  interactivity=interactivity, compiler=compiler, result=result)\n"
     ]
    },
    {
     "data": {
      "text/html": [
       "<div>\n",
       "<table border=\"1\" class=\"dataframe\">\n",
       "  <thead>\n",
       "    <tr style=\"text-align: right;\">\n",
       "      <th></th>\n",
       "      <th>ids</th>\n",
       "      <th>clsids</th>\n",
       "      <th>schids</th>\n",
       "      <th>ctyids</th>\n",
       "      <th>frame</th>\n",
       "      <th>subsample</th>\n",
       "      <th>sweight</th>\n",
       "      <th>fall</th>\n",
       "      <th>grade9</th>\n",
       "      <th>stcog</th>\n",
       "      <th>...</th>\n",
       "      <th>steco_3c</th>\n",
       "      <th>stonly</th>\n",
       "      <th>stsib</th>\n",
       "      <th>stsibrank</th>\n",
       "      <th>stmedu</th>\n",
       "      <th>stfedu</th>\n",
       "      <th>stprhedu</th>\n",
       "      <th>stfdrunk</th>\n",
       "      <th>stprfight</th>\n",
       "      <th>stprrel</th>\n",
       "    </tr>\n",
       "  </thead>\n",
       "  <tbody>\n",
       "    <tr>\n",
       "      <th>0</th>\n",
       "      <td>1</td>\n",
       "      <td>1</td>\n",
       "      <td>1</td>\n",
       "      <td>1</td>\n",
       "      <td>3</td>\n",
       "      <td>3</td>\n",
       "      <td>218.738892</td>\n",
       "      <td>0</td>\n",
       "      <td>0</td>\n",
       "      <td>11</td>\n",
       "      <td>...</td>\n",
       "      <td>3</td>\n",
       "      <td>1</td>\n",
       "      <td></td>\n",
       "      <td></td>\n",
       "      <td>3</td>\n",
       "      <td>3</td>\n",
       "      <td>3</td>\n",
       "      <td>1</td>\n",
       "      <td>1</td>\n",
       "      <td>2</td>\n",
       "    </tr>\n",
       "    <tr>\n",
       "      <th>1</th>\n",
       "      <td>2</td>\n",
       "      <td>1</td>\n",
       "      <td>1</td>\n",
       "      <td>1</td>\n",
       "      <td>3</td>\n",
       "      <td>3</td>\n",
       "      <td>216.518234</td>\n",
       "      <td>0</td>\n",
       "      <td>0</td>\n",
       "      <td>17</td>\n",
       "      <td>...</td>\n",
       "      <td>2</td>\n",
       "      <td>1</td>\n",
       "      <td></td>\n",
       "      <td></td>\n",
       "      <td>8</td>\n",
       "      <td>5</td>\n",
       "      <td>8</td>\n",
       "      <td>1</td>\n",
       "      <td>1</td>\n",
       "      <td>2</td>\n",
       "    </tr>\n",
       "    <tr>\n",
       "      <th>2</th>\n",
       "      <td>3</td>\n",
       "      <td>1</td>\n",
       "      <td>1</td>\n",
       "      <td>1</td>\n",
       "      <td>3</td>\n",
       "      <td>3</td>\n",
       "      <td>216.518234</td>\n",
       "      <td>0</td>\n",
       "      <td>0</td>\n",
       "      <td>12</td>\n",
       "      <td>...</td>\n",
       "      <td>2</td>\n",
       "      <td>2</td>\n",
       "      <td>1</td>\n",
       "      <td>3</td>\n",
       "      <td>3</td>\n",
       "      <td>3</td>\n",
       "      <td>3</td>\n",
       "      <td>1</td>\n",
       "      <td>1</td>\n",
       "      <td>1</td>\n",
       "    </tr>\n",
       "    <tr>\n",
       "      <th>3</th>\n",
       "      <td>4</td>\n",
       "      <td>1</td>\n",
       "      <td>1</td>\n",
       "      <td>1</td>\n",
       "      <td>3</td>\n",
       "      <td>3</td>\n",
       "      <td>218.738892</td>\n",
       "      <td>0</td>\n",
       "      <td>0</td>\n",
       "      <td>10</td>\n",
       "      <td>...</td>\n",
       "      <td>2</td>\n",
       "      <td>1</td>\n",
       "      <td></td>\n",
       "      <td></td>\n",
       "      <td>6</td>\n",
       "      <td>7</td>\n",
       "      <td>7</td>\n",
       "      <td>1</td>\n",
       "      <td>1</td>\n",
       "      <td>2</td>\n",
       "    </tr>\n",
       "    <tr>\n",
       "      <th>4</th>\n",
       "      <td>5</td>\n",
       "      <td>1</td>\n",
       "      <td>1</td>\n",
       "      <td>1</td>\n",
       "      <td>3</td>\n",
       "      <td>3</td>\n",
       "      <td>217.553040</td>\n",
       "      <td>0</td>\n",
       "      <td>0</td>\n",
       "      <td>10</td>\n",
       "      <td>...</td>\n",
       "      <td>3</td>\n",
       "      <td>1</td>\n",
       "      <td></td>\n",
       "      <td></td>\n",
       "      <td>7</td>\n",
       "      <td>8</td>\n",
       "      <td>8</td>\n",
       "      <td>1</td>\n",
       "      <td>1</td>\n",
       "      <td>2</td>\n",
       "    </tr>\n",
       "  </tbody>\n",
       "</table>\n",
       "<p>5 rows × 300 columns</p>\n",
       "</div>"
      ],
      "text/plain": [
       "   ids  clsids  schids  ctyids  frame  subsample     sweight  fall  grade9  \\\n",
       "0    1       1       1       1      3          3  218.738892     0       0   \n",
       "1    2       1       1       1      3          3  216.518234     0       0   \n",
       "2    3       1       1       1      3          3  216.518234     0       0   \n",
       "3    4       1       1       1      3          3  218.738892     0       0   \n",
       "4    5       1       1       1      3          3  217.553040     0       0   \n",
       "\n",
       "   stcog   ...    steco_3c stonly stsib stsibrank stmedu stfedu stprhedu  \\\n",
       "0     11   ...           3      1                      3      3        3   \n",
       "1     17   ...           2      1                      8      5        8   \n",
       "2     12   ...           2      2     1         3      3      3        3   \n",
       "3     10   ...           2      1                      6      7        7   \n",
       "4     10   ...           3      1                      7      8        8   \n",
       "\n",
       "  stfdrunk stprfight stprrel  \n",
       "0        1         1       2  \n",
       "1        1         1       2  \n",
       "2        1         1       1  \n",
       "3        1         1       2  \n",
       "4        1         1       2  \n",
       "\n",
       "[5 rows x 300 columns]"
      ]
     },
     "execution_count": 5,
     "metadata": {},
     "output_type": "execute_result"
    }
   ],
   "source": [
    "df = pd.read_csv('CEPS.csv',encoding='gb2312')\n",
    "df.head()\n"
   ]
  },
  {
   "cell_type": "markdown",
   "metadata": {},
   "source": [
    "下面的图都至少需要在图上标注：\n",
    "+ 图标题\n",
    "+ x轴标题\n",
    "+ y轴标题\n",
    "+ 适当修改x轴或者y轴的刻度及标签，使之清晰美观\n",
    "+ 根据需要添加图例"
   ]
  },
  {
   "cell_type": "markdown",
   "metadata": {},
   "source": [
    "### 散点图\n",
    "反映期中考试标准化成绩语文（stdchn）和期中考试标准化成绩数学（stdmat）的相关关系"
   ]
  },
  {
   "cell_type": "code",
   "execution_count": 15,
   "metadata": {
    "collapsed": false
   },
   "outputs": [
    {
     "name": "stderr",
     "output_type": "stream",
     "text": [
      "E:\\anaconda3\\lib\\site-packages\\IPython\\core\\interactiveshell.py:2717: DtypeWarning: Columns (20,22,23,25,28,29,39,49,74,124,125,126,127,128,129,130,131,138,140,141,147,160,161,162,165,170,174,175,176,177,179,180,181,182,183,184,188,191,194,195,196,199,221,222,223,224,251,252,254,289,290,294,295,296) have mixed types. Specify dtype option on import or set low_memory=False.\n",
      "  interactivity=interactivity, compiler=compiler, result=result)\n"
     ]
    },
    {
     "data": {
      "image/png": "[encoded data removed]",
      "text/plain": [
       "<matplotlib.figure.Figure at 0x19c26dca390>"
      ]
     },
     "metadata": {},
     "output_type": "display_data"
    }
   ],
   "source": [
    "sentinels = {'stdchn': [' '], 'stdmat': [' ']}\n",
    "df = pd.read_csv('CEPS.csv',encoding='gb2312', na_values=sentinels)\n",
    "df = df.head(160)\n",
    "x1=df['stdchn']\n",
    "x=[]\n",
    "for x2 in x1:\n",
    "    x.append(float(x2))\n",
    "y=[]\n",
    "y1=df['stdmat']\n",
    "for y2 in y1:\n",
    "    y.append(float(y2))\n",
    "fig=plt.figure()\n",
    "ax1=fig.add_subplot(111)\n",
    "plt.title('语文与数学成绩相关散点图', fontsize=20)\n",
    "plt.xlabel('语文成绩', fontsize=14)\n",
    "plt.ylabel('数学成绩', fontsize=14)\n",
    "plt.scatter(x, y)\n",
    "plt.show()"
   ]
  },
  {
   "cell_type": "markdown",
   "metadata": {},
   "source": [
    "### 饼图\n",
    "对问题“你是独生子女吗”(b01)的回答有“是”和“否”两种回答，相应的数字分别是1和2。请画一个饼图反映二者的比例。"
   ]
  },
  {
   "cell_type": "code",
   "execution_count": 16,
   "metadata": {
    "collapsed": false
   },
   "outputs": [
    {
     "name": "stderr",
     "output_type": "stream",
     "text": [
      "E:\\anaconda3\\lib\\site-packages\\IPython\\core\\interactiveshell.py:2717: DtypeWarning: Columns (20,22,23,25,28,29,39,74,124,125,126,127,128,129,130,131,138,140,141,147,160,161,162,165,170,174,175,176,177,179,180,181,182,183,184,188,191,194,195,196,199,221,222,223,224,251,252,254,289,290,294,295,296) have mixed types. Specify dtype option on import or set low_memory=False.\n",
      "  interactivity=interactivity, compiler=compiler, result=result)\n"
     ]
    },
    {
     "data": {
      "image/png": "[encoded data removed]",
      "text/plain": [
       "<matplotlib.figure.Figure at 0x19c268a4940>"
      ]
     },
     "metadata": {},
     "output_type": "display_data"
    }
   ],
   "source": [
    "sentinels = {'b01': [' ']}\n",
    "df = pd.read_csv('CEPS.csv',encoding='gb2312', na_values=sentinels)\n",
    "df = df.head(160)\n",
    "x1=df['b01']\n",
    "x=[]\n",
    "for x2 in x1:\n",
    "    x.append(float(x2))\n",
    "x3=x.count(1)\n",
    "x4=x.count(2)\n",
    "sizes = [x3,x4]\n",
    "fig = plt.figure()\n",
    "ax2=fig.add_subplot(111)\n",
    "plt.pie(sizes,labels=['是','否'],autopct='%1.2f%%', startangle=90)\n",
    "plt.title(\"是否独生子女\", fontsize=20)\n",
    "plt.axis('equal')\n",
    "plt.show()"
   ]
  },
  {
   "cell_type": "markdown",
   "metadata": {},
   "source": [
    "### 直方图\n",
    "反映变量“每天晚上睡多长时间-小时”(b18a)的分布情况。"
   ]
  },
  {
   "cell_type": "code",
   "execution_count": 17,
   "metadata": {
    "collapsed": false
   },
   "outputs": [
    {
     "name": "stderr",
     "output_type": "stream",
     "text": [
      "E:\\anaconda3\\lib\\site-packages\\IPython\\core\\interactiveshell.py:2717: DtypeWarning: Columns (20,22,23,25,28,29,39,49,74,124,125,126,127,128,129,130,131,138,140,141,147,160,161,162,165,170,174,175,176,177,179,180,181,182,183,184,188,191,194,195,196,199,221,222,223,224,251,252,254,289,290,294,295,296) have mixed types. Specify dtype option on import or set low_memory=False.\n",
      "  interactivity=interactivity, compiler=compiler, result=result)\n"
     ]
    },
    {
     "data": {
      "image/png": "[encoded data removed]",
      "text/plain": [
       "<matplotlib.figure.Figure at 0x19c26243438>"
      ]
     },
     "metadata": {},
     "output_type": "display_data"
    }
   ],
   "source": [
    "sentinels = {'b18a': [' ','15','16','17','18','19', '20', '21', '22', '23', '24']}\n",
    "df = pd.read_csv('CEPS.csv',encoding='gb2312', na_values=sentinels)\n",
    "df = df.head(160)\n",
    "x1=df['b18a']\n",
    "x=[]\n",
    "for x2 in x1:\n",
    "    x.append(float(x2))\n",
    "a1=x.count(4)+x.count(3)+x.count(2)+x.count(1)+x.count(0)\n",
    "a2=x.count(5)\n",
    "a3=x.count(6)\n",
    "a4=x.count(7)\n",
    "a5=x.count(8)\n",
    "a6=x.count(9)\n",
    "a7=x.count(10)+x.count(11)+x.count(12)+x.count(13)+x.count(14)\n",
    "fig3, ax3 = plt.subplots()\n",
    "num_list = [a1,a2,a3,a4,a5,a6,a7]\n",
    "time_list = ['5', '6',\"7\",'8','9','10']\n",
    "rects=plt.bar(range(len(num_list)), num_list)\n",
    "i=0\n",
    "for rect in rects:\n",
    "    height = rect.get_height()\n",
    "    plt.text(rect.get_x() + rect.get_width() / 2, height,num_list[i], ha='center', va='bottom')\n",
    "    i+=1\n",
    "index=[0.5,1.5,2.5,3.5,4.5,5.5,6.5]\n",
    "plt.xticks(index, time_list)\n",
    "plt.title(\"睡眠时间\", fontsize=20)\n",
    "plt.ylabel(\"频数\", fontsize=14) \n",
    "plt.xlabel(\"睡眠时间\", fontsize=14)\n",
    "plt.show()"
   ]
  },
  {
   "cell_type": "markdown",
   "metadata": {},
   "source": [
    "### 柱图\n",
    "反映变量\"你妈妈是做什么工作的\"(b08a)的职业分布情况，数字和编码关系如下：\n",
    "\n",
    "+ 1\t国家机关事业单位领导与工作人员\n",
    "+ 2\t企业/公司中高级管理人员\n",
    "+ 3\t教师、工程师、医生、律师\n",
    "+ 4\t技术工人（包括司机）\n",
    "+ 5\t生产与制造业一般职工\n",
    "+ 6\t商业与服务业一般职工\n",
    "+ 7\t个体户\n",
    "+ 8\t农民\n",
    "+ 9 无业、失业、下岗\n"
   ]
  },
  {
   "cell_type": "code",
   "execution_count": 18,
   "metadata": {
    "collapsed": false
   },
   "outputs": [
    {
     "name": "stderr",
     "output_type": "stream",
     "text": [
      "E:\\anaconda3\\lib\\site-packages\\IPython\\core\\interactiveshell.py:2717: DtypeWarning: Columns (20,22,23,25,28,29,39,49,74,124,125,126,127,128,129,130,131,138,140,141,147,160,161,162,165,170,174,175,176,177,179,180,181,182,183,184,188,191,194,195,196,199,221,222,223,224,251,252,254,289,290,294,295,296) have mixed types. Specify dtype option on import or set low_memory=False.\n",
      "  interactivity=interactivity, compiler=compiler, result=result)\n"
     ]
    },
    {
     "data": {
      "image/png": "[encoded data removed]",
      "text/plain": [
       "<matplotlib.figure.Figure at 0x19c26e21668>"
      ]
     },
     "metadata": {},
     "output_type": "display_data"
    }
   ],
   "source": [
    "sentinels = {'b08a': [' ']}\n",
    "df = pd.read_csv('CEPS.csv',encoding='gb2312', na_values=sentinels)\n",
    "df = df.head(160)\n",
    "x1=df['b08a']\n",
    "x=[]\n",
    "for x2 in x1:\n",
    "    x2=float(x2)\n",
    "    x.append(x2)\n",
    "a1=x.count(1)\n",
    "a2=x.count(2)\n",
    "a3=x.count(3)\n",
    "a4=x.count(4)\n",
    "a5=x.count(5)\n",
    "a6=x.count(6)\n",
    "a7=x.count(7)\n",
    "a8=x.count(8)\n",
    "a9=x.count(9)\n",
    "name_list=['国家机关事业单位领导与工作人员','企业/公司中高级管理人员',\n",
    "'教师、工程师、医生、律师','技术工人（包括司机）','生产与制造业一般职工',\n",
    "'商业与服务业一般职工','个体户','农民','无业、失业、下岗'] \n",
    "num_list = [a1,a2,a3,a4,a5,a6,a7,a8,a9]\n",
    "plt.title(\"职业\", fontsize=20)\n",
    "plt.xlabel('频数', fontsize=14)\n",
    "plt.barh(range(len(num_list)), num_list,tick_label = name_list)\n",
    "plt.show()"
   ]
  },
  {
   "cell_type": "code",
   "execution_count": null,
   "metadata": {
    "collapsed": true
   },
   "outputs": [],
   "source": []
  },
  {
   "cell_type": "code",
   "execution_count": null,
   "metadata": {
    "collapsed": true
   },
   "outputs": [],
   "source": []
  },
  {
   "cell_type": "code",
   "execution_count": null,
   "metadata": {
    "collapsed": true
   },
   "outputs": [],
   "source": []
  },
  {
   "cell_type": "code",
   "execution_count": null,
   "metadata": {
    "collapsed": true
   },
   "outputs": [],
   "source": []
  },
  {
   "cell_type": "code",
   "execution_count": null,
   "metadata": {
    "collapsed": true
   },
   "outputs": [],
   "source": []
  }
 ],
 "metadata": {
  "kernelspec": {
   "display_name": "Python 3",
   "language": "python",
   "name": "python3"
  },
  "language_info": {
   "codemirror_mode": {
    "name": "ipython",
    "version": 3
   },
   "file_extension": ".py",
   "mimetype": "text/x-python",
   "name": "python",
   "nbconvert_exporter": "python",
   "pygments_lexer": "ipython3",
   "version": "3.6.0"
  },
  "toc": {
   "base_numbering": 1,
   "nav_menu": {},
   "number_sections": true,
   "sideBar": true,
   "skip_h1_title": false,
   "title_cell": "Table of Contents",
   "title_sidebar": "Contents",
   "toc_cell": false,
   "toc_position": {},
   "toc_section_display": true,
   "toc_window_display": false
  }
 },
 "nbformat": 4,
 "nbformat_minor": 2
}
